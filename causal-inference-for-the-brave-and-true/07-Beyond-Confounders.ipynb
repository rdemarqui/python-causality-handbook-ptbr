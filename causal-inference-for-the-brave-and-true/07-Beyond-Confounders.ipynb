{
 "cells": [
  {
   "cell_type": "markdown",
   "metadata": {},
   "source": [
    "# 07 - Além dos Confundidores\n",
    "\n",
    "## Controles Eficazes\n",
    "\n",
    "Já vimos como a adição de controles adicionais ao nosso modelo de regressão pode ajudar a identificar o efeito causal. Se o controle for uma variável confundidora, adicioná-lo ao modelo não é apenas algo bom de se fazer, mas uma exigência. Quando os incautos veem isso, a resposta natural é incluir tudo o que podem medir no modelo. No mundo atual de big data, isso poderia facilmente ultrapassar mais de 1000 variáveis. Como se constata, isso não apenas é desnecessário, mas pode ser prejudicial para a identificação causal. Agora, vamos direcionar nossa atenção para controles que não são variáveis confundidoras. Primeiro, vamos dar uma olhada nos bons controles. Depois, vamos aprofundar nos controles prejudiciais.\n",
    "\n",
    "Como exemplo motivador, suponha que você seja um cientista de dados na equipe de cobranças de uma fintech. Sua próxima tarefa é entender o impacto do envio de um e-mail pedindo às pessoas que negociem suas dívidas. Sua variável de resposta é o valor dos pagamentos dos clientes em atraso.\n",
    "\n",
    "Para responder a essa pergunta, sua equipe seleciona aleatoriamente 5000 clientes de sua base de clientes inadimplentes para realizar um teste aleatório. Para cada cliente, você joga uma moeda. Se der cara, o cliente recebe o e-mail; caso contrário, é deixado como controle. Com esse teste, você espera descobrir quanto dinheiro extra o e-mail gera."
   ]
  },
  {
   "cell_type": "code",
   "execution_count": 1,
   "metadata": {
    "ExecuteTime": {
     "end_time": "2023-07-27T13:13:22.137169Z",
     "start_time": "2023-07-27T13:13:20.239916Z"
    },
    "tags": [
     "hide-input"
    ]
   },
   "outputs": [],
   "source": [
    "import warnings\n",
    "warnings.filterwarnings('ignore')\n",
    "\n",
    "import pandas as pd\n",
    "import numpy as np\n",
    "from scipy import stats\n",
    "from matplotlib import style\n",
    "import seaborn as sns\n",
    "from matplotlib import pyplot as plt\n",
    "import statsmodels.formula.api as smf\n",
    "import graphviz as gr\n",
    "\n",
    "style.use(\"fivethirtyeight\")"
   ]
  },
  {
   "cell_type": "code",
   "execution_count": 2,
   "metadata": {
    "ExecuteTime": {
     "end_time": "2023-07-27T13:13:22.154032Z",
     "start_time": "2023-07-27T13:13:22.138788Z"
    }
   },
   "outputs": [
    {
     "data": {
      "text/html": [
       "<div>\n",
       "<style scoped>\n",
       "    .dataframe tbody tr th:only-of-type {\n",
       "        vertical-align: middle;\n",
       "    }\n",
       "\n",
       "    .dataframe tbody tr th {\n",
       "        vertical-align: top;\n",
       "    }\n",
       "\n",
       "    .dataframe thead th {\n",
       "        text-align: right;\n",
       "    }\n",
       "</style>\n",
       "<table border=\"1\" class=\"dataframe\">\n",
       "  <thead>\n",
       "    <tr style=\"text-align: right;\">\n",
       "      <th></th>\n",
       "      <th>payments</th>\n",
       "      <th>email</th>\n",
       "      <th>opened</th>\n",
       "      <th>agreement</th>\n",
       "      <th>credit_limit</th>\n",
       "      <th>risk_score</th>\n",
       "    </tr>\n",
       "  </thead>\n",
       "  <tbody>\n",
       "    <tr>\n",
       "      <th>0</th>\n",
       "      <td>740</td>\n",
       "      <td>1</td>\n",
       "      <td>1.0</td>\n",
       "      <td>0.0</td>\n",
       "      <td>2348.495260</td>\n",
       "      <td>0.666752</td>\n",
       "    </tr>\n",
       "    <tr>\n",
       "      <th>1</th>\n",
       "      <td>580</td>\n",
       "      <td>1</td>\n",
       "      <td>1.0</td>\n",
       "      <td>1.0</td>\n",
       "      <td>334.111969</td>\n",
       "      <td>0.207395</td>\n",
       "    </tr>\n",
       "    <tr>\n",
       "      <th>2</th>\n",
       "      <td>600</td>\n",
       "      <td>1</td>\n",
       "      <td>1.0</td>\n",
       "      <td>1.0</td>\n",
       "      <td>1360.660722</td>\n",
       "      <td>0.550479</td>\n",
       "    </tr>\n",
       "    <tr>\n",
       "      <th>3</th>\n",
       "      <td>770</td>\n",
       "      <td>0</td>\n",
       "      <td>0.0</td>\n",
       "      <td>0.0</td>\n",
       "      <td>1531.828576</td>\n",
       "      <td>0.560488</td>\n",
       "    </tr>\n",
       "    <tr>\n",
       "      <th>4</th>\n",
       "      <td>660</td>\n",
       "      <td>0</td>\n",
       "      <td>0.0</td>\n",
       "      <td>0.0</td>\n",
       "      <td>979.855647</td>\n",
       "      <td>0.455140</td>\n",
       "    </tr>\n",
       "  </tbody>\n",
       "</table>\n",
       "</div>"
      ],
      "text/plain": [
       "   payments  email  opened  agreement  credit_limit  risk_score\n",
       "0       740      1     1.0        0.0   2348.495260    0.666752\n",
       "1       580      1     1.0        1.0    334.111969    0.207395\n",
       "2       600      1     1.0        1.0   1360.660722    0.550479\n",
       "3       770      0     0.0        0.0   1531.828576    0.560488\n",
       "4       660      0     0.0        0.0    979.855647    0.455140"
      ]
     },
     "execution_count": 2,
     "metadata": {},
     "output_type": "execute_result"
    }
   ],
   "source": [
    "data = pd.read_csv(\"./data/collections_email.csv\")\n",
    "data.head()"
   ]
  },
  {
   "cell_type": "markdown",
   "metadata": {},
   "source": [
    "Dado que os dados são aleatórios, você sabe que uma simples diferença nas médias estima o Efeito Médio do Tratamento. Em outras palavras, nada pode ter causado o tratamento além da randomização, então os resultados potenciais são independentes do tratamento: $(Y_0, Y_1)\\perp T$.\n",
    "\n",
    "$\n",
    "ATE = E[Y|T=1] - E[Y|T=0]\n",
    "$\n",
    "\n",
    "Como você é esperto e deseja construir um intervalo de confiança em torno de sua estimativa, você utiliza uma regressão linear."
   ]
  },
  {
   "cell_type": "code",
   "execution_count": 3,
   "metadata": {
    "ExecuteTime": {
     "end_time": "2023-07-27T13:13:22.176128Z",
     "start_time": "2023-07-27T13:13:22.157300Z"
    }
   },
   "outputs": [
    {
     "name": "stdout",
     "output_type": "stream",
     "text": [
      "Difference in means: -0.6202804021329484\n"
     ]
    },
    {
     "data": {
      "text/html": [
       "<table class=\"simpletable\">\n",
       "<tr>\n",
       "      <td></td>         <th>coef</th>     <th>std err</th>      <th>t</th>      <th>P>|t|</th>  <th>[0.025</th>    <th>0.975]</th>  \n",
       "</tr>\n",
       "<tr>\n",
       "  <th>Intercept</th> <td>  669.9764</td> <td>    2.061</td> <td>  325.116</td> <td> 0.000</td> <td>  665.937</td> <td>  674.016</td>\n",
       "</tr>\n",
       "<tr>\n",
       "  <th>email</th>     <td>   -0.6203</td> <td>    2.941</td> <td>   -0.211</td> <td> 0.833</td> <td>   -6.387</td> <td>    5.146</td>\n",
       "</tr>\n",
       "</table>"
      ],
      "text/plain": [
       "<class 'statsmodels.iolib.table.SimpleTable'>"
      ]
     },
     "execution_count": 3,
     "metadata": {},
     "output_type": "execute_result"
    }
   ],
   "source": [
    "print(\"Difference in means:\",\n",
    "      data.query(\"email==1\")[\"payments\"].mean() - data.query(\"email==0\")[\"payments\"].mean())\n",
    "\n",
    "model = smf.ols('payments ~ email', data=data).fit()\n",
    "model.summary().tables[1]"
   ]
  },
  {
   "cell_type": "markdown",
   "metadata": {},
   "source": [
    "Infelizmente, o Efeito Médio do Tratamento estimado é -0.62, o que é bastante estranho. Como o envio de um e-mail pode fazer com que clientes inadimplentes paguem menos do que a média? Ainda assim, o valor-p é tão alto que isso provavelmente não significa nada. O que você deve fazer agora? Voltar para sua equipe de cabeça baixa e dizer que o teste é inconclusivo e que precisa de mais dados? Não tão rápido.\n",
    "\n",
    "Observe como seus dados possuem outras colunas interessantes. Por exemplo, `credit_limit` representa o limite de crédito do cliente antes de ele ficar inadimplente. `risk_score` corresponde ao risco estimado do cliente antes do envio do e-mail. Faz sentido pensar que o limite de crédito e o risco são provavelmente bons preditores de pagamentos. Mas como isso pode ser útil?\n",
    "\n",
    "Primeiro, vamos entender por que podemos falhar em encontrar significância estatística em um tratamento, mesmo quando ele está presente. Pode ser que, como neste caso, o tratamento tenha muito pouco impacto no resultado. Se você pensar a respeito, o que leva as pessoas a pagarem suas dívidas são, em grande parte, fatores fora do controle do departamento de cobranças. As pessoas pagam suas dívidas porque conseguem um novo emprego, gerenciam suas finanças, têm renda, e assim por diante. Em termos estatísticos, podemos dizer que **a variabilidade dos pagamentos é explicada muito mais por outros fatores do que pelo e-mail**.\n",
    "\n",
    "Para obter uma compreensão visual disso, podemos plotar os pagamentos em relação à variável de tratamento email. Também plotamos a linha ajustada do modelo acima em vermelho. Para auxiliar na visualização, adicionei um pouco de ruído à variável email para que ela não fique concentrada em zero ou um."
   ]
  },
  {
   "cell_type": "code",
   "execution_count": 4,
   "metadata": {
    "ExecuteTime": {
     "end_time": "2023-07-27T13:13:22.300753Z",
     "start_time": "2023-07-27T13:13:22.179412Z"
    },
    "tags": [
     "hide-input"
    ]
   },
   "outputs": [
    {
     "data": {
      "image/png": "[encoded data removed]",
      "text/plain": [
       "<Figure size 432x288 with 1 Axes>"
      ]
     },
     "metadata": {
      "needs_background": "light"
     },
     "output_type": "display_data"
    }
   ],
   "source": [
    "sns.scatterplot(x=\"email\", y=\"payments\", \n",
    "                alpha=0.8,\n",
    "                data=data.assign(email=data[\"email\"] + np.random.normal(0, 0.01, size=len(data[\"email\"]))))\n",
    "plt.plot(np.linspace(-0.2, 1.2), model.params[0] + np.linspace(-1, 2) * model.params[1], c=\"C1\")\n",
    "plt.xlabel(\"Email\")\n",
    "plt.ylabel(\"Payments\");"
   ]
  },
  {
   "cell_type": "markdown",
   "metadata": {},
   "source": [
    "Podemos observar como os pagamentos variam drasticamente em um único grupo de tratamento. Visualmente, parece que estão oscilando de um pouco abaixo de 400 a 1000 em ambos os grupos. Se o impacto do e-mail estiver na ordem de, digamos, 5,00 ou 10,00 R$, não é de surpreender que seja difícil identificá-lo em meio a toda essa variabilidade.\n",
    "\n",
    "Felizmente, a regressão pode nos ajudar a reduzir essa variabilidade. O truque é usar controles adicionais. **Se uma variável é um bom preditor do resultado, ela explicará grande parte de sua variância**. Se o risco e o limite de crédito são bons preditores de pagamento, podemos controlá-los para facilitar a identificação do impacto do e-mail nos pagamentos. Se lembrarmos como a regressão funciona, isso tem uma explicação intuitiva. Adicionar variáveis extras a uma regressão significa mantê-las constantes ao analisar o tratamento. Portanto, o raciocínio é o seguinte: se olharmos para níveis semelhantes de risco e limite de crédito, a variância da variável de resposta `payments` deve ser menor. Ou, em outras palavras, se o risco e o limite de crédito preveem muito bem os pagamentos, clientes com risco e limite de crédito semelhantes também devem ter níveis de pagamento semelhantes, portanto, com menos variabilidade.\n",
    "\n",
    "![img](./data/img/beyond-conf/y-pred.png)\n",
    "\n",
    "Para demonstrar isso, recorreremos à abordagem de separar a regressão em 2 etapas. Primeiro, vamos regredir o tratamento, email, e o resultado, pagamentos, nos controles adicionais, limite de crédito e pontuação de risco. Em segundo lugar, vamos regredir o resíduo do tratamento nos resíduos dos pagamentos, ambos obtidos na etapa 1. (Isso é puramente pedagógico, na prática você não precisará passar por toda essa complicação)."
   ]
  },
  {
   "cell_type": "code",
   "execution_count": 5,
   "metadata": {
    "ExecuteTime": {
     "end_time": "2023-07-27T13:13:22.329602Z",
     "start_time": "2023-07-27T13:13:22.305897Z"
    }
   },
   "outputs": [],
   "source": [
    "model_email = smf.ols('email ~ credit_limit + risk_score', data=data).fit()\n",
    "model_payments = smf.ols('payments ~ credit_limit + risk_score', data=data).fit()\n",
    "\n",
    "residuals = pd.DataFrame(dict(res_payments=model_payments.resid, res_email=model_email.resid))\n",
    "\n",
    "model_treatment = smf.ols('res_payments ~ res_email', data=residuals).fit()"
   ]
  },
  {
   "cell_type": "markdown",
   "metadata": {},
   "source": [
    "Isso reduz a variância da variável dependente. Ao regredir os pagamentos no limite de crédito e no risco e obter os resíduos para este modelo, estamos criando uma nova variável dependente com muito menos variabilidade do que a original. O último modelo também revela o `ATE` com uma estimativa válida do erro padrão.\n",
    "\n",
    "Apenas por curiosidade, também podemos verificar que o modelo que prevê o tratamento não deve ser capaz de reduzir a variância. Isso ocorre porque o e-mail é, por design, aleatório, então nada pode prevê-lo."
   ]
  },
  {
   "cell_type": "code",
   "execution_count": 6,
   "metadata": {
    "ExecuteTime": {
     "end_time": "2023-07-27T13:13:22.340897Z",
     "start_time": "2023-07-27T13:13:22.330918Z"
    }
   },
   "outputs": [
    {
     "name": "stdout",
     "output_type": "stream",
     "text": [
      "Payments Variance 10807.612416\n",
      "Payments Residual Variance 5652.453558466207\n",
      "Email Variance 0.24991536\n",
      "Email Residual Variance 0.24918421069820032\n"
     ]
    },
    {
     "data": {
      "text/html": [
       "<table class=\"simpletable\">\n",
       "<tr>\n",
       "      <td></td>         <th>coef</th>     <th>std err</th>      <th>t</th>      <th>P>|t|</th>  <th>[0.025</th>    <th>0.975]</th>  \n",
       "</tr>\n",
       "<tr>\n",
       "  <th>Intercept</th> <td> -3.71e-13</td> <td>    1.063</td> <td>-3.49e-13</td> <td> 1.000</td> <td>   -2.084</td> <td>    2.084</td>\n",
       "</tr>\n",
       "<tr>\n",
       "  <th>res_email</th> <td>    4.4304</td> <td>    2.129</td> <td>    2.080</td> <td> 0.038</td> <td>    0.256</td> <td>    8.605</td>\n",
       "</tr>\n",
       "</table>"
      ],
      "text/plain": [
       "<class 'statsmodels.iolib.table.SimpleTable'>"
      ]
     },
     "execution_count": 6,
     "metadata": {},
     "output_type": "execute_result"
    }
   ],
   "source": [
    "print(\"Payments Variance\", np.var(data[\"payments\"]))\n",
    "print(\"Payments Residual Variance\", np.var(residuals[\"res_payments\"]))\n",
    "\n",
    "print(\"Email Variance\", np.var(data[\"email\"]))\n",
    "print(\"Email Residual Variance\", np.var(residuals[\"res_email\"]))\n",
    "\n",
    "model_treatment.summary().tables[1]"
   ]
  },
  {
   "cell_type": "markdown",
   "metadata": {},
   "source": [
    "Observe como a variância dos pagamentos foi de 10807 para 5652. Reduzimos pela metade praticamente ao controlar o risco e os limites de crédito. Observe também que não conseguimos reduzir a variabilidade do tratamento, e-mail. Isso faz sentido, uma vez que risco e limite de crédito não prevêem o e-mail (nada prevê, por definição de aleatoriedade).\n",
    "\n",
    "Agora, vemos algo muito mais razoável. Essa nova estimativa nos diz que devemos esperar que os clientes que receberam o e-mail paguem, em média, 4,4 reais a mais do que aqueles no grupo de controle. Essa estimativa agora é estatisticamente diferente de zero. Também podemos visualizar como a variância é agora menor dentro de cada grupo de controle."
   ]
  },
  {
   "cell_type": "code",
   "execution_count": 7,
   "metadata": {
    "ExecuteTime": {
     "end_time": "2023-07-27T13:13:22.429207Z",
     "start_time": "2023-07-27T13:13:22.345338Z"
    },
    "tags": [
     "hide-input"
    ]
   },
   "outputs": [
    {
     "data": {
      "image/png": "[encoded data removed]",
      "text/plain": [
       "<Figure size 432x288 with 1 Axes>"
      ]
     },
     "metadata": {
      "needs_background": "light"
     },
     "output_type": "display_data"
    }
   ],
   "source": [
    "sns.scatterplot(x=\"res_email\", y=\"res_payments\", data=residuals)\n",
    "plt.plot(np.linspace(-0.7, 1), model_treatment.params[0] + np.linspace(-1, 2) * model_treatment.params[1], c=\"C1\")\n",
    "plt.xlabel(\"Email Residuals\")\n",
    "plt.ylabel(\"Payments Residuals\");"
   ]
  },
  {
   "cell_type": "markdown",
   "metadata": {},
   "source": [
    "Como mencionei, fizemos isso por razões pedagógicas. Na prática, você pode simplesmente adicionar os controles ao modelo de regressão juntamente com o tratamento, e as estimativas serão exatamente as mesmas."
   ]
  },
  {
   "cell_type": "code",
   "execution_count": 8,
   "metadata": {
    "ExecuteTime": {
     "end_time": "2023-07-27T13:13:22.444799Z",
     "start_time": "2023-07-27T13:13:22.430622Z"
    }
   },
   "outputs": [
    {
     "data": {
      "text/html": [
       "<table class=\"simpletable\">\n",
       "<tr>\n",
       "        <td></td>          <th>coef</th>     <th>std err</th>      <th>t</th>      <th>P>|t|</th>  <th>[0.025</th>    <th>0.975]</th>  \n",
       "</tr>\n",
       "<tr>\n",
       "  <th>Intercept</th>    <td>  490.8653</td> <td>    9.715</td> <td>   50.527</td> <td> 0.000</td> <td>  471.820</td> <td>  509.911</td>\n",
       "</tr>\n",
       "<tr>\n",
       "  <th>email</th>        <td>    4.4304</td> <td>    2.130</td> <td>    2.080</td> <td> 0.038</td> <td>    0.255</td> <td>    8.606</td>\n",
       "</tr>\n",
       "<tr>\n",
       "  <th>credit_limit</th> <td>    0.1511</td> <td>    0.008</td> <td>   18.833</td> <td> 0.000</td> <td>    0.135</td> <td>    0.167</td>\n",
       "</tr>\n",
       "<tr>\n",
       "  <th>risk_score</th>   <td>   -8.0516</td> <td>   38.424</td> <td>   -0.210</td> <td> 0.834</td> <td>  -83.379</td> <td>   67.276</td>\n",
       "</tr>\n",
       "</table>"
      ],
      "text/plain": [
       "<class 'statsmodels.iolib.table.SimpleTable'>"
      ]
     },
     "execution_count": 8,
     "metadata": {},
     "output_type": "execute_result"
    }
   ],
   "source": [
    "model_2 = smf.ols('payments ~ email + credit_limit + risk_score', data=data).fit()\n",
    "model_2.summary().tables[1]"
   ]
  },
  {
   "cell_type": "markdown",
   "metadata": {},
   "source": [
    "Para resumir, sempre que temos um controle que é um bom preditor do resultado, mesmo que não seja um fator de confusão, adicioná-lo ao nosso modelo é uma boa ideia. Isso ajuda a diminuir a variância de nossas estimativas de efeito do tratamento. Aqui está uma representação gráfica de como essa situação se parece com gráficos causais."
   ]
  },
  {
   "cell_type": "code",
   "execution_count": 9,
   "metadata": {
    "ExecuteTime": {
     "end_time": "2023-07-27T13:13:22.657328Z",
     "start_time": "2023-07-27T13:13:22.446638Z"
    },
    "tags": [
     "hide-input"
    ]
   },
   "outputs": [
    {
     "data": {
      "image/svg+xml": [
       "<?xml version=\"1.0\" encoding=\"UTF-8\" standalone=\"no\"?>\n",
       "<!DOCTYPE svg PUBLIC \"-//W3C//DTD SVG 1.1//EN\"\n",
       " \"http://www.w3.org/Graphics/SVG/1.1/DTD/svg11.dtd\">\n",
       "<!-- Generated by graphviz version 2.50.0 (0)\n",
       " -->\n",
       "<!-- Pages: 1 -->\n",
       "<svg width=\"448pt\" height=\"116pt\"\n",
       " viewBox=\"0.00 0.00 447.80 116.00\" xmlns=\"http://www.w3.org/2000/svg\" xmlns:xlink=\"http://www.w3.org/1999/xlink\">\n",
       "<g id=\"graph0\" class=\"graph\" transform=\"scale(1 1) rotate(0) translate(4 112)\">\n",
       "<polygon fill=\"white\" stroke=\"transparent\" points=\"-4,4 -4,-112 443.8,-112 443.8,4 -4,4\"/>\n",
       "<!-- X -->\n",
       "<g id=\"node1\" class=\"node\">\n",
       "<title>X</title>\n",
       "<ellipse fill=\"none\" stroke=\"black\" cx=\"27\" cy=\"-90\" rx=\"27\" ry=\"18\"/>\n",
       "<text text-anchor=\"middle\" x=\"27\" y=\"-86.3\" font-family=\"Times,serif\" font-size=\"14.00\">X</text>\n",
       "</g>\n",
       "<!-- Y -->\n",
       "<g id=\"node2\" class=\"node\">\n",
       "<title>Y</title>\n",
       "<ellipse fill=\"none\" stroke=\"black\" cx=\"63\" cy=\"-18\" rx=\"27\" ry=\"18\"/>\n",
       "<text text-anchor=\"middle\" x=\"63\" y=\"-14.3\" font-family=\"Times,serif\" font-size=\"14.00\">Y</text>\n",
       "</g>\n",
       "<!-- X&#45;&gt;Y -->\n",
       "<g id=\"edge1\" class=\"edge\">\n",
       "<title>X&#45;&gt;Y</title>\n",
       "<path fill=\"none\" stroke=\"black\" d=\"M35.35,-72.76C39.71,-64.28 45.15,-53.71 50.04,-44.2\"/>\n",
       "<polygon fill=\"black\" stroke=\"black\" points=\"53.23,-45.64 54.7,-35.15 47.01,-42.44 53.23,-45.64\"/>\n",
       "</g>\n",
       "<!-- T -->\n",
       "<g id=\"node3\" class=\"node\">\n",
       "<title>T</title>\n",
       "<ellipse fill=\"none\" stroke=\"gold\" cx=\"99\" cy=\"-90\" rx=\"27\" ry=\"18\"/>\n",
       "<text text-anchor=\"middle\" x=\"99\" y=\"-86.3\" font-family=\"Times,serif\" font-size=\"14.00\">T</text>\n",
       "</g>\n",
       "<!-- T&#45;&gt;Y -->\n",
       "<g id=\"edge2\" class=\"edge\">\n",
       "<title>T&#45;&gt;Y</title>\n",
       "<path fill=\"none\" stroke=\"black\" d=\"M90.65,-72.76C86.29,-64.28 80.85,-53.71 75.96,-44.2\"/>\n",
       "<polygon fill=\"black\" stroke=\"black\" points=\"78.99,-42.44 71.3,-35.15 72.77,-45.64 78.99,-42.44\"/>\n",
       "</g>\n",
       "<!-- email -->\n",
       "<g id=\"node4\" class=\"node\">\n",
       "<title>email</title>\n",
       "<ellipse fill=\"none\" stroke=\"gold\" cx=\"175\" cy=\"-90\" rx=\"30.59\" ry=\"18\"/>\n",
       "<text text-anchor=\"middle\" x=\"175\" y=\"-86.3\" font-family=\"Times,serif\" font-size=\"14.00\">email</text>\n",
       "</g>\n",
       "<!-- payments -->\n",
       "<g id=\"node6\" class=\"node\">\n",
       "<title>payments</title>\n",
       "<ellipse fill=\"none\" stroke=\"black\" cx=\"276\" cy=\"-18\" rx=\"44.69\" ry=\"18\"/>\n",
       "<text text-anchor=\"middle\" x=\"276\" y=\"-14.3\" font-family=\"Times,serif\" font-size=\"14.00\">payments</text>\n",
       "</g>\n",
       "<!-- email&#45;&gt;payments -->\n",
       "<g id=\"edge5\" class=\"edge\">\n",
       "<title>email&#45;&gt;payments</title>\n",
       "<path fill=\"none\" stroke=\"black\" d=\"M194,-75.83C208.6,-65.72 229.04,-51.55 245.87,-39.89\"/>\n",
       "<polygon fill=\"black\" stroke=\"black\" points=\"248.06,-42.62 254.28,-34.05 244.07,-36.87 248.06,-42.62\"/>\n",
       "</g>\n",
       "<!-- credit_limit -->\n",
       "<g id=\"node5\" class=\"node\">\n",
       "<title>credit_limit</title>\n",
       "<ellipse fill=\"none\" stroke=\"black\" cx=\"276\" cy=\"-90\" rx=\"51.99\" ry=\"18\"/>\n",
       "<text text-anchor=\"middle\" x=\"276\" y=\"-86.3\" font-family=\"Times,serif\" font-size=\"14.00\">credit_limit</text>\n",
       "</g>\n",
       "<!-- credit_limit&#45;&gt;payments -->\n",
       "<g id=\"edge3\" class=\"edge\">\n",
       "<title>credit_limit&#45;&gt;payments</title>\n",
       "<path fill=\"none\" stroke=\"black\" d=\"M276,-71.7C276,-63.98 276,-54.71 276,-46.11\"/>\n",
       "<polygon fill=\"black\" stroke=\"black\" points=\"279.5,-46.1 276,-36.1 272.5,-46.1 279.5,-46.1\"/>\n",
       "</g>\n",
       "<!-- risk_score -->\n",
       "<g id=\"node7\" class=\"node\">\n",
       "<title>risk_score</title>\n",
       "<ellipse fill=\"none\" stroke=\"black\" cx=\"393\" cy=\"-90\" rx=\"46.59\" ry=\"18\"/>\n",
       "<text text-anchor=\"middle\" x=\"393\" y=\"-86.3\" font-family=\"Times,serif\" font-size=\"14.00\">risk_score</text>\n",
       "</g>\n",
       "<!-- risk_score&#45;&gt;payments -->\n",
       "<g id=\"edge4\" class=\"edge\">\n",
       "<title>risk_score&#45;&gt;payments</title>\n",
       "<path fill=\"none\" stroke=\"black\" d=\"M368.76,-74.5C351.42,-64.12 327.89,-50.05 308.87,-38.66\"/>\n",
       "<polygon fill=\"black\" stroke=\"black\" points=\"310.59,-35.62 300.21,-33.49 307,-41.62 310.59,-35.62\"/>\n",
       "</g>\n",
       "</g>\n",
       "</svg>\n"
      ],
      "text/plain": [
       "<graphviz.graphs.Digraph at 0x7faac0101d50>"
      ]
     },
     "execution_count": 9,
     "metadata": {},
     "output_type": "execute_result"
    }
   ],
   "source": [
    "g = gr.Digraph()\n",
    "g.edge(\"X\", \"Y\"), g.edge(\"T\", \"Y\")\n",
    "g.node(\"T\", color=\"gold\")\n",
    "\n",
    "g.node(\"email\", color=\"gold\")\n",
    "g.edge(\"credit_limit\", \"payments\")\n",
    "g.edge(\"risk_score\", \"payments\")\n",
    "g.edge(\"email\", \"payments\")\n",
    "\n",
    "g"
   ]
  },
  {
   "cell_type": "markdown",
   "metadata": {},
   "source": [
    "## Controles Majoritariamente Prejudiciais\n",
    "\n",
    "Como segundo exemplo motivador, consideremos um cenário de teste de medicamento com dois hospitais. Ambos estão conduzindo ensaios randomizados com um novo medicamento para tratar uma determinada doença. O resultado de interesse é o número de dias hospitalizado. Se o tratamento for eficaz, ele reduzirá a quantidade de dias que o paciente passa no hospital. Para um dos hospitais, a política em relação ao tratamento randomizado é administrá-lo a 90% de seus pacientes, enquanto 10% recebem um placebo. O outro hospital tem uma política diferente: ele administra o medicamento a 10% aleatórios de seus pacientes, e 90% recebem um placebo. Você também é informado de que o hospital que administra 90% do verdadeiro medicamento e 10% do placebo geralmente trata casos mais graves da doença."
   ]
  },
  {
   "cell_type": "code",
   "execution_count": 10,
   "metadata": {
    "ExecuteTime": {
     "end_time": "2023-07-27T13:13:22.667113Z",
     "start_time": "2023-07-27T13:13:22.659159Z"
    }
   },
   "outputs": [
    {
     "data": {
      "text/html": [
       "<div>\n",
       "<style scoped>\n",
       "    .dataframe tbody tr th:only-of-type {\n",
       "        vertical-align: middle;\n",
       "    }\n",
       "\n",
       "    .dataframe tbody tr th {\n",
       "        vertical-align: top;\n",
       "    }\n",
       "\n",
       "    .dataframe thead th {\n",
       "        text-align: right;\n",
       "    }\n",
       "</style>\n",
       "<table border=\"1\" class=\"dataframe\">\n",
       "  <thead>\n",
       "    <tr style=\"text-align: right;\">\n",
       "      <th></th>\n",
       "      <th>hospital</th>\n",
       "      <th>treatment</th>\n",
       "      <th>severity</th>\n",
       "      <th>days</th>\n",
       "    </tr>\n",
       "  </thead>\n",
       "  <tbody>\n",
       "    <tr>\n",
       "      <th>0</th>\n",
       "      <td>1</td>\n",
       "      <td>1</td>\n",
       "      <td>29.686618</td>\n",
       "      <td>82</td>\n",
       "    </tr>\n",
       "    <tr>\n",
       "      <th>1</th>\n",
       "      <td>1</td>\n",
       "      <td>1</td>\n",
       "      <td>20.050340</td>\n",
       "      <td>57</td>\n",
       "    </tr>\n",
       "    <tr>\n",
       "      <th>2</th>\n",
       "      <td>1</td>\n",
       "      <td>1</td>\n",
       "      <td>20.302399</td>\n",
       "      <td>49</td>\n",
       "    </tr>\n",
       "    <tr>\n",
       "      <th>3</th>\n",
       "      <td>0</td>\n",
       "      <td>0</td>\n",
       "      <td>10.603118</td>\n",
       "      <td>44</td>\n",
       "    </tr>\n",
       "    <tr>\n",
       "      <th>4</th>\n",
       "      <td>0</td>\n",
       "      <td>0</td>\n",
       "      <td>8.332793</td>\n",
       "      <td>15</td>\n",
       "    </tr>\n",
       "  </tbody>\n",
       "</table>\n",
       "</div>"
      ],
      "text/plain": [
       "   hospital  treatment   severity  days\n",
       "0         1          1  29.686618    82\n",
       "1         1          1  20.050340    57\n",
       "2         1          1  20.302399    49\n",
       "3         0          0  10.603118    44\n",
       "4         0          0   8.332793    15"
      ]
     },
     "execution_count": 10,
     "metadata": {},
     "output_type": "execute_result"
    }
   ],
   "source": [
    "hospital = pd.read_csv(\"./data/hospital_treatment.csv\")\n",
    "hospital.head()"
   ]
  },
  {
   "cell_type": "markdown",
   "metadata": {},
   "source": [
    "Como você está lidando com dados randomizados, seu primeiro instinto é simplesmente realizar uma regressão do resultado sobre o tratamento."
   ]
  },
  {
   "cell_type": "code",
   "execution_count": 11,
   "metadata": {
    "ExecuteTime": {
     "end_time": "2023-07-27T13:13:22.677578Z",
     "start_time": "2023-07-27T13:13:22.668270Z"
    }
   },
   "outputs": [
    {
     "data": {
      "text/html": [
       "<table class=\"simpletable\">\n",
       "<tr>\n",
       "      <td></td>         <th>coef</th>     <th>std err</th>      <th>t</th>      <th>P>|t|</th>  <th>[0.025</th>    <th>0.975]</th>  \n",
       "</tr>\n",
       "<tr>\n",
       "  <th>Intercept</th> <td>   33.2667</td> <td>    2.662</td> <td>   12.498</td> <td> 0.000</td> <td>   27.968</td> <td>   38.566</td>\n",
       "</tr>\n",
       "<tr>\n",
       "  <th>treatment</th> <td>   14.1533</td> <td>    3.367</td> <td>    4.204</td> <td> 0.000</td> <td>    7.451</td> <td>   20.856</td>\n",
       "</tr>\n",
       "</table>"
      ],
      "text/plain": [
       "<class 'statsmodels.iolib.table.SimpleTable'>"
      ]
     },
     "execution_count": 11,
     "metadata": {},
     "output_type": "execute_result"
    }
   ],
   "source": [
    "hosp_1 = smf.ols('days ~ treatment', data=hospital).fit()\n",
    "hosp_1.summary().tables[1]"
   ]
  },
  {
   "cell_type": "markdown",
   "metadata": {},
   "source": [
    "Mas você encontra alguns resultados contraditórios. Como o tratamento pode estar aumentando o número de dias no hospital? A resposta reside no fato de estarmos realizando dois experimentos diferentes. A gravidade está positivamente relacionada com mais dias no hospital e, como o hospital com casos mais graves também fornece mais do medicamento, o medicamento se torna positivamente correlacionado com mais dias no hospital. Quando olhamos para ambos os hospitais juntos, temos que $E[Y_0|T=0]<E[Y_0|T=1]$, ou seja, o resultado potencial dos não tratados é, em média, menor do que o dos tratados porque há mais não tratados no hospital com casos menos graves. Em outras palavras, a gravidade atua como um fator de confusão, determinando o hospital para o qual o paciente vai e, portanto, a probabilidade de receber o medicamento.\n",
    "\n",
    "Existem duas maneiras de corrigir isso. A primeira, que vai contra o propósito de usar dados de ambos os hospitais, é simplesmente analisar o ATE em cada hospital individualmente."
   ]
  },
  {
   "cell_type": "code",
   "execution_count": 12,
   "metadata": {
    "ExecuteTime": {
     "end_time": "2023-07-27T13:13:22.688466Z",
     "start_time": "2023-07-27T13:13:22.679067Z"
    }
   },
   "outputs": [
    {
     "data": {
      "text/html": [
       "<table class=\"simpletable\">\n",
       "<tr>\n",
       "      <td></td>         <th>coef</th>     <th>std err</th>      <th>t</th>      <th>P>|t|</th>  <th>[0.025</th>    <th>0.975]</th>  \n",
       "</tr>\n",
       "<tr>\n",
       "  <th>Intercept</th> <td>   30.4074</td> <td>    2.868</td> <td>   10.602</td> <td> 0.000</td> <td>   24.523</td> <td>   36.292</td>\n",
       "</tr>\n",
       "<tr>\n",
       "  <th>treatment</th> <td>  -11.4074</td> <td>   10.921</td> <td>   -1.045</td> <td> 0.306</td> <td>  -33.816</td> <td>   11.001</td>\n",
       "</tr>\n",
       "</table>"
      ],
      "text/plain": [
       "<class 'statsmodels.iolib.table.SimpleTable'>"
      ]
     },
     "execution_count": 12,
     "metadata": {},
     "output_type": "execute_result"
    }
   ],
   "source": [
    "hosp_2 = smf.ols('days ~ treatment', data=hospital.query(\"hospital==0\")).fit()\n",
    "hosp_2.summary().tables[1]"
   ]
  },
  {
   "cell_type": "code",
   "execution_count": 13,
   "metadata": {
    "ExecuteTime": {
     "end_time": "2023-07-27T13:13:22.698314Z",
     "start_time": "2023-07-27T13:13:22.689639Z"
    }
   },
   "outputs": [
    {
     "data": {
      "text/html": [
       "<table class=\"simpletable\">\n",
       "<tr>\n",
       "      <td></td>         <th>coef</th>     <th>std err</th>      <th>t</th>      <th>P>|t|</th>  <th>[0.025</th>    <th>0.975]</th>  \n",
       "</tr>\n",
       "<tr>\n",
       "  <th>Intercept</th> <td>   59.0000</td> <td>    6.747</td> <td>    8.745</td> <td> 0.000</td> <td>   45.442</td> <td>   72.558</td>\n",
       "</tr>\n",
       "<tr>\n",
       "  <th>treatment</th> <td>  -10.3958</td> <td>    6.955</td> <td>   -1.495</td> <td> 0.141</td> <td>  -24.371</td> <td>    3.580</td>\n",
       "</tr>\n",
       "</table>"
      ],
      "text/plain": [
       "<class 'statsmodels.iolib.table.SimpleTable'>"
      ]
     },
     "execution_count": 13,
     "metadata": {},
     "output_type": "execute_result"
    }
   ],
   "source": [
    "hosp_3 = smf.ols('days ~ treatment', data=hospital.query(\"hospital==1\")).fit()\n",
    "hosp_3.summary().tables[1]"
   ]
  },
  {
   "cell_type": "markdown",
   "metadata": {},
   "source": [
    "Neste caso, obtivemos um resultado intuitivo do ATE. Parece que agora o medicamento está, de fato, reduzindo a quantidade de dias no hospital. No entanto, como estamos olhando para cada hospital individualmente, não há pontos de dados suficientes. Como consequência, não conseguimos encontrar resultados estatisticamente significativos.\n",
    "\n",
    "A outra abordagem, que aproveita o poder da regressão, é controlar a gravidade incluindo-a no modelo."
   ]
  },
  {
   "cell_type": "code",
   "execution_count": 14,
   "metadata": {
    "ExecuteTime": {
     "end_time": "2023-07-27T13:13:22.715044Z",
     "start_time": "2023-07-27T13:13:22.699818Z"
    }
   },
   "outputs": [
    {
     "data": {
      "text/html": [
       "<table class=\"simpletable\">\n",
       "<tr>\n",
       "      <td></td>         <th>coef</th>     <th>std err</th>      <th>t</th>      <th>P>|t|</th>  <th>[0.025</th>    <th>0.975]</th>  \n",
       "</tr>\n",
       "<tr>\n",
       "  <th>Intercept</th> <td>   11.6641</td> <td>    2.000</td> <td>    5.832</td> <td> 0.000</td> <td>    7.681</td> <td>   15.647</td>\n",
       "</tr>\n",
       "<tr>\n",
       "  <th>treatment</th> <td>   -7.5912</td> <td>    2.269</td> <td>   -3.345</td> <td> 0.001</td> <td>  -12.110</td> <td>   -3.073</td>\n",
       "</tr>\n",
       "<tr>\n",
       "  <th>severity</th>  <td>    2.2741</td> <td>    0.154</td> <td>   14.793</td> <td> 0.000</td> <td>    1.968</td> <td>    2.580</td>\n",
       "</tr>\n",
       "</table>"
      ],
      "text/plain": [
       "<class 'statsmodels.iolib.table.SimpleTable'>"
      ]
     },
     "execution_count": 14,
     "metadata": {},
     "output_type": "execute_result"
    }
   ],
   "source": [
    "hosp_4 = smf.ols('days ~ treatment + severity', data=hospital).fit()\n",
    "hosp_4.summary().tables[1]"
   ]
  },
  {
   "cell_type": "markdown",
   "metadata": {},
   "source": [
    "A próxima pergunta que surge é: devemos também incluir o hospital no modelo? Afinal, sabemos que os hospitais causam o tratamento, certo? Bem, isso é verdade, mas uma vez que controlamos a gravidade, o hospital não está mais correlacionado com o resultado número de dias hospitalizado. E sabemos que, para ser confundidora, uma variável tem que causar tanto o tratamento quanto o resultado. Neste caso, temos uma variável que só causa o tratamento.\n",
    "\n",
    "Mas talvez controlar isso reduza a variância, certo? Bem, também não é verdade. Para que um controle reduza a variância, ele precisa ser um bom preditor do resultado, não do tratamento, o que não é o caso aqui.\n",
    "\n",
    "Mesmo assim, podemos querer controlá-lo, certo? Não custa nada... Ou custa?"
   ]
  },
  {
   "cell_type": "code",
   "execution_count": 15,
   "metadata": {
    "ExecuteTime": {
     "end_time": "2023-07-27T13:13:22.727104Z",
     "start_time": "2023-07-27T13:13:22.716967Z"
    }
   },
   "outputs": [
    {
     "data": {
      "text/html": [
       "<table class=\"simpletable\">\n",
       "<tr>\n",
       "      <td></td>         <th>coef</th>     <th>std err</th>      <th>t</th>      <th>P>|t|</th>  <th>[0.025</th>    <th>0.975]</th>  \n",
       "</tr>\n",
       "<tr>\n",
       "  <th>Intercept</th> <td>   11.0111</td> <td>    2.118</td> <td>    5.198</td> <td> 0.000</td> <td>    6.792</td> <td>   15.230</td>\n",
       "</tr>\n",
       "<tr>\n",
       "  <th>treatment</th> <td>   -5.0945</td> <td>    3.492</td> <td>   -1.459</td> <td> 0.149</td> <td>  -12.049</td> <td>    1.861</td>\n",
       "</tr>\n",
       "<tr>\n",
       "  <th>severity</th>  <td>    2.3865</td> <td>    0.195</td> <td>   12.251</td> <td> 0.000</td> <td>    1.999</td> <td>    2.774</td>\n",
       "</tr>\n",
       "<tr>\n",
       "  <th>hospital</th>  <td>   -4.1535</td> <td>    4.413</td> <td>   -0.941</td> <td> 0.350</td> <td>  -12.943</td> <td>    4.636</td>\n",
       "</tr>\n",
       "</table>"
      ],
      "text/plain": [
       "<class 'statsmodels.iolib.table.SimpleTable'>"
      ]
     },
     "execution_count": 15,
     "metadata": {},
     "output_type": "execute_result"
    }
   ],
   "source": [
    "hosp_5 = smf.ols('days ~ treatment + severity + hospital', data=hospital).fit()\n",
    "hosp_5.summary().tables[1]"
   ]
  },
  {
   "cell_type": "markdown",
   "metadata": {},
   "source": [
    "Supreendentemente, isso pode custar!\n",
    "\n",
    "![img](./data/img/beyond-conf/shocked.png)\n",
    "\n",
    "Adicionar o hospital além da gravidade como controle introduziu MAIS variância ao nosso estimador de ATE. Como isso é possível? A resposta está na fórmula para o erro padrão do coeficiente de regressão.\n",
    "\n",
    "$\n",
    "\\hat{\\sigma}^2 = \\dfrac{1}{n-2} \\sum( y_i - \\hat{y}_i )^2\n",
    "$\n",
    "\n",
    "$\n",
    "\\text{Var}(\\hat{\\beta}_2) = \\dfrac{\\sigma^2}{\\sum(x_i - \\bar{x})^2}\n",
    "$\n",
    "\n",
    "A partir desta fórmula, podemos ver que o erro padrão é inversamente proporcional à variância da variável $X$. Isso significa que, se $X$ não variar muito, será difícil estimar seu efeito sobre o resultado. Isso também faz sentido intuitivo. Leve ao extremo e imagine que você queira estimar o efeito de um medicamento, então você realiza um teste com 10.000 indivíduos, mas apenas 1 deles recebe o tratamento. Isso tornará muito difícil encontrar o ATE, teremos que depender da comparação de um único indivíduo com todos os outros. Outra forma de dizer isso é que precisamos de muita variabilidade no tratamento para facilitar a identificação de seu impacto.\n",
    "\n",
    "Quanto ao motivo pelo qual incluir hospitais no modelo aumenta o erro da nossa estimativa, é porque ele é um bom preditor do tratamento e não do resultado (quando controlamos a gravidade). Assim, ao prever o tratamento, efetivamente faz com que sua variância seja menor! Mais uma vez, podemos recorrer à divisão da nossa regressão em suas duas etapas para ver isso."
   ]
  },
  {
   "cell_type": "code",
   "execution_count": 16,
   "metadata": {
    "ExecuteTime": {
     "end_time": "2023-07-27T13:13:22.743411Z",
     "start_time": "2023-07-27T13:13:22.728470Z"
    }
   },
   "outputs": [
    {
     "data": {
      "text/html": [
       "<table class=\"simpletable\">\n",
       "<tr>\n",
       "        <td></td>           <th>coef</th>     <th>std err</th>      <th>t</th>      <th>P>|t|</th>  <th>[0.025</th>    <th>0.975]</th>  \n",
       "</tr>\n",
       "<tr>\n",
       "  <th>Intercept</th>     <td> 2.817e-14</td> <td>    0.827</td> <td> 3.41e-14</td> <td> 1.000</td> <td>   -1.646</td> <td>    1.646</td>\n",
       "</tr>\n",
       "<tr>\n",
       "  <th>res_treatment</th> <td>   -5.0945</td> <td>    3.447</td> <td>   -1.478</td> <td> 0.143</td> <td>  -11.957</td> <td>    1.768</td>\n",
       "</tr>\n",
       "</table>"
      ],
      "text/plain": [
       "<class 'statsmodels.iolib.table.SimpleTable'>"
      ]
     },
     "execution_count": 16,
     "metadata": {},
     "output_type": "execute_result"
    }
   ],
   "source": [
    "model_treatment = smf.ols('treatment ~ severity + hospital', data=hospital).fit()\n",
    "model_days = smf.ols('days ~ severity + hospital', data=hospital).fit()\n",
    "\n",
    "residuals = pd.DataFrame(dict(res_days=model_days.resid, res_treatment=model_treatment.resid))\n",
    "\n",
    "model_treatment = smf.ols('res_days ~ res_treatment', data=residuals).fit()\n",
    "\n",
    "model_treatment.summary().tables[1]"
   ]
  },
  {
   "cell_type": "code",
   "execution_count": 17,
   "metadata": {
    "ExecuteTime": {
     "end_time": "2023-07-27T13:13:22.747606Z",
     "start_time": "2023-07-27T13:13:22.744581Z"
    }
   },
   "outputs": [
    {
     "name": "stdout",
     "output_type": "stream",
     "text": [
      "Treatment Variance 0.234375\n",
      "Treatment Residual Variance 0.05752909187211906\n"
     ]
    }
   ],
   "source": [
    "print(\"Treatment Variance\", np.var(hospital[\"treatment\"]))\n",
    "print(\"Treatment Residual Variance\", np.var(residuals[\"res_treatment\"]))"
   ]
  },
  {
   "cell_type": "markdown",
   "metadata": {},
   "source": [
    "Além disso, não acredite apenas em mim! Você pode verificar se a fórmula de erro padrão acima é verdadeira:"
   ]
  },
  {
   "cell_type": "code",
   "execution_count": 18,
   "metadata": {
    "ExecuteTime": {
     "end_time": "2023-07-27T13:13:22.752776Z",
     "start_time": "2023-07-27T13:13:22.749169Z"
    }
   },
   "outputs": [
    {
     "name": "stdout",
     "output_type": "stream",
     "text": [
      "SE of the Coeficient: 3.446973767486901\n"
     ]
    }
   ],
   "source": [
    "sigma_hat = sum(model_treatment.resid**2)/(len(model_treatment.resid)-2)\n",
    "var = sigma_hat/sum((residuals[\"res_treatment\"] - residuals[\"res_treatment\"].mean())**2)\n",
    "print(\"SE of the Coeficient:\", np.sqrt(var))"
   ]
  },
  {
   "cell_type": "markdown",
   "metadata": {},
   "source": [
    "Portanto, a conclusão é que devemos adicionar controles que são tanto correlacionados com o tratamento quanto com o resultado (confundidores), como a gravidade no modelo acima. Também devemos adicionar controles que são bons preditores do resultado, mesmo que não sejam confundidores, porque eles reduzem a variância de nossas estimativas. No entanto, **NÃO** devemos adicionar controles que são apenas bons preditores do tratamento, pois aumentarão a variância de nossas estimativas.\n",
    "\n",
    "Aqui está uma representação gráfica de como essa situação se parece com gráficos causais."
   ]
  },
  {
   "cell_type": "code",
   "execution_count": 19,
   "metadata": {
    "ExecuteTime": {
     "end_time": "2023-07-27T13:13:22.938035Z",
     "start_time": "2023-07-27T13:13:22.754106Z"
    },
    "tags": [
     "hide-input"
    ]
   },
   "outputs": [
    {
     "data": {
      "image/svg+xml": [
       "<?xml version=\"1.0\" encoding=\"UTF-8\" standalone=\"no\"?>\n",
       "<!DOCTYPE svg PUBLIC \"-//W3C//DTD SVG 1.1//EN\"\n",
       " \"http://www.w3.org/Graphics/SVG/1.1/DTD/svg11.dtd\">\n",
       "<!-- Generated by graphviz version 2.50.0 (0)\n",
       " -->\n",
       "<!-- Pages: 1 -->\n",
       "<svg width=\"199pt\" height=\"260pt\"\n",
       " viewBox=\"0.00 0.00 199.35 260.00\" xmlns=\"http://www.w3.org/2000/svg\" xmlns:xlink=\"http://www.w3.org/1999/xlink\">\n",
       "<g id=\"graph0\" class=\"graph\" transform=\"scale(1 1) rotate(0) translate(4 256)\">\n",
       "<polygon fill=\"white\" stroke=\"transparent\" points=\"-4,4 -4,-256 195.35,-256 195.35,4 -4,4\"/>\n",
       "<!-- X -->\n",
       "<g id=\"node1\" class=\"node\">\n",
       "<title>X</title>\n",
       "<ellipse fill=\"none\" stroke=\"black\" cx=\"27\" cy=\"-234\" rx=\"27\" ry=\"18\"/>\n",
       "<text text-anchor=\"middle\" x=\"27\" y=\"-230.3\" font-family=\"Times,serif\" font-size=\"14.00\">X</text>\n",
       "</g>\n",
       "<!-- T -->\n",
       "<g id=\"node2\" class=\"node\">\n",
       "<title>T</title>\n",
       "<ellipse fill=\"none\" stroke=\"gold\" cx=\"27\" cy=\"-162\" rx=\"27\" ry=\"18\"/>\n",
       "<text text-anchor=\"middle\" x=\"27\" y=\"-158.3\" font-family=\"Times,serif\" font-size=\"14.00\">T</text>\n",
       "</g>\n",
       "<!-- X&#45;&gt;T -->\n",
       "<g id=\"edge1\" class=\"edge\">\n",
       "<title>X&#45;&gt;T</title>\n",
       "<path fill=\"none\" stroke=\"black\" d=\"M27,-215.7C27,-207.98 27,-198.71 27,-190.11\"/>\n",
       "<polygon fill=\"black\" stroke=\"black\" points=\"30.5,-190.1 27,-180.1 23.5,-190.1 30.5,-190.1\"/>\n",
       "</g>\n",
       "<!-- Y -->\n",
       "<g id=\"node3\" class=\"node\">\n",
       "<title>Y</title>\n",
       "<ellipse fill=\"none\" stroke=\"black\" cx=\"27\" cy=\"-90\" rx=\"27\" ry=\"18\"/>\n",
       "<text text-anchor=\"middle\" x=\"27\" y=\"-86.3\" font-family=\"Times,serif\" font-size=\"14.00\">Y</text>\n",
       "</g>\n",
       "<!-- T&#45;&gt;Y -->\n",
       "<g id=\"edge2\" class=\"edge\">\n",
       "<title>T&#45;&gt;Y</title>\n",
       "<path fill=\"none\" stroke=\"black\" d=\"M27,-143.7C27,-135.98 27,-126.71 27,-118.11\"/>\n",
       "<polygon fill=\"black\" stroke=\"black\" points=\"30.5,-118.1 27,-108.1 23.5,-118.1 30.5,-118.1\"/>\n",
       "</g>\n",
       "<!-- treatment -->\n",
       "<g id=\"node4\" class=\"node\">\n",
       "<title>treatment</title>\n",
       "<ellipse fill=\"none\" stroke=\"gold\" cx=\"116\" cy=\"-90\" rx=\"44.39\" ry=\"18\"/>\n",
       "<text text-anchor=\"middle\" x=\"116\" y=\"-86.3\" font-family=\"Times,serif\" font-size=\"14.00\">treatment</text>\n",
       "</g>\n",
       "<!-- days -->\n",
       "<g id=\"node7\" class=\"node\">\n",
       "<title>days</title>\n",
       "<ellipse fill=\"none\" stroke=\"black\" cx=\"152\" cy=\"-18\" rx=\"27\" ry=\"18\"/>\n",
       "<text text-anchor=\"middle\" x=\"152\" y=\"-14.3\" font-family=\"Times,serif\" font-size=\"14.00\">days</text>\n",
       "</g>\n",
       "<!-- treatment&#45;&gt;days -->\n",
       "<g id=\"edge6\" class=\"edge\">\n",
       "<title>treatment&#45;&gt;days</title>\n",
       "<path fill=\"none\" stroke=\"black\" d=\"M124.71,-72.05C128.98,-63.77 134.2,-53.62 138.92,-44.42\"/>\n",
       "<polygon fill=\"black\" stroke=\"black\" points=\"142.15,-45.8 143.61,-35.31 135.93,-42.6 142.15,-45.8\"/>\n",
       "</g>\n",
       "<!-- severity -->\n",
       "<g id=\"node5\" class=\"node\">\n",
       "<title>severity</title>\n",
       "<ellipse fill=\"none\" stroke=\"black\" cx=\"153\" cy=\"-234\" rx=\"38.19\" ry=\"18\"/>\n",
       "<text text-anchor=\"middle\" x=\"153\" y=\"-230.3\" font-family=\"Times,serif\" font-size=\"14.00\">severity</text>\n",
       "</g>\n",
       "<!-- hospital -->\n",
       "<g id=\"node6\" class=\"node\">\n",
       "<title>hospital</title>\n",
       "<ellipse fill=\"none\" stroke=\"black\" cx=\"119\" cy=\"-162\" rx=\"38.19\" ry=\"18\"/>\n",
       "<text text-anchor=\"middle\" x=\"119\" y=\"-158.3\" font-family=\"Times,serif\" font-size=\"14.00\">hospital</text>\n",
       "</g>\n",
       "<!-- severity&#45;&gt;hospital -->\n",
       "<g id=\"edge3\" class=\"edge\">\n",
       "<title>severity&#45;&gt;hospital</title>\n",
       "<path fill=\"none\" stroke=\"black\" d=\"M144.77,-216.05C140.8,-207.89 135.96,-197.91 131.54,-188.82\"/>\n",
       "<polygon fill=\"black\" stroke=\"black\" points=\"134.67,-187.25 127.15,-179.79 128.38,-190.31 134.67,-187.25\"/>\n",
       "</g>\n",
       "<!-- severity&#45;&gt;days -->\n",
       "<g id=\"edge4\" class=\"edge\">\n",
       "<title>severity&#45;&gt;days</title>\n",
       "<path fill=\"none\" stroke=\"black\" d=\"M158.09,-215.98C160.94,-205.67 164.27,-192.19 166,-180 172.75,-132.46 176.42,-119.44 169,-72 167.62,-63.18 165.02,-53.82 162.26,-45.46\"/>\n",
       "<polygon fill=\"black\" stroke=\"black\" points=\"165.51,-44.13 158.89,-35.86 158.9,-46.45 165.51,-44.13\"/>\n",
       "</g>\n",
       "<!-- hospital&#45;&gt;treatment -->\n",
       "<g id=\"edge5\" class=\"edge\">\n",
       "<title>hospital&#45;&gt;treatment</title>\n",
       "<path fill=\"none\" stroke=\"black\" d=\"M118.26,-143.7C117.93,-135.98 117.53,-126.71 117.16,-118.11\"/>\n",
       "<polygon fill=\"black\" stroke=\"black\" points=\"120.66,-117.95 116.73,-108.1 113.66,-118.25 120.66,-117.95\"/>\n",
       "</g>\n",
       "</g>\n",
       "</svg>\n"
      ],
      "text/plain": [
       "<graphviz.graphs.Digraph at 0x7faaa00aaed0>"
      ]
     },
     "execution_count": 19,
     "metadata": {},
     "output_type": "execute_result"
    }
   ],
   "source": [
    "g = gr.Digraph()\n",
    "\n",
    "g.edge(\"X\", \"T\"), g.edge(\"T\", \"Y\")\n",
    "g.node(\"T\", color=\"gold\")\n",
    "\n",
    "g.node(\"treatment\", color=\"gold\")\n",
    "g.edge(\"severity\", \"hospital\")\n",
    "g.edge(\"severity\", \"days\")\n",
    "g.edge(\"hospital\", \"treatment\")\n",
    "g.edge(\"treatment\", \"days\")\n",
    "\n",
    "g"
   ]
  },
  {
   "cell_type": "markdown",
   "metadata": {},
   "source": [
    "## Controles Inadequados - Viés de Seleção\n",
    "\n",
    "Vamos voltar ao exemplo do e-mail de cobrança. Lembre-se de que o e-mail foi atribuído aleatoriamente aos clientes. Já explicamos o que é `credit_limit` e `risk_score`. Agora, vamos olhar para as variáveis restantes. `opened` é uma variável dummy para o cliente abrir ou não o e-mail. `agreement` é outra dummy que marca se os clientes entraram em contato com o departamento de cobranças para negociar sua dívida após receberem o e-mail. Qual dos seguintes modelos você acha mais apropriado? O primeiro é um modelo com a variável de tratamento mais `credit_limit` e `risk_score`; o segundo adiciona as dummies `opened` e `agreement`."
   ]
  },
  {
   "cell_type": "code",
   "execution_count": 20,
   "metadata": {
    "ExecuteTime": {
     "end_time": "2023-07-27T13:13:22.956981Z",
     "start_time": "2023-07-27T13:13:22.940080Z"
    }
   },
   "outputs": [
    {
     "data": {
      "text/html": [
       "<table class=\"simpletable\">\n",
       "<tr>\n",
       "        <td></td>          <th>coef</th>     <th>std err</th>      <th>t</th>      <th>P>|t|</th>  <th>[0.025</th>    <th>0.975]</th>  \n",
       "</tr>\n",
       "<tr>\n",
       "  <th>Intercept</th>    <td>  490.8653</td> <td>    9.715</td> <td>   50.527</td> <td> 0.000</td> <td>  471.820</td> <td>  509.911</td>\n",
       "</tr>\n",
       "<tr>\n",
       "  <th>email</th>        <td>    4.4304</td> <td>    2.130</td> <td>    2.080</td> <td> 0.038</td> <td>    0.255</td> <td>    8.606</td>\n",
       "</tr>\n",
       "<tr>\n",
       "  <th>credit_limit</th> <td>    0.1511</td> <td>    0.008</td> <td>   18.833</td> <td> 0.000</td> <td>    0.135</td> <td>    0.167</td>\n",
       "</tr>\n",
       "<tr>\n",
       "  <th>risk_score</th>   <td>   -8.0516</td> <td>   38.424</td> <td>   -0.210</td> <td> 0.834</td> <td>  -83.379</td> <td>   67.276</td>\n",
       "</tr>\n",
       "</table>"
      ],
      "text/plain": [
       "<class 'statsmodels.iolib.table.SimpleTable'>"
      ]
     },
     "execution_count": 20,
     "metadata": {},
     "output_type": "execute_result"
    }
   ],
   "source": [
    "email_1 = smf.ols('payments ~ email + credit_limit + risk_score', data=data).fit()\n",
    "email_1.summary().tables[1]"
   ]
  },
  {
   "cell_type": "code",
   "execution_count": 21,
   "metadata": {
    "ExecuteTime": {
     "end_time": "2023-07-27T13:13:22.975840Z",
     "start_time": "2023-07-27T13:13:22.958270Z"
    }
   },
   "outputs": [
    {
     "data": {
      "text/html": [
       "<table class=\"simpletable\">\n",
       "<tr>\n",
       "        <td></td>          <th>coef</th>     <th>std err</th>      <th>t</th>      <th>P>|t|</th>  <th>[0.025</th>    <th>0.975]</th>  \n",
       "</tr>\n",
       "<tr>\n",
       "  <th>Intercept</th>    <td>  488.4416</td> <td>    9.716</td> <td>   50.272</td> <td> 0.000</td> <td>  469.394</td> <td>  507.489</td>\n",
       "</tr>\n",
       "<tr>\n",
       "  <th>email</th>        <td>   -1.6095</td> <td>    2.724</td> <td>   -0.591</td> <td> 0.555</td> <td>   -6.949</td> <td>    3.730</td>\n",
       "</tr>\n",
       "<tr>\n",
       "  <th>credit_limit</th> <td>    0.1507</td> <td>    0.008</td> <td>   18.809</td> <td> 0.000</td> <td>    0.135</td> <td>    0.166</td>\n",
       "</tr>\n",
       "<tr>\n",
       "  <th>risk_score</th>   <td>   -2.0929</td> <td>   38.375</td> <td>   -0.055</td> <td> 0.957</td> <td>  -77.325</td> <td>   73.139</td>\n",
       "</tr>\n",
       "<tr>\n",
       "  <th>opened</th>       <td>    3.9808</td> <td>    3.914</td> <td>    1.017</td> <td> 0.309</td> <td>   -3.692</td> <td>   11.654</td>\n",
       "</tr>\n",
       "<tr>\n",
       "  <th>agreement</th>    <td>   11.7093</td> <td>    4.166</td> <td>    2.811</td> <td> 0.005</td> <td>    3.542</td> <td>   19.876</td>\n",
       "</tr>\n",
       "</table>"
      ],
      "text/plain": [
       "<class 'statsmodels.iolib.table.SimpleTable'>"
      ]
     },
     "execution_count": 21,
     "metadata": {},
     "output_type": "execute_result"
    }
   ],
   "source": [
    "email_2 = smf.ols('payments ~ email + credit_limit + risk_score + opened + agreement', data=data).fit()\n",
    "email_2.summary().tables[1]"
   ]
  },
  {
   "cell_type": "markdown",
   "metadata": {},
   "source": [
    "Embora o primeiro modelo encontre resultados estatisticamente significativos para o e-mail, o segundo não. Mas talvez o segundo seja o modelo correto e não haja efeito para o e-mail. Afinal, este modelo controla mais fatores, então deveria ser mais robusto, certo? Neste ponto, você provavelmente sabe que esse não é o caso. O que resta é descobrir o que é.\n",
    "\n",
    "Sabemos que DEVEMOS adicionar variáveis de confusão. Variáveis que causam tanto o tratamento quanto o resultado. Também sabemos que é uma boa ideia adicionar controles que preveem muito bem o resultado. Isso não é obrigatório, mas é bom ter. Também sabemos que é uma má ideia adicionar controles que preveem apenas o tratamento. Novamente, isso não é um pecado mortal, mas é bom evitar. Então, que tipo de controles são `opened` e `agreement`? Acontece que elas não se encaixam em nenhuma das categorias acima.\n",
    "\n",
    "Se você pensar sobre isso, `opened` e `agreement` estão certamente correlacionadas com o e-mail. Afinal, você não pode abrir o e-mail se não o recebeu, e também afirmamos que o acordo só considera renegociações que aconteceram após o envio do e-mail. Mas **elas não causam o e-mail! Em vez disso, são causadas por ele!**\n",
    "\n",
    "Sempre que preciso entender que tipo de variáveis estou lidando, gosto de pensar em seu gráfico causal. Vamos fazer isso aqui."
   ]
  },
  {
   "cell_type": "code",
   "execution_count": 22,
   "metadata": {
    "ExecuteTime": {
     "end_time": "2023-07-27T13:13:23.141988Z",
     "start_time": "2023-07-27T13:13:22.977645Z"
    },
    "tags": [
     "hide-input"
    ]
   },
   "outputs": [
    {
     "data": {
      "image/svg+xml": [
       "<?xml version=\"1.0\" encoding=\"UTF-8\" standalone=\"no\"?>\n",
       "<!DOCTYPE svg PUBLIC \"-//W3C//DTD SVG 1.1//EN\"\n",
       " \"http://www.w3.org/Graphics/SVG/1.1/DTD/svg11.dtd\">\n",
       "<!-- Generated by graphviz version 2.50.0 (0)\n",
       " -->\n",
       "<!-- Pages: 1 -->\n",
       "<svg width=\"303pt\" height=\"260pt\"\n",
       " viewBox=\"0.00 0.00 303.34 260.00\" xmlns=\"http://www.w3.org/2000/svg\" xmlns:xlink=\"http://www.w3.org/1999/xlink\">\n",
       "<g id=\"graph0\" class=\"graph\" transform=\"scale(1 1) rotate(0) translate(4 256)\">\n",
       "<polygon fill=\"white\" stroke=\"transparent\" points=\"-4,4 -4,-256 299.34,-256 299.34,4 -4,4\"/>\n",
       "<!-- email -->\n",
       "<g id=\"node1\" class=\"node\">\n",
       "<title>email</title>\n",
       "<ellipse fill=\"none\" stroke=\"black\" cx=\"30.55\" cy=\"-234\" rx=\"30.59\" ry=\"18\"/>\n",
       "<text text-anchor=\"middle\" x=\"30.55\" y=\"-230.3\" font-family=\"Times,serif\" font-size=\"14.00\">email</text>\n",
       "</g>\n",
       "<!-- payments -->\n",
       "<g id=\"node2\" class=\"node\">\n",
       "<title>payments</title>\n",
       "<ellipse fill=\"none\" stroke=\"black\" cx=\"170.55\" cy=\"-18\" rx=\"44.69\" ry=\"18\"/>\n",
       "<text text-anchor=\"middle\" x=\"170.55\" y=\"-14.3\" font-family=\"Times,serif\" font-size=\"14.00\">payments</text>\n",
       "</g>\n",
       "<!-- email&#45;&gt;payments -->\n",
       "<g id=\"edge1\" class=\"edge\">\n",
       "<title>email&#45;&gt;payments</title>\n",
       "<path fill=\"none\" stroke=\"black\" d=\"M25.81,-216.06C18.06,-184.46 6.44,-115.8 37.55,-72 56.02,-45.99 89.41,-32.73 118.11,-25.99\"/>\n",
       "<polygon fill=\"black\" stroke=\"black\" points=\"118.99,-29.38 128.03,-23.86 117.52,-22.53 118.99,-29.38\"/>\n",
       "</g>\n",
       "<!-- opened -->\n",
       "<g id=\"node3\" class=\"node\">\n",
       "<title>opened</title>\n",
       "<ellipse fill=\"none\" stroke=\"black\" cx=\"132.55\" cy=\"-162\" rx=\"36.29\" ry=\"18\"/>\n",
       "<text text-anchor=\"middle\" x=\"132.55\" y=\"-158.3\" font-family=\"Times,serif\" font-size=\"14.00\">opened</text>\n",
       "</g>\n",
       "<!-- email&#45;&gt;opened -->\n",
       "<g id=\"edge2\" class=\"edge\">\n",
       "<title>email&#45;&gt;opened</title>\n",
       "<path fill=\"none\" stroke=\"black\" d=\"M49.73,-219.83C64.87,-209.45 86.23,-194.79 103.47,-182.96\"/>\n",
       "<polygon fill=\"black\" stroke=\"black\" points=\"105.78,-185.61 112.05,-177.07 101.82,-179.84 105.78,-185.61\"/>\n",
       "</g>\n",
       "<!-- agreement -->\n",
       "<g id=\"node4\" class=\"node\">\n",
       "<title>agreement</title>\n",
       "<ellipse fill=\"none\" stroke=\"black\" cx=\"94.55\" cy=\"-90\" rx=\"48.19\" ry=\"18\"/>\n",
       "<text text-anchor=\"middle\" x=\"94.55\" y=\"-86.3\" font-family=\"Times,serif\" font-size=\"14.00\">agreement</text>\n",
       "</g>\n",
       "<!-- email&#45;&gt;agreement -->\n",
       "<g id=\"edge3\" class=\"edge\">\n",
       "<title>email&#45;&gt;agreement</title>\n",
       "<path fill=\"none\" stroke=\"black\" d=\"M38.01,-216.43C49.03,-191.98 69.76,-146 82.82,-117.02\"/>\n",
       "<polygon fill=\"black\" stroke=\"black\" points=\"86.01,-118.46 86.93,-107.9 79.63,-115.58 86.01,-118.46\"/>\n",
       "</g>\n",
       "<!-- opened&#45;&gt;payments -->\n",
       "<g id=\"edge4\" class=\"edge\">\n",
       "<title>opened&#45;&gt;payments</title>\n",
       "<path fill=\"none\" stroke=\"black\" d=\"M139.3,-144C143.22,-133.7 148.07,-120.22 151.55,-108 157.35,-87.61 162.29,-64.15 165.68,-46.44\"/>\n",
       "<polygon fill=\"black\" stroke=\"black\" points=\"169.19,-46.7 167.58,-36.23 162.3,-45.42 169.19,-46.7\"/>\n",
       "</g>\n",
       "<!-- opened&#45;&gt;agreement -->\n",
       "<g id=\"edge5\" class=\"edge\">\n",
       "<title>opened&#45;&gt;agreement</title>\n",
       "<path fill=\"none\" stroke=\"black\" d=\"M123.54,-144.41C119.06,-136.16 113.55,-126.01 108.54,-116.78\"/>\n",
       "<polygon fill=\"black\" stroke=\"black\" points=\"111.6,-115.07 103.75,-107.96 105.45,-118.41 111.6,-115.07\"/>\n",
       "</g>\n",
       "<!-- agreement&#45;&gt;payments -->\n",
       "<g id=\"edge6\" class=\"edge\">\n",
       "<title>agreement&#45;&gt;payments</title>\n",
       "<path fill=\"none\" stroke=\"black\" d=\"M111.79,-73.12C121.9,-63.81 134.83,-51.9 145.99,-41.62\"/>\n",
       "<polygon fill=\"black\" stroke=\"black\" points=\"148.39,-44.17 153.37,-34.82 143.64,-39.02 148.39,-44.17\"/>\n",
       "</g>\n",
       "<!-- credit_limit -->\n",
       "<g id=\"node5\" class=\"node\">\n",
       "<title>credit_limit</title>\n",
       "<ellipse fill=\"none\" stroke=\"black\" cx=\"131.55\" cy=\"-234\" rx=\"51.99\" ry=\"18\"/>\n",
       "<text text-anchor=\"middle\" x=\"131.55\" y=\"-230.3\" font-family=\"Times,serif\" font-size=\"14.00\">credit_limit</text>\n",
       "</g>\n",
       "<!-- credit_limit&#45;&gt;payments -->\n",
       "<g id=\"edge7\" class=\"edge\">\n",
       "<title>credit_limit&#45;&gt;payments</title>\n",
       "<path fill=\"none\" stroke=\"black\" d=\"M150.93,-217C160.95,-207.45 172.18,-194.38 177.55,-180 194.24,-135.3 185.59,-78.71 177.95,-45.9\"/>\n",
       "<polygon fill=\"black\" stroke=\"black\" points=\"181.33,-45 175.54,-36.13 174.53,-46.68 181.33,-45\"/>\n",
       "</g>\n",
       "<!-- credit_limit&#45;&gt;opened -->\n",
       "<g id=\"edge8\" class=\"edge\">\n",
       "<title>credit_limit&#45;&gt;opened</title>\n",
       "<path fill=\"none\" stroke=\"black\" d=\"M131.79,-215.7C131.9,-207.98 132.04,-198.71 132.16,-190.11\"/>\n",
       "<polygon fill=\"black\" stroke=\"black\" points=\"135.66,-190.15 132.3,-180.1 128.66,-190.05 135.66,-190.15\"/>\n",
       "</g>\n",
       "<!-- credit_limit&#45;&gt;agreement -->\n",
       "<g id=\"edge9\" class=\"edge\">\n",
       "<title>credit_limit&#45;&gt;agreement</title>\n",
       "<path fill=\"none\" stroke=\"black\" d=\"M112.99,-216.84C103.4,-207.23 92.66,-194.17 87.55,-180 80.33,-160.01 82.85,-135.91 86.75,-117.83\"/>\n",
       "<polygon fill=\"black\" stroke=\"black\" points=\"90.19,-118.5 89.14,-107.96 83.39,-116.85 90.19,-118.5\"/>\n",
       "</g>\n",
       "<!-- risk_score -->\n",
       "<g id=\"node6\" class=\"node\">\n",
       "<title>risk_score</title>\n",
       "<ellipse fill=\"none\" stroke=\"black\" cx=\"248.55\" cy=\"-234\" rx=\"46.59\" ry=\"18\"/>\n",
       "<text text-anchor=\"middle\" x=\"248.55\" y=\"-230.3\" font-family=\"Times,serif\" font-size=\"14.00\">risk_score</text>\n",
       "</g>\n",
       "<!-- risk_score&#45;&gt;payments -->\n",
       "<g id=\"edge10\" class=\"edge\">\n",
       "<title>risk_score&#45;&gt;payments</title>\n",
       "<path fill=\"none\" stroke=\"black\" d=\"M244.52,-215.67C237.28,-185.73 220.84,-122.63 199.55,-72 195.67,-62.77 190.65,-53.05 185.88,-44.5\"/>\n",
       "<polygon fill=\"black\" stroke=\"black\" points=\"188.87,-42.68 180.87,-35.74 182.8,-46.16 188.87,-42.68\"/>\n",
       "</g>\n",
       "<!-- risk_score&#45;&gt;opened -->\n",
       "<g id=\"edge11\" class=\"edge\">\n",
       "<title>risk_score&#45;&gt;opened</title>\n",
       "<path fill=\"none\" stroke=\"black\" d=\"M224.51,-218.5C206.87,-207.85 182.75,-193.29 163.64,-181.76\"/>\n",
       "<polygon fill=\"black\" stroke=\"black\" points=\"165.35,-178.71 154.98,-176.54 161.73,-184.7 165.35,-178.71\"/>\n",
       "</g>\n",
       "<!-- risk_score&#45;&gt;agreement -->\n",
       "<g id=\"edge12\" class=\"edge\">\n",
       "<title>risk_score&#45;&gt;agreement</title>\n",
       "<path fill=\"none\" stroke=\"black\" d=\"M237.67,-216.22C224.82,-197.23 202.08,-166.08 177.55,-144 163.31,-131.19 145.64,-119.44 130.27,-110.28\"/>\n",
       "<polygon fill=\"black\" stroke=\"black\" points=\"131.93,-107.2 121.53,-105.2 128.41,-113.25 131.93,-107.2\"/>\n",
       "</g>\n",
       "</g>\n",
       "</svg>\n"
      ],
      "text/plain": [
       "<graphviz.graphs.Digraph at 0x7faaa00d5f90>"
      ]
     },
     "execution_count": 22,
     "metadata": {},
     "output_type": "execute_result"
    }
   ],
   "source": [
    "g = gr.Digraph()\n",
    "\n",
    "g.edge(\"email\", \"payments\")\n",
    "g.edge(\"email\", \"opened\")\n",
    "g.edge(\"email\", \"agreement\")\n",
    "g.edge(\"opened\", \"payments\")\n",
    "g.edge(\"opened\", \"agreement\")\n",
    "g.edge(\"agreement\", \"payments\")\n",
    "\n",
    "g.edge(\"credit_limit\", \"payments\")\n",
    "g.edge(\"credit_limit\", \"opened\")\n",
    "g.edge(\"credit_limit\", \"agreement\")\n",
    "g.edge(\"risk_score\", \"payments\")\n",
    "g.edge(\"risk_score\", \"opened\")\n",
    "g.edge(\"risk_score\", \"agreement\")\n",
    "\n",
    "g"
   ]
  },
  {
   "cell_type": "markdown",
   "metadata": {},
   "source": [
    "Sabemos que nada causa o e-mail, porque ele é aleatório por design. E sabemos (ou pelo menos temos fortes motivos para acreditar) que o limite de crédito e o risco causam pagamentos. Também acreditamos que o e-mail causa pagamentos. Quanto a `opened`, acreditamos que ela causa pagamentos. Intuitivamente, as pessoas que abriram o e-mail de cobrança estão mais dispostas a negociar e pagar suas dívidas. Também acreditamos que `opened` causa acordos pelas mesmas razões que ela causa pagamentos. Além disso, sabemos que `opened` é causada pelo e-mail e temos motivos para acreditar que pessoas com diferentes riscos e limites de crédito têm diferentes taxas de abertura para os e-mails, então o limite de crédito e o risco também causam `opened`. Quanto ao acordo, também acreditamos que ele é causado por `opened`. Se pensarmos na variável de resposta pagamentos, podemos imaginá-la como o resultado de um funil:\n",
    "\n",
    "$\n",
    "email -> opened -> agreement -> payment \n",
    "$\n",
    "\n",
    "Também acreditamos que diferentes níveis de risco e limite de crédito têm diferentes propensões a fazer um acordo, então os marcamos como também causando um acordo. Quanto ao e-mail e ao acordo, poderíamos argumentar que algumas pessoas apenas leem o assunto do e-mail e isso as torna mais propensas a fazer um acordo. O ponto é que o e-mail também poderia causar um acordo sem passar pela abertura.\n",
    "\n",
    "O que percebemos com este gráfico é que `opened` e `agreement` estão ambos no caminho causal do e-mail para pagamentos. Portanto, se controlarmos por eles com regressão, estaríamos dizendo \"este é o efeito do e-mail mantendo `opened` e `agreement` fixos\". No entanto, ambos fazem parte do efeito causal do e-mail, então não queremos mantê-los fixos. Em vez disso, poderíamos argumentar que o e-mail aumenta os pagamentos precisamente porque impulsiona a taxa de acordos. Se fixarmos essas variáveis, estamos removendo parte do verdadeiro efeito da variável de e-mail.\n",
    "\n",
    "Com a notação de resultados potenciais, podemos dizer que, devido à randomização, $E[Y_0|T=0] = E[Y_0|T=1]$. No entanto, mesmo com randomização, quando controlamos por acordo, tratamento e controle não são mais comparáveis. Na verdade, com algum pensamento intuitivo, até podemos imaginar como eles são diferentes:\n",
    "\n",
    "$\n",
    "E[Y_0|T=0, Agreement=0] > E[Y_0|T=1, Agreement=0]\n",
    "$\n",
    "\n",
    "$\n",
    "E[Y_0|T=0, Agreement=1] > E[Y_0|T=1, Agreement=1]\n",
    "$\n",
    "\n",
    "A primeira equação deixa explícito que pensamos que aqueles sem o e-mail e sem o acordo são melhores do que aqueles com o e-mail e sem o acordo. Isso ocorre porque, se o tratamento tem um efeito positivo, aqueles que não fizeram um acordo **mesmo depois de receber o e-mail** provavelmente são piores em termos de pagamentos em comparação com aqueles que também não fizeram o acordo, mas também não receberam o incentivo extra do e-mail. Quanto à segunda equação, aqueles que fizeram o acordo mesmo sem terem recebido o tratamento são provavelmente melhores do que aqueles que fizeram o acordo, mas tiveram o incentivo extra do e-mail.\n",
    "\n",
    "Isso pode ser muito confuso na primeira leitura (foi para mim), mas certifique-se de entendê-lo. Leia novamente, se necessário. Em seguida, um raciocínio semelhante pode ser feito com a variável `opened`. Tente fazê-lo por conta.\n",
    "\n",
    "Esse tipo de viés é tão difundido que tem seu próprio nome. Enquanto o confundidor é o viés resultante da falha em controlar uma causa comum, **o viés de seleção ocorre quando controlamos um efeito comum ou uma variável no caminho entre a causa e o efeito.** Como regra prática, sempre inclua variáveis confundidoras e variáveis que são boas preditoras de $Y$ em seu modelo. Sempre exclua variáveis que são boas preditoras apenas de $T$, mediadores entre o tratamento e o resultado ou efeito comum do tratamento e resultado.\n",
    "\n",
    "![img](./data/img/beyond-conf/selection.png)\n",
    "\n",
    "O viés de seleção é tão difundido que nem mesmo a randomização pode corrigi-lo. Pior ainda, muitas vezes é introduzido por conselhos mal orientados, mesmo em dados aleatórios! Identificar e evitar o viés de seleção requer mais prática do que habilidade. Muitas vezes, ele aparece sob alguma ideia supostamente inteligente, tornando ainda mais difícil descobrir. Aqui estão alguns exemplos de viés de seleção que encontrei:\n",
    "\n",
    "    1. Adicionando uma variável dummy por pagar toda a dívida ao tentar estimar o efeito de uma estratégia de cobrança nos pagamentos.\n",
    "    2. Controlando por trabalhos de emprego executivo versus braçal ao tentar estimar o efeito da escolaridade nos ganhos.\n",
    "    3. Controlando por conversão ao estimar o impacto das taxas de juros na duração do empréstimo.\n",
    "    4. Controlando por felicidade conjugal ao estimar o impacto dos filhos em casos extraconjugais.\n",
    "    5. Dividindo o modelo de pagamentos E[Pagamentos] em um modelo binário que prevê se o pagamento ocorrerá e outro modelo que prevê quanto pagamento ocorrerá, dado que algum pagamento acontecerá: E[Pagamentos|Pagamentos>0]*P(Pagamentos>0).\n",
    "    \n",
    "O que é notável sobre todas essas ideias é como parecem razoáveis. O viés de seleção muitas vezes soa razoável. Que isso sirva de aviso. Na verdade, eu mesmo caí nas armadilhas acima muitas, muitas vezes antes de aprender o quão ruins elas eram. Um em particular, o último, merece uma explicação mais detalhada porque parece tão inteligente e pega muitos cientistas de dados desprevenidos. É tão difundido que tem seu próprio nome: **Mau COP (Bad COP)**.\n",
    "\n",
    "\n",
    "### Mau COP\n",
    "\n",
    "A situação é a seguinte. Você tem uma variável contínua que deseja prever, mas sua distribuição é superrepresentada em zero. Por exemplo, se você deseja modelar os gastos do consumidor, terá algo como uma distribuição gama, mas com muitos zeros."
   ]
  },
  {
   "cell_type": "code",
   "execution_count": 23,
   "metadata": {
    "ExecuteTime": {
     "end_time": "2023-07-27T13:13:23.228083Z",
     "start_time": "2023-07-27T13:13:23.144245Z"
    },
    "tags": [
     "hide-input"
    ]
   },
   "outputs": [
    {
     "data": {
      "image/png": "[encoded data removed]",
      "text/plain": [
       "<Figure size 432x288 with 1 Axes>"
      ]
     },
     "metadata": {
      "needs_background": "light"
     },
     "output_type": "display_data"
    }
   ],
   "source": [
    "plt.hist(np.concatenate([\n",
    "    np.random.gamma(5, 50, 1000), \n",
    "    np.zeros(700)\n",
    "]), bins=20)\n",
    "plt.xlabel(\"Customer Spend\")\n",
    "plt.title(\"Distribution Customer Spend\");"
   ]
  },
  {
   "cell_type": "markdown",
   "metadata": {},
   "source": [
    "Quando um cientista de dados vê isso, a primeira ideia que lhe vem à mente é dividir o modelo em 2 etapas. A primeira é a participação, ou seja, a probabilidade de $Y > 0$. No nosso exemplo de gastos, isso seria modelar se o cliente decide gastar ou não. A segunda parte modela $Y$ para aqueles que decidiram participar. É o efeito Condicional-em-Positivos *(COP, do inglês \"conditional-on-positive\")*. No nosso caso, seria quanto o cliente gasta depois de decidir que gastaria alguma coisa. Se quisermos estimar o efeito do tratamento $T$ nos gastos, ficaria algo assim:\n",
    " \n",
    "$\n",
    "E[Y|T] = E[Y|Y>0, T]P(Y>0|T)\n",
    "$\n",
    " \n",
    "Não há nada de errado com o modelo de participação $P(Y_i>0|T_i)$. Na verdade, se $T$ for atribuído aleatoriamente, ele capturará o aumento na probabilidade de gastar devido ao tratamento. Além disso, não há nada de errado com a decomposição acima. É matematicamente verdadeira, pela lei das probabilidades totais.\n",
    " \n",
    "O problema está em estimar a parte COP. **Ela será enviesada mesmo sob atribuição aleatória**. Em um nível intuitivo, não é loucura pensar que algumas unidades são zeros apenas porque não receberam o tratamento. O tratamento faria com que eles **não** fossem zeros. Por outro lado, algumas unidades nunca são zeros. O tratamento pode aumentar o resultado delas, mas mesmo sem ele, elas não seriam zeros. Agora, o ponto chave é entender que esses dois tipos de unidades não são comparáveis. Aqueles que nunca são zeros têm um $Y_0$ alto em comparação com aqueles que são zeros se não receberem o tratamento. Na verdade, para estes últimos, $Y_0=0$.\n",
    " \n",
    "Sabendo disso, se removermos os zeros, manteremos os que nunca são zeros tanto no grupo tratado quanto no grupo de controle. Mas removeríamos do grupo de controle aqueles que mudam de zero para não zero com o tratamento. Isso faria com que o tratamento e o controle não fossem mais comparáveis, porque o controle conteria apenas aqueles que nunca são zeros e que têm $Y_0$ mais alto, enquanto o tratado conteria ambos os tipos de unidades.\n",
    "\n",
    "Agora que temos uma compreensão intuitiva do problema, vamos verificar isso do ponto de vista matemático. Para ver isso, vamos dividir o efeito do tratamento. Sob atribuição aleatória, é igual à diferença nas médias.\n",
    " \n",
    "$$\n",
    "\\begin{align*} \n",
    "&E[Y|T=1] - E[Y|T=0]\\\\\n",
    "&=E[Y|Y>0, T=1]P(Y>0|T=1) - E[Y|Y>0, T=0]P(Y>0|T=0)\\\\\n",
    "&=\\underbrace{\\{P(Y>0|T=1) - P(Y>0|T=0)\\}}_{Participation \\ Effect} * E[Y|Y>0, T=1]\\\\\n",
    "&+\\underbrace{\\{E[Y|Y>0, T=1] - E[Y|Y>0, T=0]\\}}_{COP \\ Effect} * P(Y>0|T=0)\n",
    "\\end{align*} \n",
    "$$\n",
    " \n",
    "A última igualdade vem da adição e subtração de $E[Y_i|Y_i>0, T_i=1]P(Y_i>0|T_i=0)$ e rearranjo dos termos. Isso significa que a diferença nas médias é composta por duas partes: primeiro, é a diferença na probabilidade de que o resultado $y$ seja positivo. Isso é chamado de efeito de participação porque mede o aumento na probabilidade de os clientes participarem dos gastos. Segundo, é a diferença no resultado condicionado à participação, o efeito COP. Até aqui tudo bem. Não há nada de errado com isso. É uma verdade matemática. O problema surge quando tentamos estimar cada parte separadamente.\n",
    "\n",
    "Isso se torna mais evidente se analisarmos o efeito COP ainda mais a fundo.\n",
    " \n",
    "$$\n",
    "\\begin{align*} \n",
    "E[Y|Y>0, T=1] - E[Y|Y>0, T=0]&=E[Y_{1}|Y_{1}>0]-E[Y_{0}|Y_{0}>0] \\\\\n",
    "&=\\underbrace{E[Y_{1} - Y_{0}|Y_{1}>0]}_{Causal \\ Effect} + \\underbrace{\\{ E[Y_{0}|Y_{1}>0] - E[Y_{0}|Y_{0}>0] \\}}_{Selection \\ Bias}\n",
    "\\end{align*} \n",
    "$$\n",
    " \n",
    "onde a segunda igualdade vem depois de adicionarmos e subtrairmos $E[Y_{i0}|Y_{i1}>0]$. Quando dividimos o efeito COP, obtemos primeiro o efeito causal na subpopulação de participantes. Em nosso exemplo, isso seria o efeito causal naqueles que decidem gastar algo. Em segundo lugar, obtemos um termo de viés que é a diferença em $Y_0$ para aqueles que decidem participar quando atribuídos ao tratamento ($E[Y_{i0}|Y_{i1}>0]$) e aqueles que participam mesmo sem o tratamento ($E[Y_{i0}|Y_{i0}>0]$). Em nosso caso, esse viés provavelmente é negativo, pois aqueles que gastam quando atribuídos ao tratamento, caso não recebessem o tratamento, provavelmente gastariam menos do que aqueles que gastam mesmo sem o tratamento $E[Y_{i0}|Y_{i1}>0] < E[Y_{i0}|Y_{i0}>0]$.\n",
    " \n",
    "![img](./data/img/beyond-conf/cop.png)\n",
    " \n",
    "Agora, eu sei que o viés COP é supercontraintuitivo no início, então acho que vale a pena passar por um exemplo visual. Digamos que queremos estimar como uma campanha de marketing aumenta os gastos das pessoas em nosso produto. Essa campanha de marketing foi randomizada, então não precisamos nos preocupar com confundimento. Neste exemplo, podemos dividir os clientes em dois segmentos. Primeiro, há aqueles que só comprarão nossos produtos se virem uma campanha de marketing. Vamos chamá-los de clientes frugais. Eles não gastam a menos que lhes demos um impulso extra. Em seguida, há os clientes que gastarão mesmo sem a campanha. A campanha faz com que gastem mais, mas eles já gastariam mesmo sem vê-la. Vamos chamá-los de clientes ricos. Na figura, eu exibi os contrafactuais em cores claras e linhas tracejadas.\n",
    " \n",
    "![img](./data/img/beyond-conf/cop-ex1.png)\n",
    " \n",
    "Para estimar o ATE da campanha, como temos randomização, tudo o que precisamos fazer é comparar os tratados com os não tratados. Mas, suponha que usemos a formulação COP, onde dividimos a estimativa em dois modelos, um modelo de participação que estima $P(Y_i>0|T_i)$ e o COP, que estima $E[Y_i|Y_i>0]$. Isso remove todos que não gastaram da análise.\n",
    " \n",
    "![img](./data/img/beyond-conf/cop-ex2.png)\n",
    " \n",
    "Quando fazemos isso, os tratados e não tratados não são mais comparáveis. Como podemos ver, os não tratados agora são compostos apenas pelo segmento de clientes que gastarão mesmo sem a campanha. Observe também que podemos até mesmo saber a direção do viés aqui. Será $E[Y_{i0}|Y_{i1}>0] - E[Y_{i0}|Y_{i0}>0]$ ou $E[Y_{i0}|\\text{Frugal and Rich}] - E[Y_{i0}|Rich]$. Isso é obviamente negativo, já que os clientes ricos gastam mais do que os clientes econômicos. Como resultado, uma vez que filtramos apenas a população de participantes, nossa estimativa do ATE se torna enviesada, mesmo que não houvesse viés a princípio devido à randomização. Espero sinceramente que isso o convença a evitar o COP como a peste. Vejo muitos cientistas de dados fazendo essa estimativa separada, sem estar ciente dos problemas que ela traz."
   ]
  },
  {
   "cell_type": "markdown",
   "metadata": {},
   "source": [
    "Para concluir o viés de seleção, precisamos sempre nos lembrar de nunca controlar uma variável que esteja entre o tratamento e o resultado ou que seja um efeito comum do resultado e do tratado. Em linguagem gráfica, é assim que se parece um controle ruim:"
   ]
  },
  {
   "cell_type": "code",
   "execution_count": 24,
   "metadata": {
    "ExecuteTime": {
     "end_time": "2023-07-27T13:13:23.384107Z",
     "start_time": "2023-07-27T13:13:23.229472Z"
    },
    "tags": [
     "hide-input"
    ]
   },
   "outputs": [
    {
     "data": {
      "image/svg+xml": [
       "<?xml version=\"1.0\" encoding=\"UTF-8\" standalone=\"no\"?>\n",
       "<!DOCTYPE svg PUBLIC \"-//W3C//DTD SVG 1.1//EN\"\n",
       " \"http://www.w3.org/Graphics/SVG/1.1/DTD/svg11.dtd\">\n",
       "<!-- Generated by graphviz version 2.50.0 (0)\n",
       " -->\n",
       "<!-- Pages: 1 -->\n",
       "<svg width=\"89pt\" height=\"260pt\"\n",
       " viewBox=\"0.00 0.00 89.00 260.00\" xmlns=\"http://www.w3.org/2000/svg\" xmlns:xlink=\"http://www.w3.org/1999/xlink\">\n",
       "<g id=\"graph0\" class=\"graph\" transform=\"scale(1 1) rotate(0) translate(4 256)\">\n",
       "<polygon fill=\"white\" stroke=\"transparent\" points=\"-4,4 -4,-256 85,-256 85,4 -4,4\"/>\n",
       "<!-- T -->\n",
       "<g id=\"node1\" class=\"node\">\n",
       "<title>T</title>\n",
       "<ellipse fill=\"none\" stroke=\"gold\" cx=\"54\" cy=\"-234\" rx=\"27\" ry=\"18\"/>\n",
       "<text text-anchor=\"middle\" x=\"54\" y=\"-230.3\" font-family=\"Times,serif\" font-size=\"14.00\">T</text>\n",
       "</g>\n",
       "<!-- X_1 -->\n",
       "<g id=\"node2\" class=\"node\">\n",
       "<title>X_1</title>\n",
       "<ellipse fill=\"none\" stroke=\"red\" cx=\"27\" cy=\"-162\" rx=\"27\" ry=\"18\"/>\n",
       "<text text-anchor=\"middle\" x=\"27\" y=\"-158.3\" font-family=\"Times,serif\" font-size=\"14.00\">X_1</text>\n",
       "</g>\n",
       "<!-- T&#45;&gt;X_1 -->\n",
       "<g id=\"edge1\" class=\"edge\">\n",
       "<title>T&#45;&gt;X_1</title>\n",
       "<path fill=\"none\" stroke=\"black\" d=\"M47.6,-216.41C44.49,-208.34 40.67,-198.43 37.17,-189.35\"/>\n",
       "<polygon fill=\"black\" stroke=\"black\" points=\"40.4,-188.03 33.54,-179.96 33.87,-190.55 40.4,-188.03\"/>\n",
       "</g>\n",
       "<!-- X_2 -->\n",
       "<g id=\"node4\" class=\"node\">\n",
       "<title>X_2</title>\n",
       "<ellipse fill=\"none\" stroke=\"red\" cx=\"54\" cy=\"-18\" rx=\"27\" ry=\"18\"/>\n",
       "<text text-anchor=\"middle\" x=\"54\" y=\"-14.3\" font-family=\"Times,serif\" font-size=\"14.00\">X_2</text>\n",
       "</g>\n",
       "<!-- T&#45;&gt;X_2 -->\n",
       "<g id=\"edge3\" class=\"edge\">\n",
       "<title>T&#45;&gt;X_2</title>\n",
       "<path fill=\"none\" stroke=\"black\" d=\"M57.65,-215.91C59.68,-205.57 61.98,-192.09 63,-180 67.03,-132.17 67.03,-119.83 63,-72 62.28,-63.5 60.93,-54.31 59.49,-46.01\"/>\n",
       "<polygon fill=\"black\" stroke=\"black\" points=\"62.91,-45.29 57.65,-36.09 56.03,-46.56 62.91,-45.29\"/>\n",
       "</g>\n",
       "<!-- Y -->\n",
       "<g id=\"node3\" class=\"node\">\n",
       "<title>Y</title>\n",
       "<ellipse fill=\"none\" stroke=\"black\" cx=\"27\" cy=\"-90\" rx=\"27\" ry=\"18\"/>\n",
       "<text text-anchor=\"middle\" x=\"27\" y=\"-86.3\" font-family=\"Times,serif\" font-size=\"14.00\">Y</text>\n",
       "</g>\n",
       "<!-- X_1&#45;&gt;Y -->\n",
       "<g id=\"edge2\" class=\"edge\">\n",
       "<title>X_1&#45;&gt;Y</title>\n",
       "<path fill=\"none\" stroke=\"black\" d=\"M27,-143.7C27,-135.98 27,-126.71 27,-118.11\"/>\n",
       "<polygon fill=\"black\" stroke=\"black\" points=\"30.5,-118.1 27,-108.1 23.5,-118.1 30.5,-118.1\"/>\n",
       "</g>\n",
       "<!-- Y&#45;&gt;X_2 -->\n",
       "<g id=\"edge4\" class=\"edge\">\n",
       "<title>Y&#45;&gt;X_2</title>\n",
       "<path fill=\"none\" stroke=\"black\" d=\"M33.4,-72.41C36.51,-64.34 40.33,-54.43 43.83,-45.35\"/>\n",
       "<polygon fill=\"black\" stroke=\"black\" points=\"47.13,-46.55 47.46,-35.96 40.6,-44.03 47.13,-46.55\"/>\n",
       "</g>\n",
       "</g>\n",
       "</svg>\n"
      ],
      "text/plain": [
       "<graphviz.graphs.Digraph at 0x7faae0727250>"
      ]
     },
     "execution_count": 24,
     "metadata": {},
     "output_type": "execute_result"
    }
   ],
   "source": [
    "g = gr.Digraph()\n",
    "\n",
    "g.edge(\"T\", \"X_1\"), g.node(\"T\", color=\"gold\"), g.edge(\"X_1\", \"Y\"), g.node(\"X_1\", color=\"red\")\n",
    "g.edge(\"T\", \"X_2\"), g.edge(\"Y\", \"X_2\"), g.node(\"X_2\", color=\"red\")\n",
    "\n",
    "g"
   ]
  },
  {
   "cell_type": "markdown",
   "metadata": {},
   "source": [
    "## Conceitos-chave\n",
    "\n",
    "Nesta seção, examinamos variáveis que não são confundidoras e se devemos ou não adicioná-las ao nosso modelo para identificação causal. Vimos que variáveis que são boas preditoras do resultado $y$ devem ser adicionadas ao modelo, mesmo que não predigam $T$ (não sejam confundidoras). Isso ocorre porque prever $Y$ reduz sua variância e torna mais provável que vejamos resultados estatisticamente significativos ao estimar o efeito causal. Em seguida, vimos que é uma má ideia adicionar variáveis que preveem o tratamento, mas não o resultado. Essas variáveis reduzem a variabilidade do tratamento, tornando mais difícil encontrar o efeito causal. Finalmente, examinamos o viés de seleção. Este é um viés que surge quando controlamos variáveis no caminho causal do tratamento para o resultado ou variáveis que são efeitos comuns do tratamento e do resultado.\n",
    "\n",
    "## Referências\n",
    "\n",
    "Gosto de pensar nesta série inteira como uma homenagem a Joshua Angrist, Alberto Abadie e Christopher Walters por sua incrível aula de Econometria. A maioria das ideias aqui foram tiradas de suas aulas na *American Economic Association*. Assisti-las é o que está me mantendo são durante este difícil ano de 2020.\n",
    "* [Cross-Section Econometrics](https://www.aeaweb.org/conference/cont-ed/2017-webcasts)\n",
    "* [Mastering Mostly Harmless Econometrics](https://www.aeaweb.org/conference/cont-ed/2020-webcasts)\n",
    "\n",
    "Também gostaria de referenciar os livros incríveis de Angrist. Eles me mostraram que Econometria, ou 'Métricas, como eles chamam, não é apenas extremamente útil, mas também profundamente divertida.\n",
    "\n",
    "* [Mostly Harmless Econometrics](https://www.mostlyharmlesseconometrics.com/)\n",
    "* [Mastering 'Metrics](https://www.masteringmetrics.com/)\n",
    "\n",
    "Finalmente, gostaria de referenciar o livro de Miguel Hernan e Jamie Robins. Tem sido meu fiel companheiro nas questões mais espinhosas de inferência causal que tive que responder.\n",
    "\n",
    "* [Causal Inference Book](https://www.hsph.harvard.edu/miguel-hernan/causal-inference-book/)\n",
    "\n",
    "![img](./data/img/poetry.png)\n",
    "\n",
    "## Contribua\n",
    "\n",
    "\"Inferência Causal para os Corajosos e Verdadeiros\" é um material de código aberto sobre inferência causal, a estatística da ciência. Seu objetivo é ser acessível monetariamente e intelectualmente. Ele utiliza apenas software gratuito baseado em Python.\n",
    "Se você encontrou valor neste livro e deseja apoiá-lo, por favor, vá para o [Patreon](https://www.patreon.com/causal_inference_for_the_brave_and_true). Se você não estiver pronto para contribuir financeiramente, também pode ajudar corrigindo erros, sugerindo edições ou dando feedback sobre trechos que não compreendeu. Acesse o repositório do livro e abra uma issue na [versão em inglês](https://github.com/matheusfacure/python-causality-handbook/issues) ou na [versão em português](https://github.com/rdemarqui/python-causality-handbook-ptbr/issues). Por fim, se você gostou deste conteúdo, compartilhe com outras pessoas que possam achar útil e dê uma estrela no GitHub na [versão em inglês](https://github.com/matheusfacure/python-causality-handbook/stargazers) e na [versão em português](https://github.com/rdemarqui/python-causality-handbook-ptbr/stargazers)."
   ]
  },
  {
   "cell_type": "markdown",
   "metadata": {},
   "source": [
    "---"
   ]
  },
  {
   "cell_type": "markdown",
   "metadata": {},
   "source": [
    "<em> <b>Nota de Tradução:</b> COP é acrônimo de Conditional-On-Positive. Ao nomearem o viés como Bad COP em seu livro Mostly Harmless Econometrics, Angrist-Pischke fazem um trocadilho com o termo \"the good cop, bad cop aproach\", visto geralmente em filmes no momento em que dois policiais usam táticas opostas para interrogar um suspeito.</em>"
   ]
  },
  {
   "cell_type": "markdown",
   "metadata": {},
   "source": [
    "<div align=\"center\">\n",
    "<a href=\"06-Grouped-and-Dummy-Regression.ipynb\"><-- Anterior</a>  \n",
    "<a href=\"00-Summary.ipynb\">| Sumário |</a>  \n",
    "<a href=\"08-Instrumental-Variables.ipynb\">Próximo --></a>  \n",
    "</div>"
   ]
  }
 ],
 "metadata": {
  "celltoolbar": "Tags",
  "kernelspec": {
   "display_name": "Python [conda env:root] *",
   "language": "python",
   "name": "conda-root-py"
  },
  "language_info": {
   "codemirror_mode": {
    "name": "ipython",
    "version": 3
   },
   "file_extension": ".py",
   "mimetype": "text/x-python",
   "name": "python",
   "nbconvert_exporter": "python",
   "pygments_lexer": "ipython3",
   "version": "3.7.12"
  },
  "toc": {
   "base_numbering": 1,
   "nav_menu": {},
   "number_sections": true,
   "sideBar": true,
   "skip_h1_title": false,
   "title_cell": "Table of Contents",
   "title_sidebar": "Contents",
   "toc_cell": false,
   "toc_position": {},
   "toc_section_display": true,
   "toc_window_display": false
  },
  "varInspector": {
   "cols": {
    "lenName": 16,
    "lenType": 16,
    "lenVar": 40
   },
   "kernels_config": {
    "python": {
     "delete_cmd_postfix": "",
     "delete_cmd_prefix": "del ",
     "library": "var_list.py",
     "varRefreshCmd": "print(var_dic_list())"
    },
    "r": {
     "delete_cmd_postfix": ") ",
     "delete_cmd_prefix": "rm(",
     "library": "var_list.r",
     "varRefreshCmd": "cat(var_dic_list()) "
    }
   },
   "types_to_exclude": [
    "module",
    "function",
    "builtin_function_or_method",
    "instance",
    "_Feature"
   ],
   "window_display": false
  }
 },
 "nbformat": 4,
 "nbformat_minor": 2
}
