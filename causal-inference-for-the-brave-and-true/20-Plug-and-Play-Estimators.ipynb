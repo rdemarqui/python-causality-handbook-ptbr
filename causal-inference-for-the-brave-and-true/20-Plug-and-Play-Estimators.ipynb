{
 "cells": [
  {
   "cell_type": "markdown",
   "metadata": {},
   "source": [
    "# 20 - Estimadores Plug-and-Play\n",
    "\n",
    "Até agora, vimos como corrigir os vieses em nossos dados no caso em que o tratamento não é atribuído aleatoriamente, resultando em um viés de confusão. Isso nos ajuda com o problema de identificação na inferência causal. Em outras palavras, uma vez que as unidades são intercambiáveis, ou seja, $Y(0), Y(1) \\perp X$, torna-se possível aprender o efeito do tratamento. Mas estamos longe de concluir.\n",
    " \n",
    "A identificação significa que podemos encontrar o efeito médio do tratamento. Em outras palavras, sabemos quão eficaz é um tratamento, em média. Claro, isso é útil, pois nos ajuda a decidir se devemos implementar um tratamento ou não. Mas queremos mais do que isso. Queremos saber se existem subgrupos de unidades que respondem melhor ou pior ao tratamento. Isso permitiria uma política muito melhor, na qual tratamos apenas aqueles que se beneficiarão.\n",
    "\n",
    "## Configuração do Problema\n",
    "\n",
    "Vamos relembrar nossa configuração de interesse. Dados os resultados potenciais, podemos definir o efeito individual do tratamento como a diferença entre os resultados potenciais.\n",
    " \n",
    "$\n",
    "\\tau_i = Y_i(1) − Y_i(0),\n",
    "$\n",
    " \n",
    "Ou, no caso de tratamento contínuo, $\\tau_i = \\partial Y(t)$, onde $t$ é a variável de tratamento. Claro, nunca podemos observar o efeito individual do tratamento, porque só conseguimos ver um dos resultados potenciais.\n",
    " \n",
    "$\n",
    "Y^{obs}_i(t)= \n",
    "\\begin{cases}\n",
    "Y_i(1), & \\text{if } t=1\\\\\n",
    "Y_i(0), & \\text{if } t=0\n",
    "\\end{cases}\n",
    "$\n",
    " \n",
    "Podemos definir o efeito médio do tratamento (ATE) como\n",
    " \n",
    "$\n",
    "\\tau = E[Y_i(1) − Y_i(0)] = E[\\tau_i]\n",
    "$\n",
    " \n",
    "e o efeito médio condicional do tratamento (CATE) como\n",
    " \n",
    "$\n",
    "\\tau(x) = E[Y_i(1) − Y_i(0)|X] = E[\\tau_i|X]\n",
    "$\n",
    " \n",
    "Na Parte I deste livro, focamos principalmente no ATE. Agora, estamos interessados no CATE. O CATE é útil para personalizar um processo de tomada de decisão. Por exemplo, se você tem um medicamento como tratamento $t$, deseja saber qual tipo de pacientes responde mais ao medicamento (CATE mais alto) e se há alguns tipos de pacientes com uma resposta negativa (CATE < 0).\n",
    "\n",
    "Vimos como estimar o CATE usando uma regressão linear com interações entre o tratamento e as características.\n",
    " \n",
    "$\n",
    "y_i = \\beta_0 + \\beta_1 t_i + \\beta_2 X_i + \\beta_3 t_i X_i + e_i.\n",
    "$\n",
    " \n",
    "Se estimarmos esse modelo, podemos obter estimativas para $\\tau(x)$.\n",
    " \n",
    "$\n",
    "\\hat{\\tau}(x) = \\hat{\\beta}_1 + \\hat{\\beta}_3 X_i\n",
    "$\n",
    " \n",
    "Ainda assim, os modelos lineares têm algumas desvantagens. A principal delas é a suposição de linearidade em $X$. Observe que você nem se importa com $\\beta_2$ neste modelo. Mas se as características $X$ não tiverem uma relação linear com o resultado, suas estimativas dos parâmetros causais $\\beta_1$ e $\\beta_3$ estarão incorretas.\n",
    "\n",
    "Seria ótimo se pudéssemos substituir o modelo linear por um modelo de aprendizado de máquina mais flexível. Poderíamos até incluir o tratamento como uma característica em um modelo de ML, como boosted trees ou uma rede neural.\n",
    " \n",
    "$\n",
    "y_i = M(X_i, T_i) + e_i\n",
    "$\n",
    " \n",
    "mas a partir daí, não está claro como podemos obter estimativas do efeito do tratamento, já que este modelo produzirá previsões $\\hat{y}$, e não previsões $\\hat{\\tau(x)}$. Idealmente, usaríamos um modelo de regressão de aprendizado de máquina que, em vez de minimizar o erro quadrático médio do resultado (MSE).\n",
    " \n",
    "$\n",
    "E[(Y_i - \\hat{Y}_i)^2]\n",
    "$\n",
    " \n",
    "minimizaria o erro quadrático médio do MSE\n",
    " \n",
    "$\n",
    "E[(\\tau(x)_i - \\hat{\\tau}(x)_i)^2] = E[(Y_i(1) - Y_i(0) - \\hat{\\tau}(x)_i)^2].\n",
    "$\n",
    " \n",
    "No entanto, esse critério é o que chamamos de inviável. Novamente, o problema aqui é que $\\tau(x)_i$ não é observável, então não podemos otimizá-lo diretamente. Isso nos coloca em uma situação difícil... Vamos tentar simplificar um pouco e talvez possamos pensar em algo.\n",
    "\n",
    "![img](./data/img/plug-and-play-estimators/infeasible.png)"
   ]
  },
  {
   "cell_type": "markdown",
   "metadata": {},
   "source": [
    "## Transformação do Alvo\n",
    "\n",
    "Suponha que seu tratamento seja binário. Digamos que você seja uma empresa de investimentos testando a eficácia de enviar um e-mail de educação financeira. Você espera que o e-mail faça as pessoas investirem mais. Além disso, digamos que você tenha realizado um estudo randomizado onde 50% dos clientes receberam o e-mail e os outros 50% não.\n",
    "\n",
    "Aqui está uma ideia maluca: vamos transformar a variável de resultado multiplicando-a pelo tratamento.\n",
    " \n",
    "$\n",
    "Y^*_i = 2 Y_i * T_i - 2 Y_i*(1-T_i)\n",
    "$\n",
    " \n",
    " \n",
    "Portanto, se a unidade foi tratada, você pegaria o resultado e multiplicaria por 2. Se não foi tratada, você pegaria o resultado e multiplicaria por -2. Por exemplo, se um dos seus clientes investiu R$ 2000,00 e recebeu o e-mail, o alvo transformado seria 4000. No entanto, se ele ou ela não recebeu o e-mail, seria -4000.\n",
    " \n",
    "Isso parece muito estranho, porque você está dizendo que o efeito do e-mail pode ser um número negativo, mas me acompanhe. Se fizermos um pouco de matemática, podemos ver que, em média ou na expectativa, esse alvo transformado será o efeito do tratamento. Isso não é nada menos que incrível. O que estou dizendo é que, ao aplicar essa transformação um tanto maluca, consigo estimar algo que nem mesmo posso observar.\n",
    " \n",
    "Para entender isso, precisamos de um pouco de matemática. Devido à atribuição aleatória, temos que $T \\perp Y(0), Y(1)$, que é nosso velho amigo da inconfundibilidade. Isso implica que $E[T, Y(t)]=E[T]*E[Y(t)]$, que é a definição de independência.\n",
    "\n",
    "Além disso, sabemos que\n",
    "\n",
    "$\n",
    "Y_i*T_i = Y(1)_i*T_i \\text{ and }  Y_i*(1-T_i) = Y(0)_i*T_i\n",
    "$\n",
    "\n",
    "porque o tratamento é o que materializa um dos resultados potenciais. Com isso em mente, vamos calcular o valor esperado de $Y^*_i$ e ver no que temos no final.\n",
    " \n",
    "$\n",
    "\\begin{align}\n",
    "E[Y^*_i|X_i=x] &= E[2 Y(1)_i * T_i - 2 Y(0)_i*(1-T_i)|X_i=x] \\\\\n",
    "&= 2E[Y(1)_i * T_i | X_i=x] - 2E[Y(0)_i*(1-T_i)|X_i=x]\\\\\n",
    "&= 2E[Y(1)_i| X_i=x] * E[ T_i | X_i=x] - 2E[Y(0)_i| X_i=x]*E[(1-T_i)|X_i=x] \\\\\n",
    "&= 2E[Y(1)_i| X_i=x] * 0.5 - 2E[Y(0)_i| X_i=x]*0.5 \\\\ \n",
    "&= E[Y(1)_i| X_i=x] - E[Y(0)_i| X_i=x] \\\\\n",
    "&= \\tau(x)_i\n",
    "\\end{align}\n",
    "$\n",
    " \n",
    "Portanto, essa ideia aparentemente maluca acabou sendo uma estimativa não enviesada do efeito individual do tratamento $\\tau(x)_i$. Agora, podemos substituir nosso critério de otimização inviável por\n",
    " \n",
    "$\n",
    "E[(Y^*_i - \\hat{\\tau}(x)_i)^2]\n",
    "$\n",
    " \n",
    "Em termos mais simples, tudo o que precisamos fazer é usar qualquer modelo de aprendizado de máquina de regressão para prever $Y^*_i$ e este modelo fornecerá previsões do efeito do tratamento.\n",
    "\n",
    "Agora que resolvemos o caso simples, e quanto ao caso mais complicado, em que o tratamento não é 50% 50%, ou nem mesmo atribuído aleatoriamente? Como acontece, a resposta é um pouco mais complicada, mas não muito. Primeiro, se não tivermos atribuição aleatória, precisamos de pelo menos independência condicional $T \\perp Y(1), Y(0) | X$. Ou seja, controlando por $X$, $T$ é tão bom quanto aleatório. Com isso, podemos generalizar o alvo transformado para\n",
    " \n",
    "$\n",
    "Y^*_i = Y_i * \\dfrac{T_i - e(X_i)}{e(X_i)(1-e(X_i))}\n",
    "$\n",
    " \n",
    "onde $e(X_i)$ é o escore de propensão. Portanto, se o tratamento não for 50% 50%, mas randomizado com uma probabilidade diferente $p$, tudo o que você precisa fazer é substituir o escore de propensão na fórmula acima por $p$. Se o tratamento não for aleatório, então você precisa usar o escore de propensão, seja armazenado ou estimado.\n",
    "\n",
    "Se você calcular a expectativa disso, verá que também coincide com o efeito do tratamento. A prova é deixada como um exercício para o leitor. Brincadeira, aqui está. É um pouco complicada, então sinta-se à vontade para pular.\n",
    " \n",
    "$\n",
    "\\begin{align}\n",
    "E[Y^*_i|X_i=x] &= E\\big[Y_i * \\dfrac{T_i - e(X_i)}{e(X_i)(1-e(X_i))}|X_i=x\\big] \\\\\n",
    "&= E\\big[Y_i T_i * \\dfrac{T_i - e(X_i)}{e(X_i)(1-e(X_i))} + Y_i (1-T_i) * \\dfrac{T_i - e(X_i)}{e(X_i)(1-e(X_i))}|X_i=x\\big]\\\\\n",
    "&= E\\big[Y(1)_i * \\dfrac{T_i(1 - e(X_i))}{e(X_i)(1-e(X_i))} | X_i=x\\big] - E\\big[Y(0)_i * \\dfrac{(1-T_i)e(X_i)}{e(X_i)(1-e(X_i))}|X_i=x\\big]\\\\\n",
    "&= \\dfrac{1}{e(X_i)} E[Y(1)_i * T_i|X_i=x] - \\dfrac{1}{1-e(X_i)} E[Y(0)_i * (1-T_i)| X_i=x]\\\\\n",
    "&= \\dfrac{1}{e(X_i)} E[Y(1)_i|X_i=x] * E[T_i|X_i=x] - \\dfrac{1}{1-e(X_i)} E[Y(0)_i|X_i=x] * E[(1-T_i)| X_i=x]\\\\\n",
    "&= E[Y(1)_i|X_i=x] - E[Y(0)_i|X_i=x]\\\\\n",
    "&= \\tau(x)_i\n",
    "\\end{align}\n",
    "$\n",
    " \n",
    "Como sempre, acredito que isso se tornará muito mais concreto com um exemplo. Novamente, considere os e-mails de investimento que enviamos na tentativa de fazer as pessoas investirem mais. A variável de resultado é a binária (investiu ou não) `converted`."
   ]
  },
  {
   "cell_type": "code",
   "execution_count": 1,
   "metadata": {
    "tags": [
     "hide-input"
    ]
   },
   "outputs": [],
   "source": [
    "import pandas as pd\n",
    "import numpy as np\n",
    "from matplotlib import pyplot as plt\n",
    "import seaborn as sns\n",
    "from nb21 import cumulative_gain, elast"
   ]
  },
  {
   "cell_type": "code",
   "execution_count": 2,
   "metadata": {},
   "outputs": [
    {
     "data": {
      "text/html": [
       "<div>\n",
       "<style scoped>\n",
       "    .dataframe tbody tr th:only-of-type {\n",
       "        vertical-align: middle;\n",
       "    }\n",
       "\n",
       "    .dataframe tbody tr th {\n",
       "        vertical-align: top;\n",
       "    }\n",
       "\n",
       "    .dataframe thead th {\n",
       "        text-align: right;\n",
       "    }\n",
       "</style>\n",
       "<table border=\"1\" class=\"dataframe\">\n",
       "  <thead>\n",
       "    <tr style=\"text-align: right;\">\n",
       "      <th></th>\n",
       "      <th>age</th>\n",
       "      <th>income</th>\n",
       "      <th>insurance</th>\n",
       "      <th>invested</th>\n",
       "      <th>em1</th>\n",
       "      <th>em2</th>\n",
       "      <th>em3</th>\n",
       "      <th>converted</th>\n",
       "    </tr>\n",
       "  </thead>\n",
       "  <tbody>\n",
       "    <tr>\n",
       "      <th>0</th>\n",
       "      <td>44.1</td>\n",
       "      <td>5483.80</td>\n",
       "      <td>6155.29</td>\n",
       "      <td>14294.81</td>\n",
       "      <td>0</td>\n",
       "      <td>1</td>\n",
       "      <td>1</td>\n",
       "      <td>0</td>\n",
       "    </tr>\n",
       "    <tr>\n",
       "      <th>1</th>\n",
       "      <td>39.8</td>\n",
       "      <td>2737.92</td>\n",
       "      <td>50069.40</td>\n",
       "      <td>7468.15</td>\n",
       "      <td>1</td>\n",
       "      <td>0</td>\n",
       "      <td>0</td>\n",
       "      <td>0</td>\n",
       "    </tr>\n",
       "    <tr>\n",
       "      <th>2</th>\n",
       "      <td>49.0</td>\n",
       "      <td>2712.51</td>\n",
       "      <td>5707.08</td>\n",
       "      <td>5095.65</td>\n",
       "      <td>1</td>\n",
       "      <td>0</td>\n",
       "      <td>1</td>\n",
       "      <td>1</td>\n",
       "    </tr>\n",
       "    <tr>\n",
       "      <th>3</th>\n",
       "      <td>39.7</td>\n",
       "      <td>2326.37</td>\n",
       "      <td>15657.97</td>\n",
       "      <td>6345.20</td>\n",
       "      <td>1</td>\n",
       "      <td>1</td>\n",
       "      <td>1</td>\n",
       "      <td>0</td>\n",
       "    </tr>\n",
       "    <tr>\n",
       "      <th>4</th>\n",
       "      <td>35.3</td>\n",
       "      <td>2787.26</td>\n",
       "      <td>27074.44</td>\n",
       "      <td>14114.86</td>\n",
       "      <td>1</td>\n",
       "      <td>1</td>\n",
       "      <td>1</td>\n",
       "      <td>0</td>\n",
       "    </tr>\n",
       "  </tbody>\n",
       "</table>\n",
       "</div>"
      ],
      "text/plain": [
       "    age   income  insurance  invested  em1  em2  em3  converted\n",
       "0  44.1  5483.80    6155.29  14294.81    0    1    1          0\n",
       "1  39.8  2737.92   50069.40   7468.15    1    0    0          0\n",
       "2  49.0  2712.51    5707.08   5095.65    1    0    1          1\n",
       "3  39.7  2326.37   15657.97   6345.20    1    1    1          0\n",
       "4  35.3  2787.26   27074.44  14114.86    1    1    1          0"
      ]
     },
     "execution_count": 2,
     "metadata": {},
     "output_type": "execute_result"
    }
   ],
   "source": [
    "email = pd.read_csv(\"./data/invest_email_rnd.csv\")\n",
    "email.head()"
   ]
  },
  {
   "cell_type": "markdown",
   "metadata": {},
   "source": [
    "Nosso objetivo aqui é a personalização. Vamos nos concentrar no e-mail-1. Desejamos enviá-lo apenas para aqueles clientes que responderão melhor a ele. Em outras palavras, desejamos estimar o efeito médio condicional do tratamento do e-mail-1.\n",
    " \n",
    "$\n",
    "E[Converted(1)_i - Converted(0)_i|X_i=x] = \\tau(x)_i\n",
    "$\n",
    " \n",
    "para que possamos direcionar esses clientes que terão a melhor resposta ao e-mail (CATE mais alto).\n",
    "\n",
    "Mas primeiro, vamos dividir nosso conjunto de dados em um conjunto de treinamento e um conjunto de validação. Vamos estimar $\\tau(x)_i$ em um conjunto e avaliar as estimativas no outro."
   ]
  },
  {
   "cell_type": "code",
   "execution_count": 3,
   "metadata": {},
   "outputs": [
    {
     "name": "stdout",
     "output_type": "stream",
     "text": [
      "(9000, 8) (6000, 8)\n"
     ]
    }
   ],
   "source": [
    "from sklearn.model_selection import train_test_split\n",
    "\n",
    "np.random.seed(123)\n",
    "train, test = train_test_split(email, test_size=0.4)\n",
    "print(train.shape, test.shape)"
   ]
  },
  {
   "cell_type": "markdown",
   "metadata": {},
   "source": [
    "Agora, aplicaremos a transformação do alvo que acabamos de aprender. Como os e-mails foram atribuídos aleatoriamente (embora não em uma base de 50% 50%), não precisamos nos preocupar com o escore de propensão. Em vez disso, ele é constante e igual à probabilidade de tratamento."
   ]
  },
  {
   "cell_type": "code",
   "execution_count": 4,
   "metadata": {},
   "outputs": [],
   "source": [
    "y = \"converted\"\n",
    "T = \"em1\"\n",
    "X = [\"age\", \"income\", \"insurance\", \"invested\"]\n",
    "\n",
    "ps = train[T].mean()\n",
    "\n",
    "y_star_train = train[y] * (train[T] - ps)/(ps*(1-ps))"
   ]
  },
  {
   "cell_type": "markdown",
   "metadata": {},
   "source": [
    "Com o alvo transformado, podemos escolher qualquer algoritmo de regressão de aprendizado de máquina para prever isso. Vamos usar boosted trees aqui."
   ]
  },
  {
   "cell_type": "code",
   "execution_count": 5,
   "metadata": {},
   "outputs": [],
   "source": [
    "from lightgbm import LGBMRegressor\n",
    "\n",
    "np.random.seed(123)\n",
    "cate_learner = LGBMRegressor(max_depth=3, min_child_samples=300, num_leaves=5)\n",
    "cate_learner.fit(train[X], y_star_train);"
   ]
  },
  {
   "cell_type": "markdown",
   "metadata": {},
   "source": [
    "Este modelo pode agora estimar $\\tau(x)_i$. Em outras palavras, o que ele produz é $\\hat{\\tau}(x)_i$. Por exemplo, se fizermos previsões no conjunto de teste, veremos que algumas unidades têm CATE mais alto do que outras. Por exemplo, o cliente 6958 tem um CATE de 0.1, o que significa que a probabilidade de ele ou ela comprar nosso produto de investimento é prevista aumentar em 0.1 se enviarmos o e-mail para este cliente. Em contraste, para o cliente 3903, a probabilidade de comprar o produto é prevista aumentar apenas 0.04."
   ]
  },
  {
   "cell_type": "code",
   "execution_count": 6,
   "metadata": {},
   "outputs": [
    {
     "data": {
      "text/html": [
       "<div>\n",
       "<style scoped>\n",
       "    .dataframe tbody tr th:only-of-type {\n",
       "        vertical-align: middle;\n",
       "    }\n",
       "\n",
       "    .dataframe tbody tr th {\n",
       "        vertical-align: top;\n",
       "    }\n",
       "\n",
       "    .dataframe thead th {\n",
       "        text-align: right;\n",
       "    }\n",
       "</style>\n",
       "<table border=\"1\" class=\"dataframe\">\n",
       "  <thead>\n",
       "    <tr style=\"text-align: right;\">\n",
       "      <th></th>\n",
       "      <th>age</th>\n",
       "      <th>income</th>\n",
       "      <th>insurance</th>\n",
       "      <th>invested</th>\n",
       "      <th>em1</th>\n",
       "      <th>em2</th>\n",
       "      <th>em3</th>\n",
       "      <th>converted</th>\n",
       "      <th>cate</th>\n",
       "    </tr>\n",
       "  </thead>\n",
       "  <tbody>\n",
       "    <tr>\n",
       "      <th>6958</th>\n",
       "      <td>40.9</td>\n",
       "      <td>4486.14</td>\n",
       "      <td>37320.33</td>\n",
       "      <td>12559.25</td>\n",
       "      <td>0</td>\n",
       "      <td>0</td>\n",
       "      <td>1</td>\n",
       "      <td>0</td>\n",
       "      <td>0.105665</td>\n",
       "    </tr>\n",
       "    <tr>\n",
       "      <th>7534</th>\n",
       "      <td>42.6</td>\n",
       "      <td>6386.19</td>\n",
       "      <td>13270.47</td>\n",
       "      <td>29114.42</td>\n",
       "      <td>0</td>\n",
       "      <td>0</td>\n",
       "      <td>1</td>\n",
       "      <td>0</td>\n",
       "      <td>0.121922</td>\n",
       "    </tr>\n",
       "    <tr>\n",
       "      <th>2975</th>\n",
       "      <td>47.6</td>\n",
       "      <td>1900.26</td>\n",
       "      <td>25588.72</td>\n",
       "      <td>2420.39</td>\n",
       "      <td>0</td>\n",
       "      <td>0</td>\n",
       "      <td>1</td>\n",
       "      <td>0</td>\n",
       "      <td>0.034161</td>\n",
       "    </tr>\n",
       "    <tr>\n",
       "      <th>3903</th>\n",
       "      <td>41.0</td>\n",
       "      <td>5802.19</td>\n",
       "      <td>57087.37</td>\n",
       "      <td>20182.20</td>\n",
       "      <td>1</td>\n",
       "      <td>0</td>\n",
       "      <td>1</td>\n",
       "      <td>1</td>\n",
       "      <td>0.046805</td>\n",
       "    </tr>\n",
       "    <tr>\n",
       "      <th>8437</th>\n",
       "      <td>49.1</td>\n",
       "      <td>2202.96</td>\n",
       "      <td>5050.81</td>\n",
       "      <td>9245.88</td>\n",
       "      <td>1</td>\n",
       "      <td>0</td>\n",
       "      <td>1</td>\n",
       "      <td>0</td>\n",
       "      <td>-0.009099</td>\n",
       "    </tr>\n",
       "  </tbody>\n",
       "</table>\n",
       "</div>"
      ],
      "text/plain": [
       "       age   income  insurance  invested  em1  em2  em3  converted      cate\n",
       "6958  40.9  4486.14   37320.33  12559.25    0    0    1          0  0.105665\n",
       "7534  42.6  6386.19   13270.47  29114.42    0    0    1          0  0.121922\n",
       "2975  47.6  1900.26   25588.72   2420.39    0    0    1          0  0.034161\n",
       "3903  41.0  5802.19   57087.37  20182.20    1    0    1          1  0.046805\n",
       "8437  49.1  2202.96    5050.81   9245.88    1    0    1          0 -0.009099"
      ]
     },
     "execution_count": 6,
     "metadata": {},
     "output_type": "execute_result"
    }
   ],
   "source": [
    "test_pred = test.assign(cate=cate_learner.predict(test[X]))\n",
    "test_pred.head()"
   ]
  },
  {
   "cell_type": "markdown",
   "metadata": {},
   "source": [
    "Para avaliar quão bom é este modelo, podemos mostrar as curvas de ganho acumulado, tanto para o conjunto de treinamento quanto para o conjunto de teste."
   ]
  },
  {
   "cell_type": "code",
   "execution_count": 7,
   "metadata": {
    "tags": [
     "hide-input"
    ]
   },
   "outputs": [
    {
     "data": {
      "image/png": "[encoded data removed]",
      "text/plain": [
       "<Figure size 432x288 with 1 Axes>"
      ]
     },
     "metadata": {
      "needs_background": "light"
     },
     "output_type": "display_data"
    }
   ],
   "source": [
    "gain_curve_test = cumulative_gain(test_pred, \"cate\", y=\"converted\", t=\"em1\")\n",
    "gain_curve_train = cumulative_gain(train.assign(cate=cate_learner.predict(train[X])), \"cate\", y=\"converted\", t=\"em1\")\n",
    "plt.plot(gain_curve_test, color=\"C0\", label=\"Test\")\n",
    "plt.plot(gain_curve_train, color=\"C1\", label=\"Train\")\n",
    "plt.plot([0, 100], [0, elast(test, \"converted\", \"em1\")], linestyle=\"--\", color=\"black\", label=\"Baseline\")\n",
    "plt.legend();"
   ]
  },
  {
   "cell_type": "markdown",
   "metadata": {},
   "source": [
    "Como podemos ver, este estimador plug-and-play é melhor do que aleatório no conjunto de teste. Ainda assim, parece que está sofrendo bastante overfitting, pois o desempenho no conjunto de treinamento é muito melhor do que no conjunto de teste.\n",
    "\n",
    "Isso é realmente uma das maiores desvantagens dessa técnica de transformação do alvo. Com essa transformação do alvo, você obtém muita simplicidade, pois pode simplesmente transformar o alvo e usar qualquer estimador de aprendizado de máquina para prever efeitos heterogêneos do tratamento. O custo disso é que você obtém muita variância. Isso ocorre porque o alvo transformado é uma estimativa muito ruidosa do efeito individual do tratamento, e essa variância é transferida para sua estimativa. Isso é um grande problema se você não tiver muitos dados, mas deve ser menos problemático em aplicações de big data, onde lidamos com mais de 1 milhão de amostras."
   ]
  },
  {
   "cell_type": "markdown",
   "metadata": {},
   "source": [
    "## O Caso de Tratamento Contínuo\n",
    "\n",
    "![img](./data/img/plug-and-play-estimators/second-estimator.png)\n",
    "\n",
    "Outra desvantagem evidente do método de transformação do alvo é que ele só funciona para tratamentos discretos ou binários. Isso é algo que você vê muito na literatura de inferência causal. A maior parte da pesquisa é feita para o caso de tratamento binário, mas você não encontra muito sobre tratamentos contínuos. Isso me incomodou bastante, porque na indústria, tratamentos contínuos estão em toda parte, principalmente na forma de preços que você precisa otimizar. Então, mesmo que eu não tenha encontrado nada sobre transformações de alvo para tratamento contínuo, eu inventei algo que funciona na prática. Apenas tenha em mente que não tenho uma pesquisa econométrica super sólida sobre isso.\n",
    " \n",
    "Para motivar isso, voltemos ao exemplo de vendas de sorvete. Lá, tínhamos a tarefa de estimar a elasticidade da demanda em relação ao preço para que possamos ajustar melhor os preços do sorvete e otimizar nossas receitas. Lembre-se de que a amostra de eventos no conjunto de dados é um dia e desejamos saber quando as pessoas são menos sensíveis a aumentos de preço. Além disso, lembre-se de que os preços são atribuídos aleatoriamente neste conjunto de dados, o que significa que não precisamos nos preocupar com viés de confusão."
   ]
  },
  {
   "cell_type": "code",
   "execution_count": 8,
   "metadata": {},
   "outputs": [
    {
     "data": {
      "text/html": [
       "<div>\n",
       "<style scoped>\n",
       "    .dataframe tbody tr th:only-of-type {\n",
       "        vertical-align: middle;\n",
       "    }\n",
       "\n",
       "    .dataframe tbody tr th {\n",
       "        vertical-align: top;\n",
       "    }\n",
       "\n",
       "    .dataframe thead th {\n",
       "        text-align: right;\n",
       "    }\n",
       "</style>\n",
       "<table border=\"1\" class=\"dataframe\">\n",
       "  <thead>\n",
       "    <tr style=\"text-align: right;\">\n",
       "      <th></th>\n",
       "      <th>temp</th>\n",
       "      <th>weekday</th>\n",
       "      <th>cost</th>\n",
       "      <th>price</th>\n",
       "      <th>sales</th>\n",
       "    </tr>\n",
       "  </thead>\n",
       "  <tbody>\n",
       "    <tr>\n",
       "      <th>0</th>\n",
       "      <td>25.8</td>\n",
       "      <td>1</td>\n",
       "      <td>0.3</td>\n",
       "      <td>7</td>\n",
       "      <td>230</td>\n",
       "    </tr>\n",
       "    <tr>\n",
       "      <th>1</th>\n",
       "      <td>22.7</td>\n",
       "      <td>3</td>\n",
       "      <td>0.5</td>\n",
       "      <td>4</td>\n",
       "      <td>190</td>\n",
       "    </tr>\n",
       "    <tr>\n",
       "      <th>2</th>\n",
       "      <td>33.7</td>\n",
       "      <td>7</td>\n",
       "      <td>1.0</td>\n",
       "      <td>5</td>\n",
       "      <td>237</td>\n",
       "    </tr>\n",
       "    <tr>\n",
       "      <th>3</th>\n",
       "      <td>23.0</td>\n",
       "      <td>4</td>\n",
       "      <td>0.5</td>\n",
       "      <td>5</td>\n",
       "      <td>193</td>\n",
       "    </tr>\n",
       "    <tr>\n",
       "      <th>4</th>\n",
       "      <td>24.4</td>\n",
       "      <td>1</td>\n",
       "      <td>1.0</td>\n",
       "      <td>3</td>\n",
       "      <td>252</td>\n",
       "    </tr>\n",
       "  </tbody>\n",
       "</table>\n",
       "</div>"
      ],
      "text/plain": [
       "   temp  weekday  cost  price  sales\n",
       "0  25.8        1   0.3      7    230\n",
       "1  22.7        3   0.5      4    190\n",
       "2  33.7        7   1.0      5    237\n",
       "3  23.0        4   0.5      5    193\n",
       "4  24.4        1   1.0      3    252"
      ]
     },
     "execution_count": 8,
     "metadata": {},
     "output_type": "execute_result"
    }
   ],
   "source": [
    "prices_rnd = pd.read_csv(\"./data/ice_cream_sales_rnd.csv\")\n",
    "prices_rnd.head()"
   ]
  },
  {
   "cell_type": "markdown",
   "metadata": {},
   "source": [
    "Como antes, vamos começar separando nossos dados em conjuntos de treinamento e teste."
   ]
  },
  {
   "cell_type": "code",
   "execution_count": 9,
   "metadata": {},
   "outputs": [
    {
     "data": {
      "text/plain": [
       "((3500, 5), (1500, 5))"
      ]
     },
     "execution_count": 9,
     "metadata": {},
     "output_type": "execute_result"
    }
   ],
   "source": [
    "np.random.seed(123)\n",
    "train, test = train_test_split(prices_rnd, test_size=0.3)\n",
    "train.shape, test.shape"
   ]
  },
  {
   "cell_type": "markdown",
   "metadata": {},
   "source": [
    "Agora é onde precisamos de um pouco de criatividade. Para o caso discreto, o efeito médio condicional do tratamento é dado por quanto o resultado muda quando passamos de não tratado para tratado, condicionado às características da unidade $X$.\n",
    " \n",
    "$\n",
    "\\tau(x) = E[Y_i(1) − Y_i(0)|X] = E[\\tau_i|X]\n",
    "$\n",
    " \n",
    "Em termos simples, isso significa estimar o impacto do tratamento em diferentes perfis de unidade, onde os perfis são definidos usando as características $X$. Para o caso contínuo, não temos aquela chave liga-desliga. As unidades não são tratadas ou não tratadas. Pelo contrário, todas são tratadas, mas com intensidades diferentes. Portanto, não podemos falar sobre o efeito de dar o tratamento. Em vez disso, precisamos falar em termos de aumentar o tratamento. Em outras palavras, desejamos saber como o resultado mudaria se aumentássemos o tratamento em alguma quantidade. Isso é como estimar a derivada parcial da função de resultado $Y$ em relação ao tratamento $t$. E porque desejamos saber isso para cada grupo (o CATE, não o ATE), condicionamos às características $X$.\n",
    " \n",
    "$\n",
    "\\tau(x) = E[\\partial Y_i(t)|X] = E[\\tau_i|X]\n",
    "$\n",
    " \n",
    "Como podemos estimar isso? Primeiro, vamos considerar o caso fácil, onde o resultado é linear em relação ao tratamento. Suponha que você tenha dois tipos de dias: dias quentes (amarelos) e dias frios (azuis). Em dias frios, as pessoas são mais sensíveis a aumentos de preço. Além disso, à medida que o preço aumenta, a demanda cai linearmente.\n",
    " \n",
    "![img](./data/img/plug-and-play-estimators/linear-case.png)\n",
    " \n",
    "Nesse caso, o CATE será a inclinação de cada linha de demanda. Essas inclinações nos dirão quanto a demanda diminuirá se aumentarmos o preço em qualquer quantidade. Se essa relação for realmente linear, podemos estimar essas elasticidades com o coeficiente de uma estimativa de regressão linear simples em dias quentes e em dias frios separadamente.\n",
    " \n",
    "$$\n",
    "\\hat{\\tau(x)} = Cov(Y_i, T_i)/Var(T_i) = \\dfrac{\\sum(Y_i- \\bar{Y})(T_i - \\bar{T})}{\\sum (T_i - \\bar{T})^2}\n",
    "$$\n",
    " \n",
    "Podemos nos inspirar nesse estimador e pensar como seria para uma unidade individual. Em outras palavras, e se tivermos a mesma coisa lá em cima, definida para cada dia. Na minha cabeça, seria algo assim:"
   ]
  },
  {
   "cell_type": "markdown",
   "metadata": {},
   "source": [
    "$\n",
    "Y^*_i = (Y_i- \\bar{Y})\\dfrac{(T_i - \\bar{T})}{\\sigma^2_T}\n",
    "$\n",
    " \n",
    "Em termos simples, nós transformaríamos o alvo original subtraindo a média dele, depois multiplicaríamos pelo tratamento, do qual também subtrairíamos a média. Por fim, dividiríamos pelo desvio padrão do tratamento. Assim, teríamos uma transformação do alvo para o caso contínuo.\n",
    "\n",
    "![img](./data/img/plug-and-play-estimators/genious.jpeg)\n",
    "\n",
    "A questão agora é: isso funciona? De fato, funciona, e podemos passar por uma prova semelhante para entender por que funciona, assim como fizemos no caso binário. Primeiro, vamos chamar\n",
    " \n",
    "$\n",
    "V_i = \\dfrac{(T_i - \\bar{T})}{\\sigma^2_T}\n",
    "$\n",
    " \n",
    "Observe que $E[V_i|X_i=x]=0$ porque sob a atribuição aleatória $E[T_i|X_i=x]=\\bar{T}$. Em outras palavras, para cada região de X, $E[T_i]=\\bar{T}$. Além disso, $E[T_i V_i | X_i=x]=1$ porque $E[T_i(T_i - \\bar{T})|X_i=x] = E[(T_i - \\bar{T})^2|X_i=x]$, que é a variância do tratamento. Finalmente, sob independência condicional (que obtemos gratuitamente no caso de atribuição de tratamento aleatório), $E[T_i e_i | X_i=x] = E[T_i | X_i=x] E[e_i | X_i=x]$.\n",
    " \n",
    "Para mostrar que essa transformação do alvo funciona, precisamos lembrar que estamos estimando o parâmetro para um modelo linear local.\n",
    " \n",
    "$\n",
    "Y_i = \\alpha + \\beta T_i + e_i | X_i=x\n",
    "$\n",
    " \n",
    "Em nosso exemplo, esses seriam os modelos lineares para os dias quentes e frios. Aqui, estamos interessados no parâmetro $\\beta$, que é nossa elasticidade condicional ou CATE. Com tudo isso, podemos provar que\n",
    " \n",
    "$\n",
    "\\begin{align}\n",
    "E[Y^*_i|X_i=X] &= E[(Y_i-\\bar{Y})V_i | X_i=x] \\\\\n",
    "&= E[(\\alpha + \\beta T_i + e_i - \\bar{Y})V_i | X_i=x] \\\\\n",
    "&= \\alpha E[V_i | X_i=x] + \\beta E[T_i V_i | X_i=x] + E[e_i V_i | X_i=x] \\\\\n",
    "&= \\beta + E[e_i V_i | X_i=x] \\\\\n",
    "&= \\beta = \\tau(x)\n",
    "\\end{align}\n",
    "$\n",
    " \n",
    "Tenha em mente que isso só funciona quando o tratamento é randomizado. Para tratamento não randomizado, precisamos substituir $\\bar{T}$ por $M(X_i)$, onde $M$ é um modelo que estima $E[T_i|X_i=x]$.\n",
    " \n",
    "$\n",
    "Y^*_i = (Y_i- \\bar{Y})\\dfrac{(T_i - M(T_i))}{(T_i - M(T_i))^2}\n",
    "$\n",
    " \n",
    "Isso garantirá que o termo $\\alpha E[V_i | X_i=x]$ na terceira linha se anule para zero e que o termo $E[T_i V_i | X_i=x]$ vá para 1. Observe que você realmente não precisa que $E[T_i V_i | X_i=x]$ vá para 1 se você apenas quiser ordenar unidades em termos de efeito do tratamento. Em outras palavras, se você só quiser saber em quais dias a demanda é mais sensível a aumentos de preço, mas não precisa saber em quanto, não importa se as estimativas de $\\beta$ são escaladas para cima ou para baixo. Se esse for o caso, você pode omitir o denominador.\n",
    " \n",
    "$\n",
    "Y^*_i = (Y_i- \\bar{Y})(T_i - M(T_i))\n",
    "$\n",
    " \n",
    "Se toda essa matemática parecer cansativa, não se preocupe. O código é realmente muito simples. Mais uma vez, transformamos nosso alvo de treinamento com as fórmulas vistas acima. Aqui, temos atribuições de tratamento aleatórias, então não precisamos construir um modelo que prevê preços. Também estou omitindo o denominador, porque aqui só me importa ordenar o efeito do tratamento."
   ]
  },
  {
   "cell_type": "code",
   "execution_count": 10,
   "metadata": {},
   "outputs": [],
   "source": [
    "y_star_cont = (train[\"price\"] - train[\"price\"].mean()\n",
    "               *train[\"sales\"] - train[\"sales\"].mean())"
   ]
  },
  {
   "cell_type": "markdown",
   "metadata": {},
   "source": [
    "Em seguida, assim como antes, ajustamos um modelo de aprendizado de máquina de regressão para prever esse alvo."
   ]
  },
  {
   "cell_type": "code",
   "execution_count": 11,
   "metadata": {},
   "outputs": [
    {
     "data": {
      "text/html": [
       "<div>\n",
       "<style scoped>\n",
       "    .dataframe tbody tr th:only-of-type {\n",
       "        vertical-align: middle;\n",
       "    }\n",
       "\n",
       "    .dataframe tbody tr th {\n",
       "        vertical-align: top;\n",
       "    }\n",
       "\n",
       "    .dataframe thead th {\n",
       "        text-align: right;\n",
       "    }\n",
       "</style>\n",
       "<table border=\"1\" class=\"dataframe\">\n",
       "  <thead>\n",
       "    <tr style=\"text-align: right;\">\n",
       "      <th></th>\n",
       "      <th>temp</th>\n",
       "      <th>weekday</th>\n",
       "      <th>cost</th>\n",
       "      <th>price</th>\n",
       "      <th>sales</th>\n",
       "      <th>cate</th>\n",
       "    </tr>\n",
       "  </thead>\n",
       "  <tbody>\n",
       "    <tr>\n",
       "      <th>2815</th>\n",
       "      <td>15.7</td>\n",
       "      <td>4</td>\n",
       "      <td>1.5</td>\n",
       "      <td>3</td>\n",
       "      <td>187</td>\n",
       "      <td>-1395.956278</td>\n",
       "    </tr>\n",
       "    <tr>\n",
       "      <th>257</th>\n",
       "      <td>29.4</td>\n",
       "      <td>3</td>\n",
       "      <td>1.0</td>\n",
       "      <td>3</td>\n",
       "      <td>209</td>\n",
       "      <td>-1607.400415</td>\n",
       "    </tr>\n",
       "    <tr>\n",
       "      <th>2585</th>\n",
       "      <td>24.6</td>\n",
       "      <td>6</td>\n",
       "      <td>1.0</td>\n",
       "      <td>10</td>\n",
       "      <td>197</td>\n",
       "      <td>-1497.197402</td>\n",
       "    </tr>\n",
       "    <tr>\n",
       "      <th>3260</th>\n",
       "      <td>20.2</td>\n",
       "      <td>1</td>\n",
       "      <td>0.5</td>\n",
       "      <td>4</td>\n",
       "      <td>246</td>\n",
       "      <td>-1629.798111</td>\n",
       "    </tr>\n",
       "    <tr>\n",
       "      <th>1999</th>\n",
       "      <td>10.0</td>\n",
       "      <td>4</td>\n",
       "      <td>0.5</td>\n",
       "      <td>10</td>\n",
       "      <td>139</td>\n",
       "      <td>-1333.690544</td>\n",
       "    </tr>\n",
       "  </tbody>\n",
       "</table>\n",
       "</div>"
      ],
      "text/plain": [
       "      temp  weekday  cost  price  sales         cate\n",
       "2815  15.7        4   1.5      3    187 -1395.956278\n",
       "257   29.4        3   1.0      3    209 -1607.400415\n",
       "2585  24.6        6   1.0     10    197 -1497.197402\n",
       "3260  20.2        1   0.5      4    246 -1629.798111\n",
       "1999  10.0        4   0.5     10    139 -1333.690544"
      ]
     },
     "execution_count": 11,
     "metadata": {},
     "output_type": "execute_result"
    }
   ],
   "source": [
    "cate_learner = LGBMRegressor(max_depth=3, min_child_samples=300, num_leaves=5)\n",
    "\n",
    "np.random.seed(123)\n",
    "cate_learner.fit(train[[\"temp\", \"weekday\", \"cost\"]], y_star_cont)\n",
    "\n",
    "cate_test_transf_y = cate_learner.predict(test[[\"temp\", \"weekday\", \"cost\"]])\n",
    "\n",
    "test_pred = test.assign(cate=cate_test_transf_y)\n",
    "test_pred.sample(5)"
   ]
  },
  {
   "cell_type": "markdown",
   "metadata": {},
   "source": [
    "Desta vez, a interpretação do CATE não é intuitiva. Como removemos o denominador da transformação do alvo, este CATE que estamos vendo é escalado por $Var(X)$. No entanto, essa previsão ainda deve ordenar bastante bem o efeito do tratamento. Para ver isso, podemos usar a curva de ganho acumulado, assim como fizemos antes."
   ]
  },
  {
   "cell_type": "code",
   "execution_count": 12,
   "metadata": {
    "tags": [
     "hide-input"
    ]
   },
   "outputs": [
    {
     "data": {
      "image/png": "[encoded data removed]",
      "text/plain": [
       "<Figure size 432x288 with 1 Axes>"
      ]
     },
     "metadata": {
      "needs_background": "light"
     },
     "output_type": "display_data"
    }
   ],
   "source": [
    "gain_curve_test = cumulative_gain(test.assign(cate=cate_test_transf_y),\n",
    "                                \"cate\", y=\"sales\", t=\"price\")\n",
    "\n",
    "gain_curve_train = cumulative_gain(train.assign(cate=cate_learner.predict(train[[\"temp\", \"weekday\", \"cost\"]])),\n",
    "                                   \"cate\", y=\"sales\", t=\"price\")\n",
    "\n",
    "\n",
    "plt.plot(gain_curve_test, label=\"Test\")\n",
    "plt.plot(gain_curve_train, label=\"Train\")\n",
    "plt.plot([0, 100], [0, elast(test, \"sales\", \"price\")], linestyle=\"--\", color=\"black\", label=\"Taseline\")\n",
    "plt.legend();"
   ]
  },
  {
   "cell_type": "markdown",
   "metadata": {},
   "source": [
    "Para esses dados, parece que o modelo com o alvo transformado é muito melhor do que aleatório. Além disso, os resultados de treinamento e teste estão bastante próximos, então a variância não é um problema aqui. Mas isso é apenas uma característica deste conjunto de dados. Se você se lembra, esse não foi o caso quando exploramos o caso de tratamento binário. Lá, o modelo não teve um desempenho tão bom.\n",
    "\n",
    "### Efeitos de Tratamento Não Lineares\n",
    " \n",
    "Depois de falar sobre o caso contínuo, ainda há um elefante na sala que precisamos abordar. Assumimos linearidade no efeito do tratamento. No entanto, isso raramente é uma suposição razoável. Normalmente, os efeitos do tratamento saturam de uma forma ou de outra. Em nosso exemplo, é razoável pensar que a demanda diminuirá mais rapidamente nos primeiros aumentos de preço, mas depois cairá mais lentamente.\n",
    " \n",
    "![img](./data/img/plug-and-play-estimators/non-linear-case.png)\n",
    " \n",
    "O problema aqui é que **a elasticidade ou efeito do tratamento muda com o próprio tratamento**. Em nosso exemplo, o efeito do tratamento é mais intenso no início da curva e menor à medida que os preços aumentam. Novamente, suponha que você tenha dois tipos de dias: dias quentes (amarelos) e dias frios (azuis) e queremos distinguir entre os dois com um modelo causal. A questão é que modelos causais devem prever a elasticidade, mas, no caso não linear, a elasticidade para dias quentes e frios poderia ser a mesma, se olharmos para diferentes pontos de preço na curva (imagem à direita).\n",
    " \n",
    "Não há uma solução fácil para esse problema, e confesso que ainda estou investigando o que funciona melhor. Por enquanto, o que faço é tentar pensar na forma funcional do efeito do tratamento e de alguma forma linearizá-lo. Por exemplo, a demanda geralmente tem a seguinte forma funcional, onde valores mais altos de $\\alpha$ significam que a demanda diminui mais rapidamente com cada aumento de preço:\n",
    " \n",
    "$\n",
    "D_i = \\dfrac{1}{P_i^{\\alpha}}\n",
    "$\n",
    "\n",
    "Então, se eu aplicar a transformação logarítmica tanto na demanda $Y$ quanto nos preços $T$, eu devo obter algo que seja linear.\n",
    "\n",
    "$\n",
    "\\begin{align}\n",
    "log(D)_i &= log\\bigg(\\dfrac{1}{P_i^{\\alpha}}\\bigg) \\\\\n",
    "&= log(1) - log(P_i^{\\alpha}) \\\\\n",
    "&= log(1) - log(P_i^{\\alpha}) \\\\\n",
    "&= - \\alpha * log(P_i) \\\\\n",
    "\\end{align}\n",
    "$\n",
    " \n",
    "A linearização não é tão fácil de fazer, pois envolve um pouco de reflexão. Mas você também pode experimentar e ver o que funciona melhor. Muitas vezes, coisas como logaritmos e raízes quadradas ajudam.\n",
    " \n",
    "## Conceitos-chave\n",
    "\n",
    "Agora estamos indo na direção de estimar efeitos médios condicionais de tratamento usando modelos de aprendizado de máquina. O maior desafio ao fazer isso é adaptar um modelo preditivo para um que estima efeitos causais. Outra maneira de pensar nisso é que modelos preditivos se concentram em estimar o resultado Y como uma função das características X e possivelmente do tratamento T $Y = M(X, T) $, enquanto modelos causais precisam estimar a derivada parcial dessa função de saída em relação ao tratamento $ \\partial Y = \\partial M(X, T) $. Isso está longe de ser trivial, porque, embora observemos o resultado Y, não podemos observar $\\partial Y$, pelo menos não em um nível individual. Como consequência, precisamos ser criativos ao projetar uma função objetivo para nossos modelos.\n",
    " \n",
    "Aqui, vimos uma técnica muito simples de transformação do alvo. A ideia é combinar o alvo original Y com o tratamento T para formar um alvo transformado que, em expectativa, seja igual ao CATE. Com esse novo alvo, podemos usar qualquer modelo preditivo de aprendizado de máquina para estimá-lo e, em seguida, as previsões do modelo serão estimativas do CATE. Como nota adicional, além da transformação do alvo, esse método também é conhecido como **F-Learner**.\n",
    " \n",
    "Com toda essa simplicidade, também há um preço a pagar. O alvo transformado é uma estimativa muito ruidosa do efeito do tratamento individual e esse ruído será transferido para as estimativas do modelo na forma de variância. Isso torna a transformação do alvo mais adequada para aplicações de big data, onde a variância é menos problemática devido ao grande tamanho da amostra. Outra desvantagem do método de transformação do alvo é que ele só é definido para tratamentos binários ou categóricos. Fizemos o nosso melhor para criar uma versão contínua da abordagem e até acabamos com algo que parecia funcionar, mas até agora, não há um framework teórico sólido para respaldá-lo.\n",
    " \n",
    "Finalmente, terminamos com uma discussão sobre efeitos de tratamento não lineares e os desafios que surgem com isso. Ou seja, quando o efeito do tratamento muda com o próprio tratamento, podemos erroneamente pensar que as unidades têm a mesma curva de resposta ao tratamento porque têm a mesma responsividade ao tratamento, mas na verdade estão apenas recebendo quantidades diferentes de tratamento.\n",
    "\n",
    "## Referências\n",
    "\n",
    "As coisas que escrevi aqui são em sua maioria ideias que surgiram em minha mente. Aprendi essas coisas por meio da experiência. Isso significa que não há uma referência direta que eu possa indicar. Também significa que as coisas que escrevi aqui **não** passaram pela escrutínio acadêmico que a boa ciência frequentemente enfrenta. Em vez disso, observe como estou falando sobre coisas que funcionam na prática, mas não dedico muito tempo a explicar por que isso é assim. É uma espécie de ciência das ruas, por assim dizer. No entanto, estou submetendo isso à escrutínio público, então, de alguma forma, se encontrar algo absurdo, abra uma issue, e eu o abordarei da melhor forma possível. \n",
    " \n",
    "A maior parte deste capítulo é baseada no artigo de Susan Athey e Guido W. Imbens, *Machine Learning Methods for Estimating Heterogeneous Causal Effects*. Algum material sobre transformação de alvo também pode ser encontrado no artigo de Pierre Gutierrez e Jean-Yves G´erardy, *Causal Inference and Uplift Modeling: A review of the literature*. Observe que esses artigos abordam apenas o caso de tratamento binário. Outra revisão de modelos causais para a estimativa do CATE que faz referência ao F-Learner é *Meta-learners for Estimating Heterogeneous Treatment Effects using Machine Learning*, de K¨unzel et al, 2019.\n",
    "\n",
    " \n",
    "## Contribua\n",
    "\n",
    "\"Inferência Causal para os Corajosos e Verdadeiros\" é um material de código aberto sobre inferência causal, a estatística da ciência. Seu objetivo é ser acessível monetariamente e intelectualmente. Ele utiliza apenas software gratuito baseado em Python.\n",
    "Se você encontrou valor neste livro e deseja apoiá-lo, por favor, vá para o [Patreon](https://www.patreon.com/causal_inference_for_the_brave_and_true). Se você não estiver pronto para contribuir financeiramente, também pode ajudar corrigindo erros, sugerindo edições ou dando feedback sobre trechos que não compreendeu. Acesse o repositório do livro e abra uma issue na [versão em inglês](https://github.com/matheusfacure/python-causality-handbook/issues) ou na [versão em português](https://github.com/rdemarqui/python-causality-handbook-ptbr/issues). Por fim, se você gostou deste conteúdo, compartilhe com outras pessoas que possam achar útil e dê uma estrela no GitHub na [versão em inglês](https://github.com/matheusfacure/python-causality-handbook/stargazers) e na [versão em português](https://github.com/rdemarqui/python-causality-handbook-ptbr/stargazers)."
   ]
  },
  {
   "cell_type": "markdown",
   "metadata": {},
   "source": [
    "---"
   ]
  },
  {
   "cell_type": "markdown",
   "metadata": {},
   "source": [
    "<div align=\"center\">\n",
    "<a href=\"19-Evaluating-Causal-Models.ipynb\"><-- Anterior</a>  \n",
    "<a href=\"00-Summary.ipynb\">| Sumário |</a>  \n",
    "<a href=\"21-Meta-Learners.ipynb\">Próximo --></a>  \n",
    "</div>"
   ]
  }
 ],
 "metadata": {
  "celltoolbar": "Tags",
  "kernelspec": {
   "display_name": "Python 3 (ipykernel)",
   "language": "python",
   "name": "python3"
  },
  "language_info": {
   "codemirror_mode": {
    "name": "ipython",
    "version": 3
   },
   "file_extension": ".py",
   "mimetype": "text/x-python",
   "name": "python",
   "nbconvert_exporter": "python",
   "pygments_lexer": "ipython3",
   "version": "3.10.6"
  },
  "toc": {
   "base_numbering": 1,
   "nav_menu": {},
   "number_sections": true,
   "sideBar": true,
   "skip_h1_title": false,
   "title_cell": "Table of Contents",
   "title_sidebar": "Contents",
   "toc_cell": false,
   "toc_position": {},
   "toc_section_display": true,
   "toc_window_display": false
  }
 },
 "nbformat": 4,
 "nbformat_minor": 4
}
