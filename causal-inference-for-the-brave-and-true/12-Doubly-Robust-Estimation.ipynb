{
 "cells": [
  {
   "cell_type": "markdown",
   "metadata": {},
   "source": [
    "# 12 - Estimação Duplamente Robusta\n",
    "\n",
    "## Não Coloque Todos os Ovos na Mesma Cesta\n",
    "\n",
    "Aprendemos como utilizar a regressão linear e o peso da pontuação de propensão para estimar $E[Y|T=1] - E[Y|T=0] | X$. Mas qual devemos usar e quando? Em caso de dúvida, use ambos! A Estimação Duplamente Robusta é uma maneira de combinar a pontuação de propensão e a regressão linear de forma que você não precise depender exclusivamente de uma delas.\n",
    "\n",
    "Para entender como isso funciona, vamos considerar o experimento da mentalidade. Trata-se de um estudo randomizado realizado em escolas públicas dos Estados Unidos, com o objetivo de avaliar o impacto da mentalidade de crescimento. O procedimento consiste em fornecer aos alunos um seminário, promovido pela escola, para fomentar uma mentalidade de crescimento. Em seguida, eles acompanham os alunos durante seus anos universitários para medir seu desempenho acadêmico. Essa medição é compilada em uma pontuação de realização e padronizada. Os dados reais deste estudo não estão disponíveis publicamente para preservar a privacidade dos alunos. No entanto, temos um conjunto de dados simulado com as mesmas propriedades estatísticas fornecidas por [Athey and Wager](https://arxiv.org/pdf/1902.07409.pdf), e usaremos esse conjunto simulado no lugar."
   ]
  },
  {
   "cell_type": "code",
   "execution_count": 1,
   "metadata": {
    "ExecuteTime": {
     "end_time": "2023-03-14T11:05:50.498438Z",
     "start_time": "2023-03-14T11:05:46.659452Z"
    },
    "tags": [
     "hide-input"
    ]
   },
   "outputs": [],
   "source": [
    "import warnings\n",
    "warnings.filterwarnings('ignore')\n",
    "\n",
    "import pandas as pd\n",
    "import numpy as np\n",
    "from matplotlib import style\n",
    "from matplotlib import pyplot as plt\n",
    "import seaborn as sns\n",
    "\n",
    "from sklearn.linear_model import LogisticRegression, LinearRegression\n",
    "\n",
    "%matplotlib inline\n",
    "\n",
    "style.use(\"fivethirtyeight\")\n",
    "pd.set_option(\"display.max_columns\", 6)"
   ]
  },
  {
   "cell_type": "code",
   "execution_count": 2,
   "metadata": {
    "ExecuteTime": {
     "end_time": "2023-03-14T11:05:50.535134Z",
     "start_time": "2023-03-14T11:05:50.500165Z"
    }
   },
   "outputs": [
    {
     "data": {
      "text/html": [
       "<div>\n",
       "<style scoped>\n",
       "    .dataframe tbody tr th:only-of-type {\n",
       "        vertical-align: middle;\n",
       "    }\n",
       "\n",
       "    .dataframe tbody tr th {\n",
       "        vertical-align: top;\n",
       "    }\n",
       "\n",
       "    .dataframe thead th {\n",
       "        text-align: right;\n",
       "    }\n",
       "</style>\n",
       "<table border=\"1\" class=\"dataframe\">\n",
       "  <thead>\n",
       "    <tr style=\"text-align: right;\">\n",
       "      <th></th>\n",
       "      <th>schoolid</th>\n",
       "      <th>intervention</th>\n",
       "      <th>achievement_score</th>\n",
       "      <th>...</th>\n",
       "      <th>school_ethnic_minority</th>\n",
       "      <th>school_poverty</th>\n",
       "      <th>school_size</th>\n",
       "    </tr>\n",
       "  </thead>\n",
       "  <tbody>\n",
       "    <tr>\n",
       "      <th>259</th>\n",
       "      <td>73</td>\n",
       "      <td>1</td>\n",
       "      <td>1.480828</td>\n",
       "      <td>...</td>\n",
       "      <td>-0.515202</td>\n",
       "      <td>-0.169849</td>\n",
       "      <td>0.173954</td>\n",
       "    </tr>\n",
       "    <tr>\n",
       "      <th>3435</th>\n",
       "      <td>76</td>\n",
       "      <td>0</td>\n",
       "      <td>-0.987277</td>\n",
       "      <td>...</td>\n",
       "      <td>-1.310927</td>\n",
       "      <td>0.224077</td>\n",
       "      <td>-0.426757</td>\n",
       "    </tr>\n",
       "    <tr>\n",
       "      <th>9963</th>\n",
       "      <td>4</td>\n",
       "      <td>0</td>\n",
       "      <td>-0.152340</td>\n",
       "      <td>...</td>\n",
       "      <td>0.875012</td>\n",
       "      <td>-0.724801</td>\n",
       "      <td>0.761781</td>\n",
       "    </tr>\n",
       "    <tr>\n",
       "      <th>4488</th>\n",
       "      <td>67</td>\n",
       "      <td>0</td>\n",
       "      <td>0.358336</td>\n",
       "      <td>...</td>\n",
       "      <td>0.315755</td>\n",
       "      <td>0.054586</td>\n",
       "      <td>1.862187</td>\n",
       "    </tr>\n",
       "    <tr>\n",
       "      <th>2637</th>\n",
       "      <td>16</td>\n",
       "      <td>1</td>\n",
       "      <td>1.360920</td>\n",
       "      <td>...</td>\n",
       "      <td>-0.033161</td>\n",
       "      <td>-0.982274</td>\n",
       "      <td>1.591641</td>\n",
       "    </tr>\n",
       "  </tbody>\n",
       "</table>\n",
       "<p>5 rows × 13 columns</p>\n",
       "</div>"
      ],
      "text/plain": [
       "      schoolid  intervention  achievement_score  ...  school_ethnic_minority  \\\n",
       "259         73             1           1.480828  ...               -0.515202   \n",
       "3435        76             0          -0.987277  ...               -1.310927   \n",
       "9963         4             0          -0.152340  ...                0.875012   \n",
       "4488        67             0           0.358336  ...                0.315755   \n",
       "2637        16             1           1.360920  ...               -0.033161   \n",
       "\n",
       "      school_poverty  school_size  \n",
       "259        -0.169849     0.173954  \n",
       "3435        0.224077    -0.426757  \n",
       "9963       -0.724801     0.761781  \n",
       "4488        0.054586     1.862187  \n",
       "2637       -0.982274     1.591641  \n",
       "\n",
       "[5 rows x 13 columns]"
      ]
     },
     "execution_count": 2,
     "metadata": {},
     "output_type": "execute_result"
    }
   ],
   "source": [
    "data = pd.read_csv(\"./data/learning_mindset.csv\")\n",
    "data.sample(5, random_state=5)"
   ]
  },
  {
   "cell_type": "markdown",
   "metadata": {},
   "source": [
    "Embora o estudo tenha sido randomizado, parece que os dados não estão livres de confundidores. Uma possível razão é que a variável de tratamento é medida pela participação do aluno no seminário. Assim, embora a oportunidade de participação tenha sido aleatória, a participação em si não o foi. Estamos lidando com um caso de cumprimento parcial aqui. Uma evidência disso é como a expectativa de sucesso do aluno está correlacionada com a participação no seminário. Alunos com expectativas auto-relatadas mais altas têm maior probabilidade de terem participado do seminário sobre mentalidade de crescimento."
   ]
  },
  {
   "cell_type": "code",
   "execution_count": 3,
   "metadata": {
    "ExecuteTime": {
     "end_time": "2023-03-14T11:05:50.546638Z",
     "start_time": "2023-03-14T11:05:50.538742Z"
    }
   },
   "outputs": [
    {
     "data": {
      "text/plain": [
       "success_expect\n",
       "1    0.271739\n",
       "2    0.265957\n",
       "3    0.294118\n",
       "4    0.271617\n",
       "5    0.311070\n",
       "6    0.354287\n",
       "7    0.362319\n",
       "Name: intervention, dtype: float64"
      ]
     },
     "execution_count": 3,
     "metadata": {},
     "output_type": "execute_result"
    }
   ],
   "source": [
    "data.groupby(\"success_expect\")[\"intervention\"].mean()"
   ]
  },
  {
   "cell_type": "markdown",
   "metadata": {},
   "source": [
    "Como sabemos agora, podemos ajustar isso usando uma regressão linear ou estimando um modelo de pontuação de propensão com uma regressão logística. Antes de fazer isso, no entanto, precisamos converter as variáveis categóricas em variáveis dummy."
   ]
  },
  {
   "cell_type": "code",
   "execution_count": 4,
   "metadata": {
    "ExecuteTime": {
     "end_time": "2023-03-14T11:05:50.559709Z",
     "start_time": "2023-03-14T11:05:50.548969Z"
    }
   },
   "outputs": [
    {
     "name": "stdout",
     "output_type": "stream",
     "text": [
      "(10391, 32)\n"
     ]
    }
   ],
   "source": [
    "categ = [\"ethnicity\", \"gender\", \"school_urbanicity\"]\n",
    "cont = [\"school_mindset\", \"school_achievement\", \"school_ethnic_minority\", \"school_poverty\", \"school_size\"]\n",
    "\n",
    "data_with_categ = pd.concat([\n",
    "    data.drop(columns=categ), # dataset without the categorical features\n",
    "    pd.get_dummies(data[categ], columns=categ, drop_first=False) # categorical features converted to dummies\n",
    "], axis=1)\n",
    "\n",
    "print(data_with_categ.shape)"
   ]
  },
  {
   "cell_type": "markdown",
   "metadata": {},
   "source": [
    "Estamos agora prontos para compreender como funciona a estimação duplamente robusta.\n",
    "\n",
    "## Estimação Duplamente Robusta\n",
    "\n",
    "![img](./data/img/doubly-robust/double.png)\n",
    "\n",
    "Em vez de derivar o estimador, vou primeiro mostrá-lo e só então explicar por que é incrível.\n",
    "\n",
    "$\n",
    "\\hat{ATE} = \\frac{1}{N}\\sum \\bigg( \\dfrac{T_i(Y_i - \\hat{\\mu_1}(X_i))}{\\hat{P}(X_i)} + \\hat{\\mu_1}(X_i) \\bigg) - \\frac{1}{N}\\sum \\bigg( \\dfrac{(1-T_i)(Y_i - \\hat{\\mu_0}(X_i))}{1-\\hat{P}(X_i)} + \\hat{\\mu_0}(X_i) \\bigg)\n",
    "$\n",
    "\n",
    "onde $\\hat{P}(x)$ é uma estimativa da pontuação de propensão (usando regressão logística, por exemplo), $\\hat{\\mu_1}(x)$ é uma estimativa de $E[Y|X, T=1]$ (usando regressão linear, por exemplo), e $\\hat{\\mu_0}(x)$ é uma estimativa de $E[Y|X, T=0]$. Como você já deve ter imaginado, a primeira parte do estimador duplamente robusto estima $E[Y_1]$ e a segunda parte estima $E[Y_0]$. Vamos examinar a primeira parte, pois toda a intuição também se aplicará à segunda parte por analogia.\n",
    "\n",
    "Como sei que esta fórmula pode parecer assustadora à primeira vista (mas não se preocupe, verá que é super simples), vou primeiro mostrar como codificar este estimador. Tenho a sensação de que algumas pessoas se assustam menos com código do que com fórmulas. Vamos ver como este estimador funciona na prática, certo?"
   ]
  },
  {
   "cell_type": "code",
   "execution_count": 5,
   "metadata": {
    "ExecuteTime": {
     "end_time": "2023-03-14T11:05:50.566875Z",
     "start_time": "2023-03-14T11:05:50.562600Z"
    }
   },
   "outputs": [],
   "source": [
    "def doubly_robust(df, X, T, Y):\n",
    "    ps = LogisticRegression(C=1e6, max_iter=1000).fit(df[X], df[T]).predict_proba(df[X])[:, 1]\n",
    "    mu0 = LinearRegression().fit(df.query(f\"{T}==0\")[X], df.query(f\"{T}==0\")[Y]).predict(df[X])\n",
    "    mu1 = LinearRegression().fit(df.query(f\"{T}==1\")[X], df.query(f\"{T}==1\")[Y]).predict(df[X])\n",
    "    return (\n",
    "        np.mean(df[T]*(df[Y] - mu1)/ps + mu1) -\n",
    "        np.mean((1-df[T])*(df[Y] - mu0)/(1-ps) + mu0)\n",
    "    )"
   ]
  },
  {
   "cell_type": "code",
   "execution_count": 6,
   "metadata": {
    "ExecuteTime": {
     "end_time": "2023-03-14T11:05:50.753508Z",
     "start_time": "2023-03-14T11:05:50.568291Z"
    }
   },
   "outputs": [
    {
     "data": {
      "text/plain": [
       "0.38822121767832457"
      ]
     },
     "execution_count": 6,
     "metadata": {},
     "output_type": "execute_result"
    }
   ],
   "source": [
    "T = 'intervention'\n",
    "Y = 'achievement_score'\n",
    "X = data_with_categ.columns.drop(['schoolid', T, Y])\n",
    "\n",
    "doubly_robust(data_with_categ, X, T, Y)"
   ]
  },
  {
   "cell_type": "markdown",
   "metadata": {},
   "source": [
    "O estimador duplamente robusto está indicando que devemos esperar que os indivíduos que participaram do seminário sobre mentalidade estejam 0.388 desvios padrão acima de seus colegas não tratados, em termos de realizações. Mais uma vez, podemos utilizar a técnica de amostras com reposição *(bootstrap, em inglês)* para construir intervalos de confiança."
   ]
  },
  {
   "cell_type": "code",
   "execution_count": 7,
   "metadata": {
    "ExecuteTime": {
     "end_time": "2023-03-14T11:06:30.493875Z",
     "start_time": "2023-03-14T11:05:50.757649Z"
    },
    "scrolled": false
   },
   "outputs": [],
   "source": [
    "from joblib import Parallel, delayed # for parallel processing\n",
    "\n",
    "np.random.seed(88)\n",
    "# run 1000 bootstrap samples\n",
    "bootstrap_sample = 1000\n",
    "ates = Parallel(n_jobs=4)(delayed(doubly_robust)(data_with_categ.sample(frac=1, replace=True), X, T, Y)\n",
    "                          for _ in range(bootstrap_sample))\n",
    "ates = np.array(ates)"
   ]
  },
  {
   "cell_type": "code",
   "execution_count": 8,
   "metadata": {
    "ExecuteTime": {
     "end_time": "2023-03-14T11:06:30.500840Z",
     "start_time": "2023-03-14T11:06:30.496065Z"
    }
   },
   "outputs": [
    {
     "name": "stdout",
     "output_type": "stream",
     "text": [
      "ATE 95% CI: (0.35364752721776144, 0.41978441342477585)\n"
     ]
    }
   ],
   "source": [
    "print(f\"ATE 95% CI:\", (np.percentile(ates, 2.5), np.percentile(ates, 97.5)))"
   ]
  },
  {
   "cell_type": "code",
   "execution_count": 9,
   "metadata": {
    "ExecuteTime": {
     "end_time": "2023-03-14T11:06:30.625413Z",
     "start_time": "2023-03-14T11:06:30.502013Z"
    }
   },
   "outputs": [
    {
     "data": {
      "image/png": "[encoded data removed]",
      "text/plain": [
       "<Figure size 432x288 with 1 Axes>"
      ]
     },
     "metadata": {},
     "output_type": "display_data"
    }
   ],
   "source": [
    "sns.distplot(ates, kde=False)\n",
    "plt.vlines(np.percentile(ates, 2.5), 0, 20, linestyles=\"dotted\")\n",
    "plt.vlines(np.percentile(ates, 97.5), 0, 20, linestyles=\"dotted\", label=\"95% CI\")\n",
    "plt.title(\"ATE Bootstrap Distribution\")\n",
    "plt.legend();"
   ]
  },
  {
   "cell_type": "markdown",
   "metadata": {},
   "source": [
    "Agora que tivemos uma ideia do estimador duplamente robusto, vamos examinar por que ele é tão bom. Primeiro, é chamado de duplamente robusto porque só exige que um dos modelos, $\\hat{P}(x)$ ou $\\hat{\\mu}(x)$, esteja corretamente especificado. Para entender isso, pegue a primeira parte que estima $E[Y_1]$ e analise-a cuidadosamente.\n",
    "\n",
    "$\n",
    "\\hat{E}[Y_1] = \\frac{1}{N}\\sum \\bigg( \\dfrac{T_i(Y_i - \\hat{\\mu_1}(X_i))}{\\hat{P}(X_i)} + \\hat{\\mu_1}(X_i) \\bigg)\n",
    "$\n",
    "\n",
    "Suponha que $\\hat{\\mu_1}(x)$ seja correto. Se o modelo de pontuação de propensão estiver errado, não precisamos nos preocupar. Isso porque, se $\\hat{\\mu_1}(x)$ estiver correto, então $E[T_i(Y_i - \\hat{\\mu_1}(X_i))]=0$. Isso ocorre porque a multiplicação por $T_i$ seleciona apenas os tratados, e o resíduo de $\\hat{\\mu_1}$ nos tratados tem, por definição, média zero. Isso faz com que o conjunto inteiro se reduza a $\\hat{\\mu_1}(X_i)$, que é a estimativa correta de $E[Y_1]$ por hipótese. Portanto, você vê que, ao estar correto, $\\hat{\\mu_1}(X_i)$ elimina a relevância do modelo de escore de propensão. Podemos aplicar o mesmo raciocínio para compreender o estimador de $E[Y_0]$.\n",
    "\n",
    "Mas não confie apenas em minhas palavras. Deixe o código mostrar o caminho! No estimador a seguir, substituí a regressão logística que estima o escore de propensão por uma variável aleatória uniforme que varia de 0.1 a 0.9 (não quero pesos muito pequenos aumentando a variância do escore de propensão). Como isso é aleatório, não tem esse modelo ser um bom modelo de escore de propensão, mas veremos que o estimador duplamente robusto ainda consegue produzir uma estimativa muito próxima daquela obtida quando o escore de propensão foi estimado com regressão logística."
   ]
  },
  {
   "cell_type": "code",
   "execution_count": 10,
   "metadata": {
    "ExecuteTime": {
     "end_time": "2023-03-14T11:06:30.631039Z",
     "start_time": "2023-03-14T11:06:30.626680Z"
    }
   },
   "outputs": [],
   "source": [
    "from sklearn.linear_model import LogisticRegression, LinearRegression\n",
    "\n",
    "def doubly_robust_wrong_ps(df, X, T, Y):\n",
    "    # wrong PS model\n",
    "    np.random.seed(654)\n",
    "    ps = np.random.uniform(0.1, 0.9, df.shape[0])\n",
    "    mu0 = LinearRegression().fit(df.query(f\"{T}==0\")[X], df.query(f\"{T}==0\")[Y]).predict(df[X])\n",
    "    mu1 = LinearRegression().fit(df.query(f\"{T}==1\")[X], df.query(f\"{T}==1\")[Y]).predict(df[X])\n",
    "    return (\n",
    "        np.mean(df[T]*(df[Y] - mu1)/ps + mu1) -\n",
    "        np.mean((1-df[T])*(df[Y] - mu0)/(1-ps) + mu0)\n",
    "    )"
   ]
  },
  {
   "cell_type": "code",
   "execution_count": 11,
   "metadata": {
    "ExecuteTime": {
     "end_time": "2023-03-14T11:06:30.693635Z",
     "start_time": "2023-03-14T11:06:30.632597Z"
    }
   },
   "outputs": [
    {
     "data": {
      "text/plain": [
       "0.3797369830995927"
      ]
     },
     "execution_count": 11,
     "metadata": {},
     "output_type": "execute_result"
    }
   ],
   "source": [
    "doubly_robust_wrong_ps(data_with_categ, X, T, Y)"
   ]
  },
  {
   "cell_type": "markdown",
   "metadata": {},
   "source": [
    "Se utilizarmos a técnica de amostras com reposição, podemos observar que a variância é ligeiramente maior do que quando o escore de propensão foi estimado com regressão logística."
   ]
  },
  {
   "cell_type": "code",
   "execution_count": 12,
   "metadata": {
    "ExecuteTime": {
     "end_time": "2023-03-14T11:06:42.860551Z",
     "start_time": "2023-03-14T11:06:30.695579Z"
    }
   },
   "outputs": [],
   "source": [
    "np.random.seed(88)\n",
    "parallel_fn = delayed(doubly_robust_wrong_ps)\n",
    "wrong_ps = Parallel(n_jobs=4)(parallel_fn(data_with_categ.sample(frac=1, replace=True), X, T, Y)\n",
    "                              for _ in range(bootstrap_sample))\n",
    "wrong_ps = np.array(wrong_ps)"
   ]
  },
  {
   "cell_type": "code",
   "execution_count": 13,
   "metadata": {
    "ExecuteTime": {
     "end_time": "2023-03-14T11:06:42.865351Z",
     "start_time": "2023-03-14T11:06:42.861924Z"
    }
   },
   "outputs": [
    {
     "name": "stdout",
     "output_type": "stream",
     "text": [
      "Original ATE 95% CI: (0.35364752721776144, 0.41978441342477585)\n",
      "Wrong PS ATE 95% CI: (0.33806443306747086, 0.4335673822553228)\n"
     ]
    }
   ],
   "source": [
    "print(f\"Original ATE 95% CI:\", (np.percentile(ates, 2.5), np.percentile(ates, 97.5)))\n",
    "\n",
    "print(f\"Wrong PS ATE 95% CI:\", (np.percentile(wrong_ps, 2.5), np.percentile(wrong_ps, 97.5)))"
   ]
  },
  {
   "cell_type": "markdown",
   "metadata": {},
   "source": [
    "Como podemos ver, comprometer a pontuação de propensão gera ATEs ligeiramente diferentes, mas não muito. Isso abrange o caso em que o modelo de propensão está errado, mas o modelo de resultado está correto. E quanto à outra situação? Vamos mais uma vez analisar cuidadosamente a primeira parte do estimador, mas vamos rearranjar alguns termos.\n",
    "\n",
    "$\n",
    "\\hat{E}[Y_1] = \\frac{1}{N}\\sum \\bigg( \\dfrac{T_i(Y_i - \\hat{\\mu_1}(X_i))}{\\hat{P}(X_i)} + \\hat{\\mu_1}(X_i) \\bigg)\n",
    "$\n",
    "\n",
    "$\n",
    "\\hat{E}[Y_1] = \\frac{1}{N}\\sum \\bigg( \\dfrac{T_iY_i}{\\hat{P}(X_i)} - \\dfrac{T_i\\hat{\\mu_1}(X_i)}{\\hat{P}(X_i)} + \\hat{\\mu_1}(X_i) \\bigg)\n",
    "$\n",
    "\n",
    "$\n",
    "\\hat{E}[Y_1] = \\frac{1}{N}\\sum \\bigg( \\dfrac{T_iY_i}{\\hat{P}(X_i)} - \\bigg(\\dfrac{T_i}{\\hat{P}(X_i)} - 1\\bigg) \\hat{\\mu_1}(X_i) \\bigg)\n",
    "$\n",
    "\n",
    "$\n",
    "\\hat{E}[Y_1] = \\frac{1}{N}\\sum \\bigg( \\dfrac{T_iY_i}{\\hat{P}(X_i)} - \\bigg(\\dfrac{T_i - \\hat{P}(X_i)}{\\hat{P}(X_i)}\\bigg) \\hat{\\mu_1}(X_i) \\bigg)\n",
    "$\n",
    "\n",
    "Agora, suponha que o escore de propensão $\\hat{P}(X_i)$ esteja corretamente especificado. Nesse caso, $E[T_i - \\hat{P}(X_i)]=0$, o que elimina a parte dependente de $\\hat{\\mu_1}(X_i)$. Isso faz com que o estimador duplamente robusto se reduza ao estimador de ponderação pelo escore de propensão $\\frac{T_iY_i}{\\hat{P}(X_i)}$, que é correto por hipótese. Portanto, mesmo que $\\hat{\\mu_1}(X_i)$ esteja incorreto, o estimador ainda será correto, desde que o escore de propensão esteja corretamente especificado.\n",
    "\n",
    "Mais uma vez, se você confia mais em código do que em fórmulas, aqui está a verificação prática. No código abaixo, substituí ambos os modelos de regressão por uma variável normal aleatória. Não há dúvida de que $\\hat{\\mu}(X_i)$ **não está corretamente especificado**. Ainda assim, veremos que a estimação duplamente robusta ainda consegue recuperar o mesmo $\\hat{ATE}$ de cerca de 0.38 que vimos antes."
   ]
  },
  {
   "cell_type": "code",
   "execution_count": 14,
   "metadata": {
    "ExecuteTime": {
     "end_time": "2023-03-14T11:06:42.869724Z",
     "start_time": "2023-03-14T11:06:42.866481Z"
    }
   },
   "outputs": [],
   "source": [
    "from sklearn.linear_model import LogisticRegression, LinearRegression\n",
    "\n",
    "def doubly_robust_wrong_model(df, X, T, Y):\n",
    "    np.random.seed(654)\n",
    "    ps = LogisticRegression(C=1e6, max_iter=1000).fit(df[X], df[T]).predict_proba(df[X])[:, 1]\n",
    "    \n",
    "    # wrong mu(x) model\n",
    "    mu0 = np.random.normal(0, 1, df.shape[0])\n",
    "    mu1 = np.random.normal(0, 1, df.shape[0])\n",
    "    return (\n",
    "        np.mean(df[T]*(df[Y] - mu1)/ps + mu1) -\n",
    "        np.mean((1-df[T])*(df[Y] - mu0)/(1-ps) + mu0)\n",
    "    )"
   ]
  },
  {
   "cell_type": "code",
   "execution_count": 15,
   "metadata": {
    "ExecuteTime": {
     "end_time": "2023-03-14T11:06:43.004865Z",
     "start_time": "2023-03-14T11:06:42.871233Z"
    }
   },
   "outputs": [
    {
     "data": {
      "text/plain": [
       "0.39811864040982625"
      ]
     },
     "execution_count": 15,
     "metadata": {},
     "output_type": "execute_result"
    }
   ],
   "source": [
    "doubly_robust_wrong_model(data_with_categ, X, T, Y)"
   ]
  },
  {
   "cell_type": "markdown",
   "metadata": {},
   "source": [
    "Mais uma vez, podemos usar a técnica de amostras com reposição e observar que a variância é apenas ligeiramente maior."
   ]
  },
  {
   "cell_type": "code",
   "execution_count": 16,
   "metadata": {
    "ExecuteTime": {
     "end_time": "2023-03-14T11:07:09.710264Z",
     "start_time": "2023-03-14T11:06:43.006264Z"
    }
   },
   "outputs": [],
   "source": [
    "np.random.seed(88)\n",
    "parallel_fn = delayed(doubly_robust_wrong_model)\n",
    "wrong_mux = Parallel(n_jobs=4)(parallel_fn(data_with_categ.sample(frac=1, replace=True), X, T, Y)\n",
    "                               for _ in range(bootstrap_sample))\n",
    "wrong_mux = np.array(wrong_mux)"
   ]
  },
  {
   "cell_type": "code",
   "execution_count": 17,
   "metadata": {
    "ExecuteTime": {
     "end_time": "2023-03-14T11:07:09.715084Z",
     "start_time": "2023-03-14T11:07:09.711724Z"
    }
   },
   "outputs": [
    {
     "name": "stdout",
     "output_type": "stream",
     "text": [
      "Original ATE 95% CI: (0.35364752721776144, 0.41978441342477585)\n",
      "Wrong Mu ATE 95% CI: (0.33863822614929406, 0.433173164584189)\n"
     ]
    }
   ],
   "source": [
    "print(f\"Original ATE 95% CI:\", (np.percentile(ates, 2.5), np.percentile(ates, 97.5)))\n",
    "print(f\"Wrong Mu ATE 95% CI:\", (np.percentile(wrong_mux, 2.5), np.percentile(wrong_mux, 97.5)))"
   ]
  },
  {
   "cell_type": "markdown",
   "metadata": {},
   "source": [
    "Mais uma vez, alterar apenas o modelo da média condicional gera apenas uma ATE ligeiramente diferente. Espero tê-lo convencido sobre o poder da estimação duplamente robusta. Sua magia acontece porque, na inferência causal, há duas maneiras de remover o viés de nossas estimativas causais: ou modelamos o mecanismo de tratamento ou o mecanismo de resultado. Se um desses modelos estiver correto, você está pronto para prosseguir.\n",
    "\n",
    "Uma ressalva é que, na prática, é muito difícil modelar precisamente qualquer um deles. Frequentemente, o que acaba acontecendo é que nem o escore de propensão nem o modelo de resultado são 100% corretos. Ambos estão errados, mas de maneiras diferentes. Quando isso acontece, ainda não está exatamente definido [\\[1\\]](https://www.stat.cmu.edu/~ryantibs/journalclub/kang_2007.pdf) [\\[2\\]](https://arxiv.org/pdf/0804.2969.pdf) [\\[3\\]](https://www.ncbi.nlm.nih.gov/pmc/articles/PMC2798744/) se é melhor usar um único modelo ou a estimação duplamente robusta. Quanto a mim, ainda gosto de usá-los porque, pelo menos, me dá duas possibilidades de estar correto.\n",
    "\n",
    "\n",
    "## Conceitos-chave\n",
    "\n",
    "Aqui, vimos uma maneira simples de combinar a regressão linear com a pontuação de propensão para produzir um estimador duplamente robusto. Este estimador recebe esse nome porque requer apenas que um dos modelos esteja correto. Se o modelo de escore de propensão estiver correto, poderemos identificar o efeito causal mesmo que o modelo de resultado esteja errado. Por outro lado, se o modelo de resultado estiver correto, também poderemos identificar o efeito causal mesmo que o modelo de escore de propensão esteja errado.\n",
    "\n",
    "## Referências\n",
    "\n",
    "Gosto de pensar nesta série inteira como uma homenagem a Joshua Angrist, Alberto Abadie e Christopher Walters por sua incrível aula de Econometria. A maioria das ideias aqui foram tiradas de suas aulas na *American Economic Association*. Assisti-las é o que está me mantendo são durante este difícil ano de 2020.\n",
    "* [Cross-Section Econometrics](https://www.aeaweb.org/conference/cont-ed/2017-webcasts)\n",
    "* [Mastering Mostly Harmless Econometrics](https://www.aeaweb.org/conference/cont-ed/2020-webcasts)\n",
    "\n",
    "Também gostaria de referenciar os livros incríveis de Angrist. Eles me mostraram que Econometria, ou 'Métricas, como eles chamam, não é apenas extremamente útil, mas também profundamente divertida.\n",
    "\n",
    "* [Mostly Harmless Econometrics](https://www.mostlyharmlesseconometrics.com/)\n",
    "* [Mastering 'Metrics](https://www.masteringmetrics.com/)\n",
    "\n",
    "Finalmente, gostaria de referenciar o livro de Miguel Hernan e Jamie Robins. Tem sido meu fiel companheiro nas questões mais espinhosas de inferência causal que tive que responder.\n",
    "\n",
    "* [Causal Inference Book](https://www.hsph.harvard.edu/miguel-hernan/causal-inference-book/)\n",
    "\n",
    "Os dados que utilizamos foram retirados do artigo [Estimating Treatment Effects with Causal Forests: An Application](https://arxiv.org/pdf/1902.07409.pdf), de Susan Athey e Stefan Wager.\n",
    "\n",
    "![img](./data/img/poetry.png)\n",
    "\n",
    "## Contribua\n",
    "\n",
    "\"Inferência Causal para os Corajosos e Verdadeiros\" é um material de código aberto sobre inferência causal, a estatística da ciência. Seu objetivo é ser acessível monetariamente e intelectualmente. Ele utiliza apenas software gratuito baseado em Python.\n",
    "Se você encontrou valor neste livro e deseja apoiá-lo, por favor, vá para o [Patreon](https://www.patreon.com/causal_inference_for_the_brave_and_true). Se você não estiver pronto para contribuir financeiramente, também pode ajudar corrigindo erros, sugerindo edições ou dando feedback sobre trechos que não compreendeu. Acesse o repositório do livro e abra uma issue na [versão em inglês](https://github.com/matheusfacure/python-causality-handbook/issues) ou na [versão em português](https://github.com/rdemarqui/python-causality-handbook-ptbr/issues). Por fim, se você gostou deste conteúdo, compartilhe com outras pessoas que possam achar útil e dê uma estrela no GitHub na [versão em inglês](https://github.com/matheusfacure/python-causality-handbook/stargazers) e na [versão em português](https://github.com/rdemarqui/python-causality-handbook-ptbr/stargazers)."
   ]
  },
  {
   "cell_type": "markdown",
   "metadata": {},
   "source": [
    "---"
   ]
  },
  {
   "cell_type": "markdown",
   "metadata": {},
   "source": [
    "<div align=\"center\">\n",
    "<a href=\"11-Propensity-Score.ipynb\"><-- Anterior</a>  \n",
    "<a href=\"00-Summary.ipynb\">| Sumário |</a>  \n",
    "<a href=\"13-Difference-in-Differences.ipynb\">Próximo --></a>  \n",
    "\n",
    "<a href=\"https://matheusfacure.github.io/python-causality-handbook/12-Doubly-Robust-Estimation.html\">[12 - Doubly Robust Estimation]</a>  \n",
    "\n",
    "</div>"
   ]
  }
 ],
 "metadata": {
  "celltoolbar": "Tags",
  "kernelspec": {
   "display_name": "Python [conda env:root] *",
   "language": "python",
   "name": "conda-root-py"
  },
  "language_info": {
   "codemirror_mode": {
    "name": "ipython",
    "version": 3
   },
   "file_extension": ".py",
   "mimetype": "text/x-python",
   "name": "python",
   "nbconvert_exporter": "python",
   "pygments_lexer": "ipython3",
   "version": "3.7.12"
  },
  "toc": {
   "base_numbering": 1,
   "nav_menu": {},
   "number_sections": true,
   "sideBar": true,
   "skip_h1_title": false,
   "title_cell": "Table of Contents",
   "title_sidebar": "Contents",
   "toc_cell": false,
   "toc_position": {},
   "toc_section_display": true,
   "toc_window_display": false
  },
  "varInspector": {
   "cols": {
    "lenName": 16,
    "lenType": 16,
    "lenVar": 40
   },
   "kernels_config": {
    "python": {
     "delete_cmd_postfix": "",
     "delete_cmd_prefix": "del ",
     "library": "var_list.py",
     "varRefreshCmd": "print(var_dic_list())"
    },
    "r": {
     "delete_cmd_postfix": ") ",
     "delete_cmd_prefix": "rm(",
     "library": "var_list.r",
     "varRefreshCmd": "cat(var_dic_list()) "
    }
   },
   "types_to_exclude": [
    "module",
    "function",
    "builtin_function_or_method",
    "instance",
    "_Feature"
   ],
   "window_display": false
  }
 },
 "nbformat": 4,
 "nbformat_minor": 2
}
