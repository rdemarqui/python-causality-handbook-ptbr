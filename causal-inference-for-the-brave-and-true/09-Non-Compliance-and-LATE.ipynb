{
 "cells": [
  {
   "cell_type": "markdown",
   "metadata": {},
   "source": [
    "# 09 - Cumprimento Parcial e LATE\n",
    "\n",
    "## Mergulhando em um Mundo Heterogêneo\n",
    "\n",
    "Anteriormente, vimos Variáveis Instrumentais (IV) por meio de uma lente mais tradicional. A IV era considerada uma espécie de experimento natural que poderíamos aproveitar. Em contraste, a prática moderna de IV obtém muitos insights das ciências médicas. Ela divide o mundo em 4 tipos de sujeitos, dependendo de como eles respondem à variável instrumental.\n",
    "\n",
    "1. Cumpridores\n",
    "2. Nunca Aceitantes\n",
    "3. Sempre Aceitantes\n",
    "4. Desafiadores\n",
    "\n",
    "Esse nome vem da ciência farmacêutica. Imagine que você está conduzindo um experimento para testar o efeito de um novo medicamento em alguma doença. Cada sujeito é designado para um tratamento: um medicamento ou um placebo. Os cumpridores são os sujeitos que seguem o que lhes foi atribuído. Se recebem o placebo, o tomam; se recebem o medicamento, também o tomam. Os nunca aceitantes são aqueles sujeitos que se recusam a tomar o medicamento. Mesmo que sejam designados para o novo medicamento, eles não o tomarão. Por outro lado, os sempre aceitantes são aqueles que de alguma forma conseguem obter o novo medicamento mesmo que tenham sido designados para o placebo. Por fim, os desafiadores são aqueles que seguem o tratamento se designados para o grupo de controle e seguem o controle se designados para o tratamento. Você pode pensar neles como aquela criança irritante que faz o oposto do que lhe é dito. Na prática, eles não são tão comuns (os desafiadores, não as crianças), então frequentemente os ignoraremos.\n",
    "\n",
    "![img](./data/img/late/defiers.png)\n",
    "\n",
    "A IV moderna trata o instrumento como um desenho quase experimental onde a conformidade não é perfeita. Ao fazer isso, ela se distingue internamente de efeitos causais externamente válidos. Apenas como um lembrete, um efeito internamente válido é aquele que somos capazes de identificar. Ele é válido naquele cenário específico, com aqueles dados específicos. Em IV, seria o efeito do tratamento naqueles em que o instrumento altera o tratamento. A validade externa, por outro lado, estaria preocupada com o poder preditivo desse efeito causal. Ela perguntaria se poderíamos generalizar o efeito que encontramos nesta amostra para outras populações. Por exemplo, suponha que você conduziu um ensaio clínico randomizado em sua universidade para descobrir se as pessoas são generosas ou não quando incentivadas a doar. O experimento é bem projetado, mas você convida apenas estudantes de economia para participar. Então, você descobre que todos eles são egoístas. Esta é uma conclusão internamente válida. É válida para esses pontos de dados. Mas, a partir desse experimento, você pode inferir que a humanidade é egoísta? Isso é difícil de afirmar. Portanto, questionaríamos se o seu experimento tem validade externa para generalizar seus resultados. De qualquer forma, voltando ao IV.\n",
    "\n",
    "Para tornar isso mais concreto, consideremos um caso em que você deseja aumentar o engajamento do usuário, medido por compras dentro do aplicativo. Uma maneira de fazer isso é pedir ao departamento de marketing que crie uma notificação que você possa usar para envolver seus usuários. Eles elaboram um design brilhante e interações de usuário muito sofisticadas. Com essa notificação, você prossegue para projetar um ensaio randomizado. Você seleciona aleatoriamente 10.000 clientes e, para cada um deles, atribui a notificação com 50% de probabilidade. No entanto, ao executar o teste, você percebe que alguns clientes designados para receber a notificação não a estão recebendo. Quando você fala com os engenheiros, eles dizem que isso provavelmente ocorre porque eles têm um telefone mais antigo que não suporta o tipo de notificação que a equipe de marketing projetou.\n",
    "\n",
    "Inicialmente, você pode pensar que isso não é grande coisa. Em vez de usar o tratamento designado como sua variável de tratamento, você pode simplesmente usar o tratamento recebido, certo? Acontece que não é tão simples assim. Se você traçar o gráfico causal de toda essa situação, parecerá algo assim:"
   ]
  },
  {
   "cell_type": "code",
   "execution_count": 1,
   "metadata": {
    "tags": [
     "hide-input"
    ]
   },
   "outputs": [],
   "source": [
    "import warnings\n",
    "warnings.filterwarnings('ignore')\n",
    "\n",
    "import pandas as pd\n",
    "import numpy as np\n",
    "from scipy import stats\n",
    "from matplotlib import style\n",
    "import seaborn as sns\n",
    "from matplotlib import pyplot as plt\n",
    "import statsmodels.formula.api as smf\n",
    "from linearmodels.iv import IV2SLS\n",
    "import graphviz as gr\n",
    "\n",
    "%matplotlib inline\n",
    "\n",
    "style.use(\"fivethirtyeight\")"
   ]
  },
  {
   "cell_type": "code",
   "execution_count": 2,
   "metadata": {
    "tags": [
     "hide-input"
    ]
   },
   "outputs": [
    {
     "data": {
      "image/svg+xml": [
       "<?xml version=\"1.0\" encoding=\"UTF-8\" standalone=\"no\"?>\n",
       "<!DOCTYPE svg PUBLIC \"-//W3C//DTD SVG 1.1//EN\"\n",
       " \"http://www.w3.org/Graphics/SVG/1.1/DTD/svg11.dtd\">\n",
       "<!-- Generated by graphviz version 2.40.1 (20161225.0304)\n",
       " -->\n",
       "<!-- Title: %3 Pages: 1 -->\n",
       "<svg width=\"218pt\" height=\"188pt\"\n",
       " viewBox=\"0.00 0.00 217.62 188.00\" xmlns=\"http://www.w3.org/2000/svg\" xmlns:xlink=\"http://www.w3.org/1999/xlink\">\n",
       "<g id=\"graph0\" class=\"graph\" transform=\"scale(1 1) rotate(0) translate(4 184)\">\n",
       "<title>%3</title>\n",
       "<polygon fill=\"#ffffff\" stroke=\"transparent\" points=\"-4,4 -4,-184 213.6163,-184 213.6163,4 -4,4\"/>\n",
       "<!-- push assigned -->\n",
       "<g id=\"node1\" class=\"node\">\n",
       "<title>push assigned</title>\n",
       "<ellipse fill=\"none\" stroke=\"#000000\" cx=\"59.48\" cy=\"-162\" rx=\"59.4599\" ry=\"18\"/>\n",
       "<text text-anchor=\"middle\" x=\"59.48\" y=\"-157.8\" font-family=\"Times,serif\" font-size=\"14.00\" fill=\"#000000\">push assigned</text>\n",
       "</g>\n",
       "<!-- push delivered -->\n",
       "<g id=\"node2\" class=\"node\">\n",
       "<title>push delivered</title>\n",
       "<ellipse fill=\"none\" stroke=\"#000000\" cx=\"83.48\" cy=\"-90\" rx=\"61.8481\" ry=\"18\"/>\n",
       "<text text-anchor=\"middle\" x=\"83.48\" y=\"-85.8\" font-family=\"Times,serif\" font-size=\"14.00\" fill=\"#000000\">push delivered</text>\n",
       "</g>\n",
       "<!-- push assigned&#45;&gt;push delivered -->\n",
       "<g id=\"edge1\" class=\"edge\">\n",
       "<title>push assigned&#45;&gt;push delivered</title>\n",
       "<path fill=\"none\" stroke=\"#000000\" d=\"M65.5362,-143.8314C68.1312,-136.0463 71.2223,-126.7729 74.1017,-118.1347\"/>\n",
       "<polygon fill=\"#000000\" stroke=\"#000000\" points=\"77.5003,-119.0069 77.3422,-108.4133 70.8595,-116.7933 77.5003,-119.0069\"/>\n",
       "</g>\n",
       "<!-- in app purchase -->\n",
       "<g id=\"node3\" class=\"node\">\n",
       "<title>in app purchase</title>\n",
       "<ellipse fill=\"none\" stroke=\"#000000\" cx=\"128.48\" cy=\"-18\" rx=\"65.7062\" ry=\"18\"/>\n",
       "<text text-anchor=\"middle\" x=\"128.48\" y=\"-13.8\" font-family=\"Times,serif\" font-size=\"14.00\" fill=\"#000000\">in app purchase</text>\n",
       "</g>\n",
       "<!-- push delivered&#45;&gt;in app purchase -->\n",
       "<g id=\"edge2\" class=\"edge\">\n",
       "<title>push delivered&#45;&gt;in app purchase</title>\n",
       "<path fill=\"none\" stroke=\"#000000\" d=\"M94.6036,-72.2022C99.85,-63.8079 106.2164,-53.6218 112.0076,-44.3558\"/>\n",
       "<polygon fill=\"#000000\" stroke=\"#000000\" points=\"114.9963,-46.1776 117.3284,-35.8425 109.0603,-42.4675 114.9963,-46.1776\"/>\n",
       "</g>\n",
       "<!-- income -->\n",
       "<g id=\"node4\" class=\"node\">\n",
       "<title>income</title>\n",
       "<ellipse fill=\"none\" stroke=\"#0000ff\" cx=\"173.48\" cy=\"-162\" rx=\"36.2732\" ry=\"18\"/>\n",
       "<text text-anchor=\"middle\" x=\"173.48\" y=\"-157.8\" font-family=\"Times,serif\" font-size=\"14.00\" fill=\"#000000\">income</text>\n",
       "</g>\n",
       "<!-- income&#45;&gt;push delivered -->\n",
       "<g id=\"edge4\" class=\"edge\">\n",
       "<title>income&#45;&gt;push delivered</title>\n",
       "<path fill=\"none\" stroke=\"#000000\" d=\"M153.9513,-146.3771C141.9637,-136.787 126.3802,-124.3202 112.9166,-113.5493\"/>\n",
       "<polygon fill=\"#000000\" stroke=\"#000000\" points=\"114.8538,-110.6169 104.8586,-107.1029 110.4809,-116.083 114.8538,-110.6169\"/>\n",
       "</g>\n",
       "<!-- income&#45;&gt;in app purchase -->\n",
       "<g id=\"edge3\" class=\"edge\">\n",
       "<title>income&#45;&gt;in app purchase</title>\n",
       "<path fill=\"none\" stroke=\"#000000\" d=\"M170.9448,-143.7268C168.0824,-125.2955 162.7207,-96.1857 154.48,-72 151.4078,-62.9835 147.208,-53.5101 143.0798,-45.0596\"/>\n",
       "<polygon fill=\"#000000\" stroke=\"#000000\" points=\"146.1505,-43.3758 138.5135,-36.0323 139.9041,-46.5354 146.1505,-43.3758\"/>\n",
       "</g>\n",
       "</g>\n",
       "</svg>\n"
      ],
      "text/plain": [
       "<graphviz.dot.Digraph at 0x12a416358>"
      ]
     },
     "execution_count": 2,
     "metadata": {},
     "output_type": "execute_result"
    }
   ],
   "source": [
    "g = gr.Digraph()\n",
    "\n",
    "g.edge(\"push assigned\", \"push delivered\")\n",
    "g.edge(\"push delivered\", \"in app purchase\")\n",
    "g.edge(\"income\", \"in app purchase\")\n",
    "g.edge(\"income\", \"push delivered\")\n",
    "g.node(\"income\", color=\"blue\")\n",
    "g"
   ]
  },
  {
   "cell_type": "markdown",
   "metadata": {},
   "source": [
    "No gráfico causal, você tem a atribuição da notificação. Isso é aleatório por design, então nada o está causando. Em seguida, você tem um nó para se a notificação foi entregue. Nem todos que foram designados para receber a notificação a receberam, então há cumprimento parcial aqui. Mais especificamente, você tem alguns nunca aceitantes: aqueles que não recebem o tratamento, mesmo que designados para ele. Você também tem razões para suspeitar que esse cumprimento parcial não é simplesmente por acaso. Como as pessoas com telefones mais antigos são aquelas que não recebem a notificação, você pode argumentar que a renda também está causando a entrega da notificação. Quanto mais rica a pessoa, mais provável é que ela tenha um telefone melhor, o que, por sua vez, torna mais provável que ela receba a notificação. Finalmente, você tem a variável de resultado, a compra dentro do aplicativo. Tenha em mente que não conhecemos a renda, então não podemos controlá-la. Com isso em mente, vamos examinar o que aconteceria se simplesmente usássemos a notificação atribuída como a variável de tratamento e se, em vez disso, usássemos a notificação entregue como o tratamento.\n",
    "\n",
    "No primeiro caso, estimaríamos o efeito causal pela seguinte diferença nas médias:\n",
    "\n",
    "$\n",
    "ATE = E[Y | pushAssigned=1] - E[Y | pushAssigned=0]\n",
    "$\n",
    "\n",
    "Como estamos muito cientes agora, esta é apenas uma estimativa não viesada para $E[Y_1] - E[Y_0]$ se o viés $E[Y_0|pushAssigned=0] - E[Y_0|pushAssigned=1]$ for zero. Como `pushAssigned` é aleatório, sabemos que o viés é zero. Isso resolve então? Não exatamente. Veja, se fizermos isso, estaríamos respondendo a uma pergunta diferente daquela que pretendíamos. Estaríamos encontrando o **efeito causal da atribuição de tratamento**, não do tratamento em si. Mas eles são diferentes ou podemos extrapolar o efeito causal da atribuição de tratamento para o Efeito Médio de Tratamento (ATE, do inglês)? Em outras palavras, o efeito causal da atribuição de tratamento é uma estimativa não viesada do ATE?\n",
    "\n",
    "Acontece que não é. Devido ao cumprimento parcial, o resultado daqueles designados para o tratamento será direcionado na direção do resultado daqueles designados para o controle. O cumprimento parcial inverte o tratamento inadvertidamente, tornando o tratamento e o controle mais semelhantes no resultado. Não confunda isso com semelhança nas variáveis. Queremos que tratados e controle sejam semelhantes nas variáveis. Isso os tornará comparáveis. O que não queremos é que sejam semelhantes no resultado se houver de fato um efeito de tratamento.\n",
    "\n",
    "Para entender isso, suponha primeiro que temos sempre aceitantes. Alguns deles serão designados para o grupo de controle por acaso. Mas aqueles que forem designados, mesmo assim, tomarão o tratamento. Isso os torna essencialmente um grupo tratado que está misturado com o controle. Como resultado dessa mistura, o efeito causal será mais difícil de encontrar quando houver cumprimento parcial.\n",
    "\n",
    "![img](./data/img/late/always_takers.png)\n",
    "\n",
    "Pelo mesmo raciocínio, nunca aceitantes farão com que aqueles designados para o tratamento se pareçam um pouco com os não tratados, pois eles não tomam o tratamento mesmo que designados para ele. Nesse sentido, **o efeito causal da atribuição de tratamento é enviesado em direção a zero** porque o cumprimento parcial reduz o impacto detectável. Outra maneira de ver isso é imaginar um caso extremo. Digamos que o cumprimento parcial seja realmente alto. A atribuição de tratamento não diz nada sobre o tratamento recebido. O tratamento recebido é puramente aleatório nesse caso. Na linguagem de IV, isso seria dizer que temos um 1º estágio muito fraco. Usando `Z` para denotar a atribuição de tratamento, teríamos que\n",
    "\n",
    "$\n",
    "E[Y|Z=1] - E[Y|Z=0] = 0\n",
    "$\n",
    "\n",
    "Não haveria mais uma ligação causal da atribuição de tratamento para o resultado. Z seria apenas uma variável aleatória sem sentido flutuando ali."
   ]
  },
  {
   "cell_type": "code",
   "execution_count": 3,
   "metadata": {
    "tags": [
     "hide-input"
    ]
   },
   "outputs": [
    {
     "data": {
      "image/svg+xml": [
       "<?xml version=\"1.0\" encoding=\"UTF-8\" standalone=\"no\"?>\n",
       "<!DOCTYPE svg PUBLIC \"-//W3C//DTD SVG 1.1//EN\"\n",
       " \"http://www.w3.org/Graphics/SVG/1.1/DTD/svg11.dtd\">\n",
       "<!-- Generated by graphviz version 2.40.1 (20161225.0304)\n",
       " -->\n",
       "<!-- Title: %3 Pages: 1 -->\n",
       "<svg width=\"247pt\" height=\"188pt\"\n",
       " viewBox=\"0.00 0.00 247.08 188.00\" xmlns=\"http://www.w3.org/2000/svg\" xmlns:xlink=\"http://www.w3.org/1999/xlink\">\n",
       "<g id=\"graph0\" class=\"graph\" transform=\"scale(1 1) rotate(0) translate(4 184)\">\n",
       "<title>%3</title>\n",
       "<polygon fill=\"#ffffff\" stroke=\"transparent\" points=\"-4,4 -4,-184 243.083,-184 243.083,4 -4,4\"/>\n",
       "<!-- push assigned -->\n",
       "<g id=\"node1\" class=\"node\">\n",
       "<title>push assigned</title>\n",
       "<ellipse fill=\"none\" stroke=\"#000000\" cx=\"59.48\" cy=\"-162\" rx=\"59.4599\" ry=\"18\"/>\n",
       "<text text-anchor=\"middle\" x=\"59.48\" y=\"-157.8\" font-family=\"Times,serif\" font-size=\"14.00\" fill=\"#000000\">push assigned</text>\n",
       "</g>\n",
       "<!-- push delivered -->\n",
       "<g id=\"node2\" class=\"node\">\n",
       "<title>push delivered</title>\n",
       "<ellipse fill=\"none\" stroke=\"#000000\" cx=\"128.48\" cy=\"-90\" rx=\"61.8481\" ry=\"18\"/>\n",
       "<text text-anchor=\"middle\" x=\"128.48\" y=\"-85.8\" font-family=\"Times,serif\" font-size=\"14.00\" fill=\"#000000\">push delivered</text>\n",
       "</g>\n",
       "<!-- in app purchase -->\n",
       "<g id=\"node3\" class=\"node\">\n",
       "<title>in app purchase</title>\n",
       "<ellipse fill=\"none\" stroke=\"#000000\" cx=\"173.48\" cy=\"-18\" rx=\"65.7062\" ry=\"18\"/>\n",
       "<text text-anchor=\"middle\" x=\"173.48\" y=\"-13.8\" font-family=\"Times,serif\" font-size=\"14.00\" fill=\"#000000\">in app purchase</text>\n",
       "</g>\n",
       "<!-- push delivered&#45;&gt;in app purchase -->\n",
       "<g id=\"edge1\" class=\"edge\">\n",
       "<title>push delivered&#45;&gt;in app purchase</title>\n",
       "<path fill=\"none\" stroke=\"#000000\" d=\"M139.6036,-72.2022C144.85,-63.8079 151.2164,-53.6218 157.0076,-44.3558\"/>\n",
       "<polygon fill=\"#000000\" stroke=\"#000000\" points=\"159.9963,-46.1776 162.3284,-35.8425 154.0603,-42.4675 159.9963,-46.1776\"/>\n",
       "</g>\n",
       "<!-- income -->\n",
       "<g id=\"node4\" class=\"node\">\n",
       "<title>income</title>\n",
       "<ellipse fill=\"none\" stroke=\"#0000ff\" cx=\"173.48\" cy=\"-162\" rx=\"36.2732\" ry=\"18\"/>\n",
       "<text text-anchor=\"middle\" x=\"173.48\" y=\"-157.8\" font-family=\"Times,serif\" font-size=\"14.00\" fill=\"#000000\">income</text>\n",
       "</g>\n",
       "<!-- income&#45;&gt;push delivered -->\n",
       "<g id=\"edge3\" class=\"edge\">\n",
       "<title>income&#45;&gt;push delivered</title>\n",
       "<path fill=\"none\" stroke=\"#000000\" d=\"M162.5867,-144.5708C157.3039,-136.1184 150.8457,-125.7851 144.9756,-116.3931\"/>\n",
       "<polygon fill=\"#000000\" stroke=\"#000000\" points=\"147.8535,-114.3939 139.5855,-107.7689 141.9175,-118.1039 147.8535,-114.3939\"/>\n",
       "</g>\n",
       "<!-- income&#45;&gt;in app purchase -->\n",
       "<g id=\"edge2\" class=\"edge\">\n",
       "<title>income&#45;&gt;in app purchase</title>\n",
       "<path fill=\"none\" stroke=\"#000000\" d=\"M184.2576,-144.7385C190.0168,-134.4847 196.5168,-120.9847 199.48,-108 203.0397,-92.401 203.0397,-87.599 199.48,-72 197.3607,-62.7132 193.4322,-53.1628 189.2595,-44.725\"/>\n",
       "<polygon fill=\"#000000\" stroke=\"#000000\" points=\"192.2859,-42.9603 184.5281,-35.7445 186.0928,-46.2231 192.2859,-42.9603\"/>\n",
       "</g>\n",
       "</g>\n",
       "</svg>\n"
      ],
      "text/plain": [
       "<graphviz.dot.Digraph at 0x12a416550>"
      ]
     },
     "execution_count": 3,
     "metadata": {},
     "output_type": "execute_result"
    }
   ],
   "source": [
    "g = gr.Digraph()\n",
    "\n",
    "g.node(\"push assigned\")\n",
    "g.edge(\"push delivered\", \"in app purchase\")\n",
    "g.edge(\"income\", \"in app purchase\")\n",
    "g.edge(\"income\", \"push delivered\")\n",
    "g.node(\"income\", color=\"blue\")\n",
    "g"
   ]
  },
  {
   "cell_type": "markdown",
   "metadata": {},
   "source": [
    "Certo, então descartamos o uso do efeito causal da atribuição como uma forma de estimar o efeito causal do tratamento. Então, que tal apenas usar o tratamento recebido?\n",
    "\n",
    "$\n",
    "\\mathrm{ATE} = E[Y | \\mathrm{push}=1] - E[Y | \\mathrm{push}=0]\n",
    "$\n",
    "\n",
    "Mais uma vez, precisamos pensar se isso é enviesado ou não, ou se $E[Y_0|\\mathrm{push}=0] = E[Y_0|\\mathrm{push}=1]$. Apenas olhando para o gráfico causal acima, sabemos que não é o caso. Temos aquele confundidor não medido, a renda, rondando por aí, e certamente isso vai complicar as coisas. Como mencionamos anteriormente, sabemos que a falha na entrega da notificação, em nosso caso, é causada pelo fato de os clientes terem telefones mais antigos. O que significa que provavelmente temos $E[Y_0|\\mathrm{push}=0] < E[Y_0|\\mathrm{push}=1]$. Achamos que isso ocorre porque os clientes com menos dinheiro têm tanto telefones mais antigos, o que levará a $\\mathrm{push}=0$, quanto um potencial de compra dentro do aplicativo $Y_0$ mais baixo.\n",
    "\n",
    "Que pena! Não podemos usar nem a atribuição de tratamento nem o tratamento recebido para estimar nosso ATE. Mas felizmente, sabemos o que podemos usar: Variáveis Instrumentais. Aqui, a atribuição de tratamento é o instrumento perfeito para o tratamento. É tão bom quanto aleatório e só causa a compra dentro do aplicativo pela virtude do tratamento.\n",
    "\n",
    "## Efeito Médio de Tratamento Local: LATE\n",
    "\n",
    "O efeito médio de tratamento local explicita a população para a qual podemos estimar o efeito causal. Também é outra maneira de visualizar IV, que oferece outras intuições interessantes que podemos utilizar. Na IV moderna, vemos o instrumento como iniciando uma cadeia causal: Z causa T que causa Y. Nesse contexto, a restrição de exclusão significa que Z não causa Y, a menos por seu efeito em T. O primeiro estágio é agora visto como o efeito causal de Z sobre T. Também reescrevemos os resultados potenciais com uma notação de duplo índice, onde o primeiro índice denota o contrafactual para o instrumento e o segundo índice, para o tratamento.\n",
    "\n",
    "$\n",
    "\\text{Potential Outcome}=\\begin{cases}\n",
    "Y_i(1, 1) \\ \\text{if } T_i=1, \\ Z_i=1\\\\\n",
    "Y_i(1, 0) \\ \\text{if } T_i=1, \\ Z_i=0\\\\\n",
    "Y_i(0, 1) \\ \\text{if } T_i=0, \\ Z_i=1\\\\\n",
    "Y_i(0, 0) \\ \\text{if } T_i=0, \\ Z_i=0\\\\\n",
    "\\end{cases}\n",
    "$\n",
    "\n",
    "Em certo sentido, o tratamento se torna o resultado, pelo menos no primeiro estágio. Isso significa que também podemos escrevê-lo com a notação de resultados potenciais:\n",
    "\n",
    "$\n",
    "\\text{Potential Treatment}=\\begin{cases}\n",
    "T_0 \\ \\text{if } Z_i=0 \\\\\n",
    "T_1 \\ \\text{if } Z_i=1\n",
    "\\end{cases}\n",
    "$\n",
    "\n",
    "![img](./data/img/late/double_index.png)\n",
    "\n",
    "As suposições da Variável Instrumental podem agora ser reescritas da seguinte forma:\n",
    "\n",
    "1. $T_{0i}, T_{1i} \\perp Z_i$ e $Y_i(T_{1i},1), Y_i(T_{0i},0) \\perp Z_i$. Esta é a Assunção de Independência. Isso indica que o instrumento é tão bom quanto atribuído aleatoriamente. Em outras palavras, Z, o instrumento, não está correlacionado com os tratamentos potenciais, o que é o mesmo que dizer que pessoas em diferentes grupos de instrumentos são comparáveis.\n",
    "\n",
    "2. $Y_i(1, 0)=Y_i(1, 1)=Y_{i1}$ e $Y_i(0, 0)=Y_i(0, 1)=Y_{i0}$. Esta é a restrição de exclusão. Isso indica que, se estou observando o resultado potencial para o tratado, é o mesmo para ambos os grupos de instrumentos. Em outras palavras, o instrumento não afeta o resultado potencial, o que é o mesmo que dizer que o instrumento só afeta o resultado por meio do tratamento.\n",
    "\n",
    "3. $E[T_{1i}-T_{0i}] \\neq 0$. Esta é a existência de um primeiro estágio. Isso indica que o resultado potencial do primeiro estágio, ou seja, o tratamento potencial, NÃO é o mesmo. Outra maneira de dizer isso é que o instrumento afeta o tratamento.\n",
    "\n",
    "4. $T_{i1} > T_{i0}$. Esta é a suposição de monotonicidade. Isso indica que se todos tivessem o instrumento ativado, o nível de tratamento seria maior do que se todos tivessem o tratamento desativado.\n",
    "\n",
    "Agora, vamos revisar o estimador de Wald para ganhar mais intuição sobre IV:\n",
    "\n",
    "$\n",
    "ATE = \\dfrac{E[Y|Z=1]-E[Y|Z=0]}{E[T|Z=1]-E[T|Z=0]}\n",
    "$\n",
    "\n",
    "Vamos pegar a primeira parte dela, $E[Y|Z=1]$. Usando a restrição de exclusão, podemos reescrever Y em termos de resultados potenciais da seguinte forma.\n",
    "\n",
    "$\n",
    "E[Y_i|Z_i=1]=E[Y_{i0} + T_{i1}(Y_{i1} - Y_{i0})|Z=1]\n",
    "$\n",
    "\n",
    "Usando a independência, podemos retirar a condição em Z.\n",
    "\n",
    "$\n",
    "E[Y_i|Z_i=1]=E[Y_{i0} + T_{i1}(Y_{i1} - Y_{i0})]\n",
    "$\n",
    "\n",
    "Com um argumento semelhante, obtemos que\n",
    "\n",
    "$\n",
    "E[Y_i|Z_i=0]=E[Y_{i0} + T_{i0}(Y_{i1} - Y_{i0})]\n",
    "$\n",
    "\n",
    "Agora podemos reescrever o numerador do estimador de Wald da seguinte forma\n",
    "\n",
    "$\n",
    "E[Y|Z=1]-E[Y|Z=0] = E[(Y_{i1}-Y_{i0})(T_{i1}-T_{i0})]\n",
    "$\n",
    "\n",
    "Usando a monotonicidade, sabemos que $T_{i1}-T_{i0}$ é 0 ou 1, então\n",
    "\n",
    "$\n",
    "E[(Y_{i1}-Y_{i0})(T_{i1}-T_{i0})] = E[(Y_{i1}-Y_{i0})|T_{i1}>T_{i0}]P(T_{i1}>T_{i0})\n",
    "$\n",
    "\n",
    "Usando um argumento semelhante para lidar com o denominador, obtemos\n",
    "\n",
    "$\n",
    "E[T|Z=1]-E[T|Z=0]=E[T_{i1}-T_{i0}]=P(T_{i1}>T_{i0})\n",
    "$\n",
    "\n",
    "Tudo isso nos permite olhar para o estimador de Wald da seguinte forma:\n",
    "\n",
    "$\n",
    "ATE = \\dfrac{E[(Y_{i1}-Y_{i0})|T_{i1}>T_{i0}]P(T_{i1}>T_{i0})}{P(T_{i1}>T_{i0})}=E[(Y_{i1}-Y_{i0})|T_{i1}>T_{i0}]\n",
    "$\n",
    "\n",
    "Isso é, o ATE estimado por IV é o ATE na subpopulação onde $T_{i1}>T_{i0}$. E se você pensar sobre o cumprimento, qual é essa população? Esta é a população em que aqueles que têm o instrumento ativado têm o nível de tratamento mais alto do que se tivessem o instrumento desativado. Em outras palavras, esta é a população de cumpridores. Apenas para lembrar,\n",
    "\n",
    "1. Cumpridores significam que $T_{i1}>T_{i0}$\n",
    "2. Nunca Aceitantes $T_{i1}=T_{i0}=0$\n",
    "3. Sempre Aceitantes $T_{i1}=T_{i0}=1$\n",
    "\n",
    "A conclusão disso é que IV não fornece informações sobre o efeito nos nunca aceitantes, sempre aceitantes ou desafiadores, porque o tratamento não é alterado para eles! **IV apenas encontra o efeito do tratamento para os cumpridores**.\n",
    "\n",
    "## Efeito no Engajamento\n",
    "\n",
    "Vamos ver como tudo isso se desenrola no estudo de caso em que tentamos estimar o efeito de uma notificação em compras dentro do aplicativo. O gráfico causal é o que descrevemos acima, então não vou repeti-lo aqui. Os dados que temos incluem tanto a atribuição de notificação, o instrumento randomizado, quanto a entrega da notificação, a variável de tratamento."
   ]
  },
  {
   "cell_type": "code",
   "execution_count": 9,
   "metadata": {},
   "outputs": [
    {
     "data": {
      "text/html": [
       "<div>\n",
       "<style scoped>\n",
       "    .dataframe tbody tr th:only-of-type {\n",
       "        vertical-align: middle;\n",
       "    }\n",
       "\n",
       "    .dataframe tbody tr th {\n",
       "        vertical-align: top;\n",
       "    }\n",
       "\n",
       "    .dataframe thead th {\n",
       "        text-align: right;\n",
       "    }\n",
       "</style>\n",
       "<table border=\"1\" class=\"dataframe\">\n",
       "  <thead>\n",
       "    <tr style=\"text-align: right;\">\n",
       "      <th></th>\n",
       "      <th>in_app_purchase</th>\n",
       "      <th>push_assigned</th>\n",
       "      <th>push_delivered</th>\n",
       "    </tr>\n",
       "  </thead>\n",
       "  <tbody>\n",
       "    <tr>\n",
       "      <th>0</th>\n",
       "      <td>47</td>\n",
       "      <td>1</td>\n",
       "      <td>1</td>\n",
       "    </tr>\n",
       "    <tr>\n",
       "      <th>1</th>\n",
       "      <td>43</td>\n",
       "      <td>1</td>\n",
       "      <td>0</td>\n",
       "    </tr>\n",
       "    <tr>\n",
       "      <th>2</th>\n",
       "      <td>51</td>\n",
       "      <td>1</td>\n",
       "      <td>1</td>\n",
       "    </tr>\n",
       "    <tr>\n",
       "      <th>3</th>\n",
       "      <td>49</td>\n",
       "      <td>0</td>\n",
       "      <td>0</td>\n",
       "    </tr>\n",
       "    <tr>\n",
       "      <th>4</th>\n",
       "      <td>79</td>\n",
       "      <td>0</td>\n",
       "      <td>0</td>\n",
       "    </tr>\n",
       "  </tbody>\n",
       "</table>\n",
       "</div>"
      ],
      "text/plain": [
       "   in_app_purchase  push_assigned  push_delivered\n",
       "0               47              1               1\n",
       "1               43              1               0\n",
       "2               51              1               1\n",
       "3               49              0               0\n",
       "4               79              0               0"
      ]
     },
     "execution_count": 9,
     "metadata": {},
     "output_type": "execute_result"
    }
   ],
   "source": [
    "data = pd.read_csv(\"./data/app_engagement_push.csv\")\n",
    "    \n",
    "data.head()"
   ]
  },
  {
   "cell_type": "markdown",
   "metadata": {},
   "source": [
    "Primeiro, vamos executar OLS para ver o que ele nos daria."
   ]
  },
  {
   "cell_type": "code",
   "execution_count": 10,
   "metadata": {},
   "outputs": [
    {
     "data": {
      "text/html": [
       "<table class=\"simpletable\">\n",
       "<caption>Parameter Estimates</caption>\n",
       "<tr>\n",
       "         <td></td>        <th>Parameter</th> <th>Std. Err.</th> <th>T-stat</th>  <th>P-value</th> <th>Lower CI</th> <th>Upper CI</th>\n",
       "</tr>\n",
       "<tr>\n",
       "  <th>Intercept</th>       <td>69.292</td>    <td>0.3624</td>   <td>191.22</td>  <td>0.0000</td>   <td>68.581</td>   <td>70.002</td> \n",
       "</tr>\n",
       "<tr>\n",
       "  <th>push_assigned</th>   <td>-17.441</td>   <td>0.5702</td>   <td>-30.590</td> <td>0.0000</td>   <td>-18.559</td>  <td>-16.324</td>\n",
       "</tr>\n",
       "<tr>\n",
       "  <th>push_delivered</th>  <td>27.600</td>    <td>0.6124</td>   <td>45.069</td>  <td>0.0000</td>   <td>26.399</td>   <td>28.800</td> \n",
       "</tr>\n",
       "</table>"
      ],
      "text/plain": [
       "<class 'statsmodels.iolib.table.SimpleTable'>"
      ]
     },
     "execution_count": 10,
     "metadata": {},
     "output_type": "execute_result"
    }
   ],
   "source": [
    "ols = IV2SLS.from_formula(\"in_app_purchase ~ 1 + push_assigned + push_delivered\", data).fit()\n",
    "ols.summary.tables[1]"
   ]
  },
  {
   "cell_type": "markdown",
   "metadata": {},
   "source": [
    "OLS está indicando que o efeito do tratamento é de BRL 27,60, ou seja, a notificação aumenta a compra dentro do aplicativo em 27,6 reais. No entanto, temos motivos para acreditar que esta é uma estimativa enviesada. Sabemos que os telefones mais antigos estão tendo problemas para receber a notificação, então, provavelmente, os clientes mais ricos, com telefones mais novos, são os cumpridores. Como aqueles que recebem o tratamento também têm mais dinheiro, acreditamos que esse viés é positivo e o impacto real da notificação é menor. Em outras palavras, provavelmente temos $E[Y_0|T=0] < E[Y_0|T=1]$.\n",
    "\n",
    "Agora, vamos tentar estimar esse efeito com Variáveis Instrumentais. Primeiro, vamos executar o primeiro estágio."
   ]
  },
  {
   "cell_type": "code",
   "execution_count": 11,
   "metadata": {},
   "outputs": [
    {
     "data": {
      "text/html": [
       "<table class=\"simpletable\">\n",
       "<caption>Parameter Estimates</caption>\n",
       "<tr>\n",
       "        <td></td>        <th>Parameter</th> <th>Std. Err.</th> <th>T-stat</th> <th>P-value</th>  <th>Lower CI</th>  <th>Upper CI</th> \n",
       "</tr>\n",
       "<tr>\n",
       "  <th>Intercept</th>      <td>0.0000</td>   <td>7.408e-11</td> <td>0.0000</td> <td>1.0000</td>  <td>-1.452e-10</td> <td>1.452e-10</td>\n",
       "</tr>\n",
       "<tr>\n",
       "  <th>push_assigned</th>  <td>0.7176</td>    <td>0.0064</td>   <td>112.07</td> <td>0.0000</td>    <td>0.7050</td>    <td>0.7301</td>  \n",
       "</tr>\n",
       "</table>"
      ],
      "text/plain": [
       "<class 'statsmodels.iolib.table.SimpleTable'>"
      ]
     },
     "execution_count": 11,
     "metadata": {},
     "output_type": "execute_result"
    }
   ],
   "source": [
    "first_stage = IV2SLS.from_formula(\"push_delivered ~ 1 + push_assigned\", data).fit()\n",
    "first_stage.summary.tables[1]"
   ]
  },
  {
   "cell_type": "markdown",
   "metadata": {},
   "source": [
    "Parece que temos um primeiro estágio forte. Aqueles que são designados para receber a notificação a recebem 71,8% das vezes. Isso significa que temos algo em torno de 28% de nunca aceitantes. Também temos fortes razões para acreditar que não há sempre aceitantes, uma vez que o parâmetro de interceptação é estimado como zero. Isso significa que ninguém recebe a notificação se não for designado para isso. Dado o design do nosso experimento, isso é esperado.\n",
    "\n",
    "Agora, vamos executar a forma reduzida:"
   ]
  },
  {
   "cell_type": "code",
   "execution_count": 7,
   "metadata": {},
   "outputs": [
    {
     "data": {
      "text/html": [
       "<table class=\"simpletable\">\n",
       "<caption>Parameter Estimates</caption>\n",
       "<tr>\n",
       "        <td></td>        <th>Parameter</th> <th>Std. Err.</th> <th>T-stat</th> <th>P-value</th> <th>Lower CI</th> <th>Upper CI</th>\n",
       "</tr>\n",
       "<tr>\n",
       "  <th>Intercept</th>      <td>69.292</td>    <td>0.3624</td>   <td>191.22</td> <td>0.0000</td>   <td>68.581</td>   <td>70.002</td> \n",
       "</tr>\n",
       "<tr>\n",
       "  <th>push_assigned</th>  <td>2.3636</td>    <td>0.5209</td>   <td>4.5376</td> <td>0.0000</td>   <td>1.3427</td>   <td>3.3845</td> \n",
       "</tr>\n",
       "</table>"
      ],
      "text/plain": [
       "<class 'statsmodels.iolib.table.SimpleTable'>"
      ]
     },
     "execution_count": 7,
     "metadata": {},
     "output_type": "execute_result"
    }
   ],
   "source": [
    "reduced_form = IV2SLS.from_formula(\"in_app_purchase ~ 1 + push_assigned\", data).fit()\n",
    "reduced_form.summary.tables[1]"
   ]
  },
  {
   "cell_type": "markdown",
   "metadata": {},
   "source": [
    "A forma reduzida mostra que o efeito causal da atribuição de tratamento é 2,36. Isso significa que designar alguém para receber a notificação aumenta a compra dentro do aplicativo em 2,36 reais.\n",
    "\n",
    "Se dividirmos a forma reduzida pelo primeiro estágio, escalamos o efeito do instrumento pelas unidades do tratamento, obtemos $2,3636/0,7176=3,29$. Executando o 2SLS, obtemos essas mesmas estimativas, com o bônus de ter erros padrão corretos."
   ]
  },
  {
   "cell_type": "code",
   "execution_count": 8,
   "metadata": {},
   "outputs": [
    {
     "data": {
      "text/html": [
       "<table class=\"simpletable\">\n",
       "<caption>Parameter Estimates</caption>\n",
       "<tr>\n",
       "         <td></td>        <th>Parameter</th> <th>Std. Err.</th> <th>T-stat</th> <th>P-value</th> <th>Lower CI</th> <th>Upper CI</th>\n",
       "</tr>\n",
       "<tr>\n",
       "  <th>Intercept</th>       <td>69.292</td>    <td>0.3624</td>   <td>191.22</td> <td>0.0000</td>   <td>68.581</td>   <td>70.002</td> \n",
       "</tr>\n",
       "<tr>\n",
       "  <th>push_delivered</th>  <td>3.2938</td>    <td>0.7165</td>   <td>4.5974</td> <td>0.0000</td>   <td>1.8896</td>   <td>4.6981</td> \n",
       "</tr>\n",
       "</table>"
      ],
      "text/plain": [
       "<class 'statsmodels.iolib.table.SimpleTable'>"
      ]
     },
     "execution_count": 8,
     "metadata": {},
     "output_type": "execute_result"
    }
   ],
   "source": [
    "iv = IV2SLS.from_formula(\"in_app_purchase ~ 1 + [push_delivered ~ push_assigned]\", data).fit()\n",
    "iv.summary.tables[1]"
   ]
  },
  {
   "cell_type": "markdown",
   "metadata": {},
   "source": [
    "Isso mostra que o resultado com 2SLS é muito menor do que aquele que obtivemos com OLS: 3,29 contra 27,60. Isso faz sentido, uma vez que o efeito causal estimado com OLS está positivamente enviesado. Também precisamos lembrar sobre o LATE. 3,29 é o efeito causal médio nos cumpridores. Infelizmente, não podemos dizer nada sobre aqueles nunca aceitantes. Isso significa que estamos estimando o efeito no segmento mais rico da população que tem telefones mais novos.\n",
    "\n",
    "## Conceitos-chave\n",
    "\n",
    "Aqui, examinamos uma visão mais moderna de Variáveis Instrumentais. Vimos como o IV pode ser visto como uma cadeia causal onde o instrumento causa o tratamento que causa o resultado. Nessa visão, analisamos o cumprimento para entender o Efeito Médio de Tratamento (ATE) na estimativa de IV e descobrimos que era o LATE nos cumpridores.\n",
    "\n",
    "## Referências\n",
    "\n",
    "Gosto de pensar nesta série inteira como uma homenagem a Joshua Angrist, Alberto Abadie e Christopher Walters por sua incrível aula de Econometria. A maioria das ideias aqui foram tiradas de suas aulas na *American Economic Association*. Assisti-las é o que está me mantendo são durante este difícil ano de 2020.\n",
    "* [Cross-Section Econometrics](https://www.aeaweb.org/conference/cont-ed/2017-webcasts)\n",
    "* [Mastering Mostly Harmless Econometrics](https://www.aeaweb.org/conference/cont-ed/2020-webcasts)\n",
    "\n",
    "Também gostaria de referenciar os livros incríveis de Angrist. Eles me mostraram que Econometria, ou 'Métricas, como eles chamam, não é apenas extremamente útil, mas também profundamente divertida.\n",
    "\n",
    "* [Mostly Harmless Econometrics](https://www.mostlyharmlesseconometrics.com/)\n",
    "* [Mastering 'Metrics](https://www.masteringmetrics.com/)\n",
    "\n",
    "Finalmente, gostaria de referenciar o livro de Miguel Hernan e Jamie Robins. Tem sido meu fiel companheiro nas questões mais espinhosas de inferência causal que tive que responder.\n",
    "\n",
    "* [Causal Inference Book](https://www.hsph.harvard.edu/miguel-hernan/causal-inference-book/)\n",
    "\n",
    "![img](./data/img/poetry.png)\n",
    "\n",
    "## Contribua\n",
    "\n",
    "\"Inferência Causal para os Corajosos e Verdadeiros\" é um material de código aberto sobre inferência causal, a estatística da ciência. Seu objetivo é ser acessível monetariamente e intelectualmente. Ele utiliza apenas software gratuito baseado em Python.\n",
    "Se você encontrou valor neste livro e deseja apoiá-lo, por favor, vá para o [Patreon](https://www.patreon.com/causal_inference_for_the_brave_and_true). Se você não estiver pronto para contribuir financeiramente, também pode ajudar corrigindo erros, sugerindo edições ou dando feedback sobre trechos que não compreendeu. Acesse o repositório do livro e [abra uma issue](https://github.com/matheusfacure/python-causality-handbook/issues). Por fim, se você gostou deste conteúdo, compartilhe com outras pessoas que possam achar útil e dê uma [estrela no GitHub](https://github.com/matheusfacure/python-causality-handbook/stargazers)."
   ]
  },
  {
   "cell_type": "markdown",
   "metadata": {},
   "source": [
    "---"
   ]
  },
  {
   "cell_type": "markdown",
   "metadata": {},
   "source": [
    "***Nota de tradução**: O título original é \"Non-compliance and LATE\", onde numa uma tradução direta seria \"Não conformidade e LATE\". Preferi utilizar \"Cumprimento Parcial\" em vez de \"Nâo conformidade\" para manter o padrão adotado no livro \"Avaliação de Impacto na\n",
    "Prática, 2ºEd\" produzido pelo Banco Mundial e disponibilizado gratuitamente [aqui](https://publications.iadb.org/publications/portuguese/document/Avalia%C3%A7%C3%A3o-de-impacto-na-pr%C3%A1tica-Segunda-edi%C3%A7%C3%A3o.pdf).*"
   ]
  },
  {
   "cell_type": "markdown",
   "metadata": {},
   "source": [
    "<div align=\"center\">\n",
    "<a href=\"08-Instrumental-Variables.ipynb\"><-- Anterior</a>  \n",
    "<a href=\"00-Summary.ipynb\">| Sumário |</a>  \n",
    "<a href=\"10-Matching.ipynb\">Próximo --></a>  \n",
    "</div>"
   ]
  }
 ],
 "metadata": {
  "celltoolbar": "Tags",
  "kernelspec": {
   "display_name": "Python 3 (ipykernel)",
   "language": "python",
   "name": "python3"
  },
  "language_info": {
   "codemirror_mode": {
    "name": "ipython",
    "version": 3
   },
   "file_extension": ".py",
   "mimetype": "text/x-python",
   "name": "python",
   "nbconvert_exporter": "python",
   "pygments_lexer": "ipython3",
   "version": "3.9.7"
  }
 },
 "nbformat": 4,
 "nbformat_minor": 2
}
