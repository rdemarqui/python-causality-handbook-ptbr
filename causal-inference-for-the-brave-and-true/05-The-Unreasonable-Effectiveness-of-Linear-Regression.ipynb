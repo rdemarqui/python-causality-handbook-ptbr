{
 "cells": [
  {
   "cell_type": "markdown",
   "metadata": {},
   "source": [
    "# 05 - A Eficácia Surpreendente da Regressão Linear\n",
    "\n",
    "\n",
    "## Tudo o Que Você Precisa é de Regressão\n",
    "\n",
    "Ao lidar com inferência causal, vimos como existem dois resultados potenciais para cada indivíduo: $Y_0$ é o resultado que o indivíduo teria se não recebesse o tratamento e $Y_1$ é o resultado se ele recebesse o tratamento. O ato de definir o tratamento $T$ como 0 ou 1 materializa um dos resultados potenciais e torna impossível para nós conhecermos o outro. Isso leva ao fato de que o efeito do tratamento individual $\\tau_i = Y_{1i} - Y_{0i}$ é desconhecido. \n",
    "\n",
    "$\n",
    "Y_i = Y_{0i} + T_i(Y_{1i} - Y_{0i}) = Y_{0i}(1-T_i) + T_i Y_{1i}\n",
    "$\n",
    "\n",
    "Então, por enquanto, vamos nos concentrar na tarefa mais simples de estimar o efeito causal médio. Com isso em mente, estamos aceitando o fato de que algumas pessoas respondem melhor do que outras ao tratamento, mas também estamos aceitando que não podemos saber quem são elas. Em vez disso, vamos apenas tentar ver se o tratamento funciona, **na média**.\n",
    "\n",
    "$\n",
    "ATE = E[Y_1 - Y_0]\n",
    "$\n",
    "\n",
    "Isso nos dará um modelo simplificado, com um efeito de tratamento constante $Y_{1i} = Y_{0i} + \\kappa$. Se $\\kappa$ for positivo, diremos que o tratamento tem, em média, um efeito positivo. Mesmo que algumas pessoas reajam mal a ele, em média, o impacto será positivo.\n",
    "\n",
    "Vamos também lembrar que não podemos simplesmente estimar $E[Y_1 - Y_0]$ com a diferença nas médias $E[Y|T=1] - E[Y|T=0]$ devido ao viés. O viés surge frequentemente quando os tratados e não tratados são diferentes por razões outras que não o próprio tratamento. Uma maneira de ver isso é em como eles diferem no resultado potencial $Y_0$\n",
    "\n",
    "$\n",
    "E[Y|T=1] - E[Y|T=0] = \\underbrace{E[Y_1 - Y_0|T=1]}_{ATET} + \\underbrace{\\{ E[Y_0|T=1] - E[Y_0|T=0]\\}}_{BIAS}\n",
    "$\n",
    "\n",
    "Anteriormente, vimos como podemos eliminar o viés com Experimentos Aleatórios, ou **Ensaio Controlado Randomizado** (ECR), como às vezes são chamados. O ECR força os tratados e os não tratados a serem iguais, e é por isso que o viés desaparece. Também vimos como colocar níveis de incerteza em torno de nossas estimativas para o efeito do tratamento. Nomeadamente, olhamos para o caso de aulas online versus presenciais, onde $T=0$ representa aulas presenciais e $T=1$ representa aulas online. Os estudantes foram aleatoriamente designados para um desses 2 tipos de aulas e, em seguida, seu desempenho em um exame foi avaliado. Construímos uma função de teste A/B que poderia comparar ambos os grupos, fornecer o efeito médio do tratamento e até colocar um intervalo de confiança em torno dele.\n",
    "\n",
    "Now, it's time to see that we can do all of that with the workhorse of causal inference: **Linear Regression**! Think of it this way. If comparing treated and untreated means was an apple for dessert, linear regression would be cold and creamy tiramisu. Or if comparing treated and untreated is a sad and old loaf of white wonder bread, linear regression would be a crusty, soft crumb country loaf sourdough baked by Chad Robertson himself.\n",
    "\n",
    "Agora, é hora de ver que podemos fazer tudo isso com a ferramenta central da inferência causal: **Regressão Linear**! Pense desta forma. Se comparar médias de tratados e não tratados fosse uma maçã de sobremesa, a regressão linear seria um tiramisu gelado e cremoso. Ou se comparar tratados e não tratados fosse um triste e velho pão de forma branco, a regressão linear seria um pão de fermento natural crocante e macio, assado pelo próprio Chad Robertson.\n",
    "\n",
    "![img](./data/img/linear-regression/you_vs.png)\n",
    "\n",
    "Vamos ver como essa beleza funciona. No código abaixo, queremos executar exatamente a mesma análise de comparação entre aulas online e presenciais. Mas, em vez de fazer toda aquela matemática de intervalos de confiança, nós simplesmente executamos uma regressão. Mais especificamente, estimamos o seguinte modelo:\n",
    "\n",
    "$\n",
    "exam_i = \\beta_0 + \\kappa \\ Online_i + u_i\n",
    "$\n",
    "\n",
    "Isso significa que estamos modelando o resultado do exame como uma linha de base $\\beta_0$ mais $\\kappa$ se a aula for online. Claro, o resultado do exame é influenciado por variáveis adicionais (como o humor do aluno no dia do exame, horas estudadas e assim por diante). Mas não estamos realmente interessados em entender essas relações. Então, em vez disso, usamos o termo $u_i$ para representar tudo mais que não nos importa. Isso é chamado de erro do modelo.\n",
    "\n",
    "Note que $Online$ é a indicação do nosso tratamento e, portanto, uma variável *dummy*. Ela é zero quando o tratamento é presencial e 1 se for online. Com isso em mente, podemos ver que a regressão linear irá recuperar $E[Y|T=0] = \\beta_0$ e $E[Y|T=1] = \\beta_0 + \\kappa$. $\\kappa$ será o nosso ATE (Efeito de Tratamento Médio)."
   ]
  },
  {
   "cell_type": "code",
   "execution_count": null,
   "metadata": {
    "tags": [
     "hide-input"
    ]
   },
   "outputs": [],
   "source": [
    "import warnings\n",
    "warnings.filterwarnings('ignore')\n",
    "\n",
    "import pandas as pd\n",
    "import numpy as np\n",
    "import statsmodels.formula.api as smf\n",
    "import graphviz as gr\n",
    "%matplotlib inline"
   ]
  },
  {
   "cell_type": "code",
   "execution_count": 1,
   "metadata": {},
   "outputs": [
    {
     "data": {
      "text/html": [
       "<table class=\"simpletable\">\n",
       "<tr>\n",
       "      <td></td>         <th>coef</th>     <th>std err</th>      <th>t</th>      <th>P>|t|</th>  <th>[0.025</th>    <th>0.975]</th>  \n",
       "</tr>\n",
       "<tr>\n",
       "  <th>Intercept</th> <td>   78.5475</td> <td>    1.113</td> <td>   70.563</td> <td> 0.000</td> <td>   76.353</td> <td>   80.742</td>\n",
       "</tr>\n",
       "<tr>\n",
       "  <th>format_ol</th> <td>   -4.9122</td> <td>    1.680</td> <td>   -2.925</td> <td> 0.004</td> <td>   -8.223</td> <td>   -1.601</td>\n",
       "</tr>\n",
       "</table>"
      ],
      "text/plain": [
       "<class 'statsmodels.iolib.table.SimpleTable'>"
      ]
     },
     "execution_count": 1,
     "metadata": {},
     "output_type": "execute_result"
    }
   ],
   "source": [
    "data = pd.read_csv(\"data/online_classroom.csv\").query(\"format_blended==0\")\n",
    "\n",
    "result = smf.ols('falsexam ~ format_ol', data=data).fit()\n",
    "result.summary().tables[1]"
   ]
  },
  {
   "cell_type": "markdown",
   "metadata": {},
   "source": [
    "Isso é realmente incrível. Não estamos apenas aptos a estimar o ATE, mas também obtemos, gratuitamente, intervalos de confiança e valores-P! Além disso, podemos ver que a regressão está fazendo exatamente o que deveria fazer: comparar $E[Y|T=0]$ e $E[Y|T=1]$. A interseção é exatamente a média da amostra quando $T=0$, $E[Y|T=0]$, e o coeficiente do formato online é exatamente a diferença na média das amostras $E[Y|T=1] - E[Y|T=0]$. Não confia em mim? Sem problema. Você pode ver por si mesmo:"
   ]
  },
  {
   "cell_type": "code",
   "execution_count": 2,
   "metadata": {},
   "outputs": [
    {
     "data": {
      "text/plain": [
       "format_ol\n",
       "0    78.547485\n",
       "1    73.635263\n",
       "Name: falsexam, dtype: float64"
      ]
     },
     "execution_count": 2,
     "metadata": {},
     "output_type": "execute_result"
    }
   ],
   "source": [
    "(data\n",
    " .groupby(\"format_ol\")\n",
    " [\"falsexam\"]\n",
    " .mean())"
   ]
  },
  {
   "cell_type": "markdown",
   "metadata": {},
   "source": [
    "Como esperado. Se você adicionar ao intercepto o ATE, ou seja, a estimativa do parâmetro do formato online, você obterá a média da amostra para os tratados: $78.5475 + (-4.9122) = 73.635263$.\n",
    "\n",
    "## Teoria da Regressão\n",
    "\n",
    "Não pretendo me aprofundar muito em como a regressão linear é construída e estimada. No entanto, um pouco de teoria ajudará bastante a explicar seu poder na inferência causal. Primeiramente, a regressão resolve um problema teórico de melhor predição linear. Seja $\\beta^*$ um vetor de parâmetros:\n",
    "\n",
    "$\n",
    "\\beta^* =\\underset{\\beta}{argmin} \\ E[(Y_i - X_i'\\beta)^2]\n",
    "$\n",
    "\n",
    "A regressão linear encontra os parâmetros que minimizam o erro quadrático médio (MSE, do inglês Mean Squared Error).\n",
    "\n",
    "Se você diferenciar isso e igualar a zero, encontrará que a solução linear para este problema é dada por\n",
    "\n",
    "$\n",
    "\\beta^* = E[X_i'X_i]^{-1}E[X_i' Y_i]\n",
    "$\n",
    "\n",
    "Podemos estimar este beta usando o equivalente da amostra:\n",
    "\n",
    "$\n",
    "\\hat{\\beta} = (X'X)^{-1}X' Y\n",
    "$\n",
    "\n",
    "Mas não acredite apenas na minha palavra. Se você é uma daquelas pessoas que entende melhor códigos do que fórmulas, tente por si mesmo:"
   ]
  },
  {
   "cell_type": "code",
   "execution_count": 3,
   "metadata": {},
   "outputs": [
    {
     "data": {
      "text/plain": [
       "array([-4.9122215 , 78.54748458])"
      ]
     },
     "execution_count": 3,
     "metadata": {},
     "output_type": "execute_result"
    }
   ],
   "source": [
    "X = data[[\"format_ol\"]].assign(intercep=1)\n",
    "y = data[\"falsexam\"]\n",
    "\n",
    "def regress(y, X): \n",
    "    return np.linalg.inv(X.T.dot(X)).dot(X.T.dot(y))\n",
    "\n",
    "beta = regress(y, X)\n",
    "beta"
   ]
  },
  {
   "cell_type": "markdown",
   "metadata": {},
   "source": [
    "As fórmulas acima são bastante gerais. No entanto, vale a pena estudar o caso em que temos apenas um regressor. Na inferência causal, muitas vezes queremos estimar o impacto causal de uma variável $T$ em um resultado $y$. Então, usamos a regressão com essa única variável para estimar esse efeito. Mesmo que incluamos outras variáveis no modelo, elas geralmente são apenas auxiliares. Adicionar outras variáveis pode nos ajudar a estimar o efeito causal do tratamento, mas não estamos muito interessados em estimar seus parâmetros.\n",
    "\n",
    "Com uma única variável regressora $T$, o parâmetro associado a ela será dado por\n",
    "\n",
    "$\n",
    "\\beta_1 = \\dfrac{Cov(Y_i, T_i)}{Var(T_i)} \n",
    "$\n",
    "\n",
    "Se $T$ for atribuída aleatoriamente, $\\beta_1$ é o ATE (Efeito de Tratamento Médio)."
   ]
  },
  {
   "cell_type": "code",
   "execution_count": 4,
   "metadata": {},
   "outputs": [
    {
     "data": {
      "text/plain": [
       "-4.91222149822695"
      ]
     },
     "execution_count": 4,
     "metadata": {},
     "output_type": "execute_result"
    }
   ],
   "source": [
    "kapa = data[\"falsexam\"].cov(data[\"format_ol\"]) / data[\"format_ol\"].var()\n",
    "kapa"
   ]
  },
  {
   "cell_type": "markdown",
   "metadata": {},
   "source": [
    "Se tivermos mais de um regressor, podemos estender a fórmula a seguir para acomodar isso. Digamos que essas outras variáveis são apenas auxiliares e que estamos verdadeiramente interessados apenas em estimar o parâmetro $\\kappa$ associado a $T$.\n",
    "\n",
    "$\n",
    "y_i = \\beta_0 + \\kappa T_i + \\beta_1 X_{1i} + ... +\\beta_k X_{ki} + u_i\n",
    "$\n",
    "\n",
    "$\\kappa$ pode ser obtido com a seguinte fórmula\n",
    "\n",
    "$\n",
    "\\kappa = \\dfrac{Cov(Y_i, \\tilde{T_i})}{Var(\\tilde{T_i})} \n",
    "$\n",
    "\n",
    "onde $\\tilde{T_i}$ é o resíduo de uma regressão de $T_i$ em todas as outras covariáveis $X_{1i}, ..., X_{ki}$. Agora, vamos apreciar o quão legal é isso. Significa que o coeficiente de uma regressão multivariada é o coeficiente bivariado do mesmo regressor **após levar em conta o efeito de outras variáveis no modelo**. Em termos de inferência causal, $\\kappa$ é o coeficiente bivariado de $T$ depois de ter usado todas as outras variáveis para prever isso.\n",
    "\n",
    "Isso tem uma intuição interessante por trás. Se podemos prever $T$ usando outras variáveis, significa que não é aleatória. No entanto, podemos fazer com que $T$ seja tão boa quanto aleatória uma vez que controlamos para outras variáveis disponíveis. Para fazer isso, usamos a regressão linear para prever a partir das outras variáveis e depois pegamos os resíduos dessa regressão $\\tilde{T}$. Por definição, $\\tilde{T}$ não pode ser previsto pelas outras variáveis $X$ que já usamos para prever $T$. De forma bastante elegante, $\\tilde{T}$ é uma versão do tratamento que não está associada a nenhuma outra variável em $X$.\n",
    "\n",
    "A propósito, isso também é uma propriedade da regressão linear. Os resíduos são sempre ortogonais ou não correlacionados com qualquer uma das variáveis no modelo que os criou:"
   ]
  },
  {
   "cell_type": "code",
   "execution_count": 5,
   "metadata": {},
   "outputs": [
    {
     "name": "stdout",
     "output_type": "stream",
     "text": [
      "Orthogonality imply that the dot product is zero: [7.81597009e-13 4.63984406e-12]\n"
     ]
    },
    {
     "data": {
      "text/html": [
       "<div>\n",
       "<style scoped>\n",
       "    .dataframe tbody tr th:only-of-type {\n",
       "        vertical-align: middle;\n",
       "    }\n",
       "\n",
       "    .dataframe tbody tr th {\n",
       "        vertical-align: top;\n",
       "    }\n",
       "\n",
       "    .dataframe thead th {\n",
       "        text-align: right;\n",
       "    }\n",
       "</style>\n",
       "<table border=\"1\" class=\"dataframe\">\n",
       "  <thead>\n",
       "    <tr style=\"text-align: right;\">\n",
       "      <th></th>\n",
       "      <th>format_ol</th>\n",
       "      <th>e</th>\n",
       "    </tr>\n",
       "  </thead>\n",
       "  <tbody>\n",
       "    <tr>\n",
       "      <th>format_ol</th>\n",
       "      <td>1.000000e+00</td>\n",
       "      <td>-9.419033e-16</td>\n",
       "    </tr>\n",
       "    <tr>\n",
       "      <th>e</th>\n",
       "      <td>-9.419033e-16</td>\n",
       "      <td>1.000000e+00</td>\n",
       "    </tr>\n",
       "  </tbody>\n",
       "</table>\n",
       "</div>"
      ],
      "text/plain": [
       "              format_ol             e\n",
       "format_ol  1.000000e+00 -9.419033e-16\n",
       "e         -9.419033e-16  1.000000e+00"
      ]
     },
     "execution_count": 5,
     "metadata": {},
     "output_type": "execute_result"
    }
   ],
   "source": [
    "e = y - X.dot(beta)\n",
    "print(\"Orthogonality imply that the dot product is zero:\", np.dot(e, X))\n",
    "X[[\"format_ol\"]].assign(e=e).corr()"
   ]
  },
  {
   "cell_type": "markdown",
   "metadata": {},
   "source": [
    "E o que é ainda mais interessante é que essas propriedades não dependem de nada! São verdades matemáticas, independentemente de como seus dados se parecem.\n",
    "\n",
    "## Regressão para Dados Não Aleatórios\n",
    "\n",
    "Até agora, trabalhamos com dados de experimentos aleatórios, mas, como sabemos, esses dados são difíceis de obter. Experimentos são muito caros para conduzir ou simplesmente inviáveis. É muito difícil convencer a McKinsey & Co. a fornecer seus serviços gratuitamente de forma aleatória para que possamos, de uma vez por todas, distinguir o valor que seus serviços de consultoria trazem do fato de que as empresas que podem pagar por eles já são muito bem-sucedidas.\n",
    "\n",
    "Por essa razão, agora vamos nos aprofundar em dados não aleatórios ou observacionais. No exemplo a seguir, tentaremos estimar o impacto de um ano adicional de educação no salário por hora. Como você deve ter adivinhado, é extremamente difícil conduzir um experimento com educação. Você não pode simplesmente randomizar pessoas para terem 4, 8 ou 12 anos de educação. Neste caso, os dados observacionais são tudo que temos.\n",
    "\n",
    "Primeiro, vamos estimar um modelo bem simples. Vamos fazer a regressão dos salários por hora em logaritmo em função dos anos de educação. Usamos logaritmos aqui para que nossas estimativas de parâmetros tenham uma interpretação em porcentagem (se você nunca ouviu falar sobre essas propriedades incríveis do logaritmo e quer saber por que isso acontece, confira [este link](https://stats.stackexchange.com/questions/244199/why-is-it-that-natural-log-changes-are-percentage-changes-what-is-about-logs-th)). Com isso, seremos capazes de dizer que 1 ano a mais de educação resulta em um aumento de x% no salário.\n",
    "\n",
    "$\n",
    "log(hwage)_i = \\beta_0 + \\beta_1 educ_i + u_i\n",
    "$"
   ]
  },
  {
   "cell_type": "code",
   "execution_count": 6,
   "metadata": {},
   "outputs": [
    {
     "data": {
      "text/html": [
       "<table class=\"simpletable\">\n",
       "<tr>\n",
       "      <td></td>         <th>coef</th>     <th>std err</th>      <th>t</th>      <th>P>|t|</th>  <th>[0.025</th>    <th>0.975]</th>  \n",
       "</tr>\n",
       "<tr>\n",
       "  <th>Intercept</th> <td>    2.3071</td> <td>    0.104</td> <td>   22.089</td> <td> 0.000</td> <td>    2.102</td> <td>    2.512</td>\n",
       "</tr>\n",
       "<tr>\n",
       "  <th>educ</th>      <td>    0.0536</td> <td>    0.008</td> <td>    7.114</td> <td> 0.000</td> <td>    0.039</td> <td>    0.068</td>\n",
       "</tr>\n",
       "</table>"
      ],
      "text/plain": [
       "<class 'statsmodels.iolib.table.SimpleTable'>"
      ]
     },
     "execution_count": 6,
     "metadata": {},
     "output_type": "execute_result"
    }
   ],
   "source": [
    "wage = pd.read_csv(\"./data/wage.csv\").dropna()\n",
    "model_1 = smf.ols('np.log(hwage) ~ educ', data=wage.assign(hwage=wage[\"wage\"]/wage[\"hours\"])).fit()\n",
    "model_1.summary().tables[1]"
   ]
  },
  {
   "cell_type": "markdown",
   "metadata": {},
   "source": [
    "A estimativa de $\\beta_1$ é 0.0536, com um intervalo de confiança de 95% de (0.039, 0.068). Isso significa que este modelo prevê que os salários aumentarão cerca de 5,3% para cada ano adicional de educação. Esse aumento percentual está alinhado com a crença de que a educação impacta os salários de forma exponencial: esperamos que ir de 11 para 12 anos de educação (média para concluir o ensino médio) seja menos recompensador do que ir de 14 para 16 anos (média para concluir a faculdade)."
   ]
  },
  {
   "cell_type": "code",
   "execution_count": 7,
   "metadata": {},
   "outputs": [
    {
     "data": {
      "image/png": "[encoded data removed]",
      "text/plain": [
       "<Figure size 432x288 with 1 Axes>"
      ]
     },
     "metadata": {},
     "output_type": "display_data"
    }
   ],
   "source": [
    "from matplotlib import pyplot as plt\n",
    "from matplotlib import style\n",
    "style.use(\"fivethirtyeight\")\n",
    "\n",
    "x = np.array(range(5, 20))\n",
    "plt.plot(x, np.exp(model_1.params[\"Intercept\"] + model_1.params[\"educ\"] * x))\n",
    "plt.xlabel(\"Years of Education\")\n",
    "plt.ylabel(\"Hourly Wage\")\n",
    "plt.title(\"Impact of Education on Hourly Wage\")\n",
    "plt.show()"
   ]
  },
  {
   "cell_type": "markdown",
   "metadata": {},
   "source": [
    "Claro, não é porque podemos estimar este modelo simples que ele esteja correto. Observe como fui cuidadoso com minhas palavras ao dizer que ele **prevê** o salário a partir da educação. Nunca disse que essa previsão era causal. Na verdade, até agora, você provavelmente tem razões muito sérias para acreditar que este modelo está enviesado. Como nossos dados não vieram de um experimento aleatório, não sabemos se aqueles que receberam mais educação são comparáveis aos que receberam menos. Indo ainda mais longe, com base em nosso entendimento de como o mundo funciona, estamos muito certos de que eles não são comparáveis. Nomeadamente, podemos argumentar que aqueles com mais anos de educação provavelmente têm pais mais ricos, e que o aumento que estamos vendo nos salários à medida que aumentamos a educação é apenas um reflexo de como a riqueza familiar está associada a mais anos de educação. Colocando em termos matemáticos, pensamos que $E[Y_0|T=0] < E[Y_0|T=1]$, ou seja, aqueles com mais educação teriam uma renda maior de qualquer maneira, mesmo sem tantos anos de educação. Se você for realmente pessimista sobre educação, pode argumentar que ela pode até mesmo *reduzir* os salários ao manter as pessoas fora do mercado de trabalho e diminuir sua experiência.\n",
    "\n",
    "Felizmente, em nossos dados, temos acesso a muitas outras variáveis. Podemos ver a educação dos pais `meduc`, `feduc`, a pontuação de `QI` da pessoa, o número de anos de experiência `exper` e o tempo de permanência da pessoa em sua atual empresa `tenure`. Até temos algumas variáveis fictícias para casamento e etnia negra."
   ]
  },
  {
   "cell_type": "code",
   "execution_count": 8,
   "metadata": {},
   "outputs": [
    {
     "data": {
      "text/html": [
       "<div>\n",
       "<style scoped>\n",
       "    .dataframe tbody tr th:only-of-type {\n",
       "        vertical-align: middle;\n",
       "    }\n",
       "\n",
       "    .dataframe tbody tr th {\n",
       "        vertical-align: top;\n",
       "    }\n",
       "\n",
       "    .dataframe thead th {\n",
       "        text-align: right;\n",
       "    }\n",
       "</style>\n",
       "<table border=\"1\" class=\"dataframe\">\n",
       "  <thead>\n",
       "    <tr style=\"text-align: right;\">\n",
       "      <th></th>\n",
       "      <th>wage</th>\n",
       "      <th>hours</th>\n",
       "      <th>lhwage</th>\n",
       "      <th>IQ</th>\n",
       "      <th>educ</th>\n",
       "      <th>exper</th>\n",
       "      <th>tenure</th>\n",
       "      <th>age</th>\n",
       "      <th>married</th>\n",
       "      <th>black</th>\n",
       "      <th>south</th>\n",
       "      <th>urban</th>\n",
       "      <th>sibs</th>\n",
       "      <th>brthord</th>\n",
       "      <th>meduc</th>\n",
       "      <th>feduc</th>\n",
       "    </tr>\n",
       "  </thead>\n",
       "  <tbody>\n",
       "    <tr>\n",
       "      <th>0</th>\n",
       "      <td>769</td>\n",
       "      <td>40</td>\n",
       "      <td>2.956212</td>\n",
       "      <td>93</td>\n",
       "      <td>12</td>\n",
       "      <td>11</td>\n",
       "      <td>2</td>\n",
       "      <td>31</td>\n",
       "      <td>1</td>\n",
       "      <td>0</td>\n",
       "      <td>0</td>\n",
       "      <td>1</td>\n",
       "      <td>1</td>\n",
       "      <td>2.0</td>\n",
       "      <td>8.0</td>\n",
       "      <td>8.0</td>\n",
       "    </tr>\n",
       "    <tr>\n",
       "      <th>2</th>\n",
       "      <td>825</td>\n",
       "      <td>40</td>\n",
       "      <td>3.026504</td>\n",
       "      <td>108</td>\n",
       "      <td>14</td>\n",
       "      <td>11</td>\n",
       "      <td>9</td>\n",
       "      <td>33</td>\n",
       "      <td>1</td>\n",
       "      <td>0</td>\n",
       "      <td>0</td>\n",
       "      <td>1</td>\n",
       "      <td>1</td>\n",
       "      <td>2.0</td>\n",
       "      <td>14.0</td>\n",
       "      <td>14.0</td>\n",
       "    </tr>\n",
       "    <tr>\n",
       "      <th>3</th>\n",
       "      <td>650</td>\n",
       "      <td>40</td>\n",
       "      <td>2.788093</td>\n",
       "      <td>96</td>\n",
       "      <td>12</td>\n",
       "      <td>13</td>\n",
       "      <td>7</td>\n",
       "      <td>32</td>\n",
       "      <td>1</td>\n",
       "      <td>0</td>\n",
       "      <td>0</td>\n",
       "      <td>1</td>\n",
       "      <td>4</td>\n",
       "      <td>3.0</td>\n",
       "      <td>12.0</td>\n",
       "      <td>12.0</td>\n",
       "    </tr>\n",
       "    <tr>\n",
       "      <th>4</th>\n",
       "      <td>562</td>\n",
       "      <td>40</td>\n",
       "      <td>2.642622</td>\n",
       "      <td>74</td>\n",
       "      <td>11</td>\n",
       "      <td>14</td>\n",
       "      <td>5</td>\n",
       "      <td>34</td>\n",
       "      <td>1</td>\n",
       "      <td>0</td>\n",
       "      <td>0</td>\n",
       "      <td>1</td>\n",
       "      <td>10</td>\n",
       "      <td>6.0</td>\n",
       "      <td>6.0</td>\n",
       "      <td>11.0</td>\n",
       "    </tr>\n",
       "    <tr>\n",
       "      <th>6</th>\n",
       "      <td>600</td>\n",
       "      <td>40</td>\n",
       "      <td>2.708050</td>\n",
       "      <td>91</td>\n",
       "      <td>10</td>\n",
       "      <td>13</td>\n",
       "      <td>0</td>\n",
       "      <td>30</td>\n",
       "      <td>0</td>\n",
       "      <td>0</td>\n",
       "      <td>0</td>\n",
       "      <td>1</td>\n",
       "      <td>1</td>\n",
       "      <td>2.0</td>\n",
       "      <td>8.0</td>\n",
       "      <td>8.0</td>\n",
       "    </tr>\n",
       "  </tbody>\n",
       "</table>\n",
       "</div>"
      ],
      "text/plain": [
       "   wage  hours    lhwage   IQ  educ  exper  tenure  age  married  black  \\\n",
       "0   769     40  2.956212   93    12     11       2   31        1      0   \n",
       "2   825     40  3.026504  108    14     11       9   33        1      0   \n",
       "3   650     40  2.788093   96    12     13       7   32        1      0   \n",
       "4   562     40  2.642622   74    11     14       5   34        1      0   \n",
       "6   600     40  2.708050   91    10     13       0   30        0      0   \n",
       "\n",
       "   south  urban  sibs  brthord  meduc  feduc  \n",
       "0      0      1     1      2.0    8.0    8.0  \n",
       "2      0      1     1      2.0   14.0   14.0  \n",
       "3      0      1     4      3.0   12.0   12.0  \n",
       "4      0      1    10      6.0    6.0   11.0  \n",
       "6      0      1     1      2.0    8.0    8.0  "
      ]
     },
     "execution_count": 8,
     "metadata": {},
     "output_type": "execute_result"
    }
   ],
   "source": [
    "wage.head()"
   ]
  },
  {
   "cell_type": "markdown",
   "metadata": {},
   "source": [
    "Podemos incluir todas essas variáveis extras em um modelo e estimá-lo:\n",
    "\n",
    "$\n",
    "log(hwage)_i = \\beta_0 + \\kappa \\ educ_i + \\pmb{\\beta}X_i + u_i\n",
    "$\n",
    "\n",
    "Para entender como isso ajuda com o problema de viés, vamos recapitular a decomposição bivariada da regressão linear multivariada.\n",
    "\n",
    "$\n",
    "\\kappa = \\dfrac{Cov(Y_i, \\tilde{T_i})}{Var(\\tilde{T_i})} \n",
    "$\n",
    "\n",
    "Esta fórmula diz que podemos prever `educ` a partir da educação dos pais, do QI, da experiência e assim por diante. Depois de fazer isso, ficaremos com uma versão de `educ`, $\\tilde{educ}$, que não está correlacionada com todas as variáveis incluídas anteriormente. Isso quebrará argumentos como \"pessoas que têm mais anos de educação têm isso porque têm QI mais alto. Não é o caso de a educação levar a salários mais altos. É apenas o caso de estar correlacionada com o QI, que é o que impulsiona os salários\". Bem, se incluirmos o QI no nosso modelo, então $\\kappa$ se torna o retorno de um ano adicional de educação mantendo o QI fixo. Faça uma pausa para entender o que isso implica. Mesmo que não possamos usar ensaios controlados randomizados para manter outros fatores iguais entre tratados e não tratados, a regressão pode fazer isso incluindo esses mesmos fatores no modelo, mesmo que os dados não sejam aleatórios!"
   ]
  },
  {
   "cell_type": "code",
   "execution_count": 9,
   "metadata": {},
   "outputs": [
    {
     "data": {
      "text/plain": [
       "0.041147191010057635"
      ]
     },
     "execution_count": 9,
     "metadata": {},
     "output_type": "execute_result"
    }
   ],
   "source": [
    "controls = ['IQ', 'exper', 'tenure', 'age', 'married', 'black',\n",
    "            'south', 'urban', 'sibs', 'brthord', 'meduc', 'feduc']\n",
    "\n",
    "X = wage[controls].assign(intercep=1)\n",
    "t = wage[\"educ\"]\n",
    "y = wage[\"lhwage\"]\n",
    "\n",
    "beta_aux = regress(t, X)\n",
    "t_tilde = t - X.dot(beta_aux)\n",
    "\n",
    "kappa = t_tilde.cov(y) / t_tilde.var()\n",
    "kappa"
   ]
  },
  {
   "cell_type": "markdown",
   "metadata": {},
   "source": [
    "Este coeficiente que acabamos de estimar nos diz que, para pessoas com o mesmo QI, experiência, tempo de permanência, idade e assim por diante, devemos esperar que um ano adicional de educação esteja associado a um aumento de 4,11% no salário por hora. Isso confirma nossa suspeita de que o primeiro modelo simples com apenas `educ` estava enviesado. Também confirma que esse viés estava superestimando o impacto da educação. Uma vez que controlamos para outros fatores, o impacto estimado da educação caiu.\n",
    "\n",
    "Se formos mais sábios e usarmos software que outras pessoas escreveram em vez de codificar tudo por conta própria, podemos até colocar um intervalo de confiança em torno dessa estimativa."
   ]
  },
  {
   "cell_type": "code",
   "execution_count": 10,
   "metadata": {},
   "outputs": [
    {
     "data": {
      "text/html": [
       "<table class=\"simpletable\">\n",
       "<tr>\n",
       "      <td></td>         <th>coef</th>     <th>std err</th>      <th>t</th>      <th>P>|t|</th>  <th>[0.025</th>    <th>0.975]</th>  \n",
       "</tr>\n",
       "<tr>\n",
       "  <th>Intercept</th> <td>    1.1156</td> <td>    0.232</td> <td>    4.802</td> <td> 0.000</td> <td>    0.659</td> <td>    1.572</td>\n",
       "</tr>\n",
       "<tr>\n",
       "  <th>educ</th>      <td>    0.0411</td> <td>    0.010</td> <td>    4.075</td> <td> 0.000</td> <td>    0.021</td> <td>    0.061</td>\n",
       "</tr>\n",
       "<tr>\n",
       "  <th>IQ</th>        <td>    0.0038</td> <td>    0.001</td> <td>    2.794</td> <td> 0.005</td> <td>    0.001</td> <td>    0.006</td>\n",
       "</tr>\n",
       "<tr>\n",
       "  <th>exper</th>     <td>    0.0153</td> <td>    0.005</td> <td>    3.032</td> <td> 0.003</td> <td>    0.005</td> <td>    0.025</td>\n",
       "</tr>\n",
       "<tr>\n",
       "  <th>tenure</th>    <td>    0.0094</td> <td>    0.003</td> <td>    2.836</td> <td> 0.005</td> <td>    0.003</td> <td>    0.016</td>\n",
       "</tr>\n",
       "<tr>\n",
       "  <th>age</th>       <td>    0.0086</td> <td>    0.006</td> <td>    1.364</td> <td> 0.173</td> <td>   -0.004</td> <td>    0.021</td>\n",
       "</tr>\n",
       "<tr>\n",
       "  <th>married</th>   <td>    0.1795</td> <td>    0.053</td> <td>    3.415</td> <td> 0.001</td> <td>    0.076</td> <td>    0.283</td>\n",
       "</tr>\n",
       "<tr>\n",
       "  <th>black</th>     <td>   -0.0801</td> <td>    0.063</td> <td>   -1.263</td> <td> 0.207</td> <td>   -0.205</td> <td>    0.044</td>\n",
       "</tr>\n",
       "<tr>\n",
       "  <th>south</th>     <td>   -0.0397</td> <td>    0.035</td> <td>   -1.129</td> <td> 0.259</td> <td>   -0.109</td> <td>    0.029</td>\n",
       "</tr>\n",
       "<tr>\n",
       "  <th>urban</th>     <td>    0.1926</td> <td>    0.036</td> <td>    5.418</td> <td> 0.000</td> <td>    0.123</td> <td>    0.262</td>\n",
       "</tr>\n",
       "<tr>\n",
       "  <th>sibs</th>      <td>    0.0065</td> <td>    0.009</td> <td>    0.722</td> <td> 0.470</td> <td>   -0.011</td> <td>    0.024</td>\n",
       "</tr>\n",
       "<tr>\n",
       "  <th>brthord</th>   <td>   -0.0080</td> <td>    0.013</td> <td>   -0.604</td> <td> 0.546</td> <td>   -0.034</td> <td>    0.018</td>\n",
       "</tr>\n",
       "<tr>\n",
       "  <th>meduc</th>     <td>    0.0089</td> <td>    0.007</td> <td>    1.265</td> <td> 0.206</td> <td>   -0.005</td> <td>    0.023</td>\n",
       "</tr>\n",
       "<tr>\n",
       "  <th>feduc</th>     <td>    0.0069</td> <td>    0.006</td> <td>    1.113</td> <td> 0.266</td> <td>   -0.005</td> <td>    0.019</td>\n",
       "</tr>\n",
       "</table>"
      ],
      "text/plain": [
       "<class 'statsmodels.iolib.table.SimpleTable'>"
      ]
     },
     "execution_count": 10,
     "metadata": {},
     "output_type": "execute_result"
    }
   ],
   "source": [
    "model_2 = smf.ols('lhwage ~ educ +' + '+'.join(controls), data=wage).fit()\n",
    "model_2.summary().tables[1]"
   ]
  },
  {
   "cell_type": "markdown",
   "metadata": {},
   "source": [
    "## Viés de Variável Omitida ou Confundimento\n",
    "\n",
    "A questão que permanece é: este parâmetro que estimamos é causal? Infelizmente, não podemos dizer com certeza. Podemos argumentar que o primeiro modelo simples que regrediu o salário sobre a educação provavelmente não é causal. Ele omite variáveis importantes que estão correlacionadas tanto com a educação quanto com os salários. Sem controlar por elas, o impacto estimado da educação também está capturando o impacto dessas outras variáveis que não foram incluídas no modelo.\n",
    "\n",
    "Para entender melhor como esse viés funciona, vamos supor que o modelo verdadeiro de como a educação afeta o salário seja algo assim\n",
    "\n",
    "$\n",
    "Wage_i = \\alpha + \\kappa \\ Educ_i + A_i'\\beta + u_i\n",
    "$\n",
    "\n",
    "o salário é afetado pela educação, que é medida pelo tamanho de $\\kappa$, e por fatores adicionais de habilidade, denotados como o vetor $A$. Se omitirmos a habilidade do nosso modelo, nossa estimativa para $\\kappa$ será assim:\n",
    "\n",
    "$\n",
    "\\dfrac{Cov(Wage_i, Educ_i)}{Var(Educ_i)} = \\kappa + \\beta'\\delta_{Ability}\n",
    "$\n",
    "\n",
    "onde $\\delta_{A}$ é o vetor de coeficientes da regressão de $Educ$ em $A$.\n",
    "\n",
    "O ponto chave aqui é que isso não será exatamente o $\\kappa$ que queremos. Em vez disso, vem com este termo extra irritante $\\beta'\\delta_{A}$. Este termo é o impacto do $A$ omitido no $Wage$, $\\beta$ vezes o impacto do omitido no incluído $Educ$. Isso é importante para os economistas a ponto de Joshua Angrist ter feito um mantra disso, para que os alunos possam recitá-lo em meditação:\n",
    "\n",
    "```\n",
    "\"Curta é igual a longa \n",
    "mais o efeito da omitida \n",
    "vezes a regressão da omitida na incluída\"\n",
    "```\n",
    "\n",
    "Aqui, a regressão curta é aquela que omite variáveis, enquanto a longa é aquela que as inclui. Essa fórmula ou mantra nos dá mais insights sobre a natureza do viés. Primeiro, o termo de viés será zero se as variáveis omitidas não tiverem impacto na variável dependente $Y$. Isso faz total sentido. Não preciso controlar por coisas que são irrelevantes para os salários ao tentar entender o impacto da educação neles (como a altura dos lírios do campo). Em segundo lugar, o termo de viés também será zero se as variáveis omitidas não tiverem impacto na variável de tratamento. Isso também faz sentido intuitivamente. Se tudo o que impacta a educação foi incluído no modelo, não há como o impacto estimado da educação estar misturado com uma correlação da educação em algo mais que também impacta os salários.\n",
    "\n",
    "![img](data/img/linear-regression/confused_cat.png)\n",
    "\n",
    "Para colocar de forma mais sucinta, dizemos que **não há Viés de Variável Omitida (OVB) se todas as variáveis de confundimento forem contabilizadas no modelo**. Também podemos aproveitar nosso conhecimento sobre gráficos causais aqui. Uma variável de confundimento é aquela que **causa tanto o tratamento quanto o resultado**. No exemplo do salário, o QI é um confundidor. Pessoas com QI alto tendem a completar mais anos de educação porque é mais fácil para elas, então podemos dizer que o QI causa a educação. Pessoas com QI alto também tendem a ser naturalmente mais produtivas e, consequentemente, têm salários mais altos, então o QI também causa o salário. Como os confundidores são variáveis que afetam tanto o tratamento quanto o resultado, marcamos eles com uma seta indo para T e Y. Aqui, eu os denotei com $W$. Também marquei a causalidade positiva com vermelho e a causalidade negativa com azul."
   ]
  },
  {
   "cell_type": "code",
   "execution_count": 11,
   "metadata": {},
   "outputs": [
    {
     "data": {
      "image/svg+xml": [
       "<?xml version=\"1.0\" encoding=\"UTF-8\" standalone=\"no\"?>\n",
       "<!DOCTYPE svg PUBLIC \"-//W3C//DTD SVG 1.1//EN\"\n",
       " \"http://www.w3.org/Graphics/SVG/1.1/DTD/svg11.dtd\">\n",
       "<!-- Generated by graphviz version 2.44.1 (20200629.0846)\n",
       " -->\n",
       "<!-- Pages: 1 -->\n",
       "<svg width=\"345pt\" height=\"188pt\"\n",
       " viewBox=\"0.00 0.00 345.25 188.00\" xmlns=\"http://www.w3.org/2000/svg\" xmlns:xlink=\"http://www.w3.org/1999/xlink\">\n",
       "<g id=\"graph0\" class=\"graph\" transform=\"scale(1 1) rotate(0) translate(4 184)\">\n",
       "<polygon fill=\"white\" stroke=\"transparent\" points=\"-4,4 -4,-184 341.25,-184 341.25,4 -4,4\"/>\n",
       "<!-- W -->\n",
       "<g id=\"node1\" class=\"node\">\n",
       "<title>W</title>\n",
       "<ellipse fill=\"none\" stroke=\"black\" cx=\"69\" cy=\"-162\" rx=\"27\" ry=\"18\"/>\n",
       "<text text-anchor=\"middle\" x=\"69\" y=\"-158.3\" font-family=\"Times,serif\" font-size=\"14.00\">W</text>\n",
       "</g>\n",
       "<!-- T -->\n",
       "<g id=\"node2\" class=\"node\">\n",
       "<title>T</title>\n",
       "<ellipse fill=\"none\" stroke=\"black\" cx=\"27\" cy=\"-90\" rx=\"27\" ry=\"18\"/>\n",
       "<text text-anchor=\"middle\" x=\"27\" y=\"-86.3\" font-family=\"Times,serif\" font-size=\"14.00\">T</text>\n",
       "</g>\n",
       "<!-- W&#45;&gt;T -->\n",
       "<g id=\"edge1\" class=\"edge\">\n",
       "<title>W&#45;&gt;T</title>\n",
       "<path fill=\"none\" stroke=\"black\" d=\"M59.47,-145.12C54.33,-136.56 47.88,-125.8 42.08,-116.13\"/>\n",
       "<polygon fill=\"black\" stroke=\"black\" points=\"44.93,-114.08 36.78,-107.31 38.93,-117.68 44.93,-114.08\"/>\n",
       "</g>\n",
       "<!-- Y -->\n",
       "<g id=\"node3\" class=\"node\">\n",
       "<title>Y</title>\n",
       "<ellipse fill=\"none\" stroke=\"black\" cx=\"63\" cy=\"-18\" rx=\"27\" ry=\"18\"/>\n",
       "<text text-anchor=\"middle\" x=\"63\" y=\"-14.3\" font-family=\"Times,serif\" font-size=\"14.00\">Y</text>\n",
       "</g>\n",
       "<!-- W&#45;&gt;Y -->\n",
       "<g id=\"edge2\" class=\"edge\">\n",
       "<title>W&#45;&gt;Y</title>\n",
       "<path fill=\"none\" stroke=\"black\" d=\"M68.28,-143.87C67.25,-119.67 65.38,-75.21 64.16,-46.39\"/>\n",
       "<polygon fill=\"black\" stroke=\"black\" points=\"67.65,-46.03 63.73,-36.19 60.65,-46.33 67.65,-46.03\"/>\n",
       "</g>\n",
       "<!-- T&#45;&gt;Y -->\n",
       "<g id=\"edge3\" class=\"edge\">\n",
       "<title>T&#45;&gt;Y</title>\n",
       "<path fill=\"none\" stroke=\"black\" d=\"M35.35,-72.76C39.71,-64.28 45.15,-53.71 50.04,-44.2\"/>\n",
       "<polygon fill=\"black\" stroke=\"black\" points=\"53.23,-45.64 54.7,-35.15 47.01,-42.44 53.23,-45.64\"/>\n",
       "</g>\n",
       "<!-- IQ -->\n",
       "<g id=\"node4\" class=\"node\">\n",
       "<title>IQ</title>\n",
       "<ellipse fill=\"none\" stroke=\"black\" cx=\"161\" cy=\"-162\" rx=\"27\" ry=\"18\"/>\n",
       "<text text-anchor=\"middle\" x=\"161\" y=\"-158.3\" font-family=\"Times,serif\" font-size=\"14.00\">IQ</text>\n",
       "</g>\n",
       "<!-- Educ -->\n",
       "<g id=\"node5\" class=\"node\">\n",
       "<title>Educ</title>\n",
       "<ellipse fill=\"none\" stroke=\"black\" cx=\"148\" cy=\"-90\" rx=\"28.7\" ry=\"18\"/>\n",
       "<text text-anchor=\"middle\" x=\"148\" y=\"-86.3\" font-family=\"Times,serif\" font-size=\"14.00\">Educ</text>\n",
       "</g>\n",
       "<!-- IQ&#45;&gt;Educ -->\n",
       "<g id=\"edge4\" class=\"edge\">\n",
       "<title>IQ&#45;&gt;Educ</title>\n",
       "<path fill=\"none\" stroke=\"red\" d=\"M157.85,-144.05C156.42,-136.35 154.69,-127.03 153.08,-118.36\"/>\n",
       "<polygon fill=\"red\" stroke=\"red\" points=\"156.48,-117.47 151.21,-108.28 149.59,-118.75 156.48,-117.47\"/>\n",
       "</g>\n",
       "<!-- Wage -->\n",
       "<g id=\"node6\" class=\"node\">\n",
       "<title>Wage</title>\n",
       "<ellipse fill=\"none\" stroke=\"black\" cx=\"161\" cy=\"-18\" rx=\"31.4\" ry=\"18\"/>\n",
       "<text text-anchor=\"middle\" x=\"161\" y=\"-14.3\" font-family=\"Times,serif\" font-size=\"14.00\">Wage</text>\n",
       "</g>\n",
       "<!-- IQ&#45;&gt;Wage -->\n",
       "<g id=\"edge5\" class=\"edge\">\n",
       "<title>IQ&#45;&gt;Wage</title>\n",
       "<path fill=\"none\" stroke=\"red\" d=\"M170.85,-144.97C176.51,-134.79 183.06,-121.1 186,-108 189.5,-92.39 189.5,-87.61 186,-72 183.9,-62.62 179.95,-52.95 175.79,-44.48\"/>\n",
       "<polygon fill=\"red\" stroke=\"red\" points=\"178.84,-42.74 171.11,-35.5 172.63,-45.98 178.84,-42.74\"/>\n",
       "</g>\n",
       "<!-- Educ&#45;&gt;Wage -->\n",
       "<g id=\"edge6\" class=\"edge\">\n",
       "<title>Educ&#45;&gt;Wage</title>\n",
       "<path fill=\"none\" stroke=\"red\" d=\"M151.15,-72.05C152.58,-64.35 154.31,-55.03 155.92,-46.36\"/>\n",
       "<polygon fill=\"red\" stroke=\"red\" points=\"159.41,-46.75 157.79,-36.28 152.52,-45.47 159.41,-46.75\"/>\n",
       "</g>\n",
       "<!-- Crime -->\n",
       "<g id=\"node7\" class=\"node\">\n",
       "<title>Crime</title>\n",
       "<ellipse fill=\"none\" stroke=\"black\" cx=\"295\" cy=\"-162\" rx=\"33.29\" ry=\"18\"/>\n",
       "<text text-anchor=\"middle\" x=\"295\" y=\"-158.3\" font-family=\"Times,serif\" font-size=\"14.00\">Crime</text>\n",
       "</g>\n",
       "<!-- Police -->\n",
       "<g id=\"node8\" class=\"node\">\n",
       "<title>Police</title>\n",
       "<ellipse fill=\"none\" stroke=\"black\" cx=\"265\" cy=\"-90\" rx=\"32.49\" ry=\"18\"/>\n",
       "<text text-anchor=\"middle\" x=\"265\" y=\"-86.3\" font-family=\"Times,serif\" font-size=\"14.00\">Police</text>\n",
       "</g>\n",
       "<!-- Crime&#45;&gt;Police -->\n",
       "<g id=\"edge7\" class=\"edge\">\n",
       "<title>Crime&#45;&gt;Police</title>\n",
       "<path fill=\"none\" stroke=\"red\" d=\"M287.89,-144.41C284.43,-136.34 280.18,-126.43 276.29,-117.35\"/>\n",
       "<polygon fill=\"red\" stroke=\"red\" points=\"279.42,-115.77 272.27,-107.96 272.99,-118.53 279.42,-115.77\"/>\n",
       "</g>\n",
       "<!-- Violence -->\n",
       "<g id=\"node9\" class=\"node\">\n",
       "<title>Violence</title>\n",
       "<ellipse fill=\"none\" stroke=\"black\" cx=\"295\" cy=\"-18\" rx=\"42.49\" ry=\"18\"/>\n",
       "<text text-anchor=\"middle\" x=\"295\" y=\"-14.3\" font-family=\"Times,serif\" font-size=\"14.00\">Violence</text>\n",
       "</g>\n",
       "<!-- Crime&#45;&gt;Violence -->\n",
       "<g id=\"edge8\" class=\"edge\">\n",
       "<title>Crime&#45;&gt;Violence</title>\n",
       "<path fill=\"none\" stroke=\"red\" d=\"M299.46,-143.95C301.94,-133.63 304.75,-120.15 306,-108 307.63,-92.08 307.63,-87.92 306,-72 305.12,-63.46 303.47,-54.26 301.71,-45.96\"/>\n",
       "<polygon fill=\"red\" stroke=\"red\" points=\"305.08,-45.03 299.46,-36.05 298.26,-46.57 305.08,-45.03\"/>\n",
       "</g>\n",
       "<!-- Police&#45;&gt;Violence -->\n",
       "<g id=\"edge9\" class=\"edge\">\n",
       "<title>Police&#45;&gt;Violence</title>\n",
       "<path fill=\"none\" stroke=\"blue\" d=\"M272.11,-72.41C275.57,-64.34 279.82,-54.43 283.71,-45.35\"/>\n",
       "<polygon fill=\"blue\" stroke=\"blue\" points=\"287.01,-46.53 287.73,-35.96 280.58,-43.77 287.01,-46.53\"/>\n",
       "</g>\n",
       "</g>\n",
       "</svg>\n"
      ],
      "text/plain": [
       "<graphviz.dot.Digraph at 0x1376f1da0>"
      ]
     },
     "execution_count": 11,
     "metadata": {},
     "output_type": "execute_result"
    }
   ],
   "source": [
    "g = gr.Digraph()\n",
    "\n",
    "g.edge(\"W\", \"T\"), g.edge(\"W\", \"Y\"), g.edge(\"T\", \"Y\")\n",
    "\n",
    "g.edge(\"IQ\", \"Educ\", color=\"red\"), g.edge(\"IQ\", \"Wage\", color=\"red\"), g.edge(\"Educ\", \"Wage\", color=\"red\")\n",
    "\n",
    "g.edge(\"Crime\", \"Police\", color=\"red\"), g.edge(\"Crime\", \"Violence\", color=\"red\"), \n",
    "g.edge(\"Police\", \"Violence\", color=\"blue\")\n",
    "\n",
    "g"
   ]
  },
  {
   "cell_type": "markdown",
   "metadata": {},
   "source": [
    "Gráficos causais são excelentes para representar nossa compreensão do mundo e entender como o viés de confundimento funciona. Em nosso primeiro exemplo, temos um gráfico onde a educação causa o salário: mais educação leva a salários mais altos. No entanto, o QI também causa o salário e também causa a educação: um QI alto causa tanto mais educação quanto um salário mais alto. Se não considerarmos o QI em nosso modelo, parte de seu efeito sobre o salário fluirá através da correlação com a educação. Isso fará com que o impacto da educação pareça maior do que realmente é. Este é um exemplo de viés positivo.\n",
    "\n",
    "Apenas para dar outro exemplo, mas com viés negativo, considere o gráfico causal sobre o efeito da polícia na violência na cidade. O que normalmente vemos no mundo é que cidades com força policial maior também têm mais violência. Isso significa que a polícia está causando a violência? Bem, pode ser, não acho que seja relevante entrar nessa discussão aqui. Mas há também uma forte possibilidade de que haja uma variável de confundimento nos fazendo ver uma versão tendenciosa do impacto da polícia na violência. Pode ser que aumentar a força policial diminua a violência. No entanto, uma terceira variável, o crime, causa tanto mais violência quanto mais força policial. Se não a considerarmos, o impacto do crime na violência fluirá através da força policial, fazendo parecer que ela aumenta a violência. Este é um exemplo de viés negativo.\n",
    "\n",
    "Os gráficos causais também podem nos mostrar como tanto a regressão quanto os ensaios controlados randomizados são corretos para o viés de confundimento. Os ensaios controlados randomizados fazem isso ao romper a conexão do confundidor com a variável de tratamento. Ao tornar $T$ aleatório, por definição, nada pode causá-lo."
   ]
  },
  {
   "cell_type": "code",
   "execution_count": 12,
   "metadata": {},
   "outputs": [
    {
     "data": {
      "image/svg+xml": [
       "<?xml version=\"1.0\" encoding=\"UTF-8\" standalone=\"no\"?>\n",
       "<!DOCTYPE svg PUBLIC \"-//W3C//DTD SVG 1.1//EN\"\n",
       " \"http://www.w3.org/Graphics/SVG/1.1/DTD/svg11.dtd\">\n",
       "<!-- Generated by graphviz version 2.44.1 (20200629.0846)\n",
       " -->\n",
       "<!-- Pages: 1 -->\n",
       "<svg width=\"284pt\" height=\"116pt\"\n",
       " viewBox=\"0.00 0.00 283.60 116.00\" xmlns=\"http://www.w3.org/2000/svg\" xmlns:xlink=\"http://www.w3.org/1999/xlink\">\n",
       "<g id=\"graph0\" class=\"graph\" transform=\"scale(1 1) rotate(0) translate(4 112)\">\n",
       "<polygon fill=\"white\" stroke=\"transparent\" points=\"-4,4 -4,-112 279.6,-112 279.6,4 -4,4\"/>\n",
       "<!-- W -->\n",
       "<g id=\"node1\" class=\"node\">\n",
       "<title>W</title>\n",
       "<ellipse fill=\"none\" stroke=\"black\" cx=\"27\" cy=\"-90\" rx=\"27\" ry=\"18\"/>\n",
       "<text text-anchor=\"middle\" x=\"27\" y=\"-86.3\" font-family=\"Times,serif\" font-size=\"14.00\">W</text>\n",
       "</g>\n",
       "<!-- Y -->\n",
       "<g id=\"node2\" class=\"node\">\n",
       "<title>Y</title>\n",
       "<ellipse fill=\"none\" stroke=\"black\" cx=\"80\" cy=\"-18\" rx=\"27\" ry=\"18\"/>\n",
       "<text text-anchor=\"middle\" x=\"80\" y=\"-14.3\" font-family=\"Times,serif\" font-size=\"14.00\">Y</text>\n",
       "</g>\n",
       "<!-- W&#45;&gt;Y -->\n",
       "<g id=\"edge1\" class=\"edge\">\n",
       "<title>W&#45;&gt;Y</title>\n",
       "<path fill=\"none\" stroke=\"black\" d=\"M38.76,-73.46C45.62,-64.4 54.42,-52.79 62.12,-42.61\"/>\n",
       "<polygon fill=\"black\" stroke=\"black\" points=\"65.02,-44.58 68.27,-34.49 59.44,-40.35 65.02,-44.58\"/>\n",
       "</g>\n",
       "<!-- T -->\n",
       "<g id=\"node3\" class=\"node\">\n",
       "<title>T</title>\n",
       "<ellipse fill=\"none\" stroke=\"black\" cx=\"99\" cy=\"-90\" rx=\"27\" ry=\"18\"/>\n",
       "<text text-anchor=\"middle\" x=\"99\" y=\"-86.3\" font-family=\"Times,serif\" font-size=\"14.00\">T</text>\n",
       "</g>\n",
       "<!-- T&#45;&gt;Y -->\n",
       "<g id=\"edge2\" class=\"edge\">\n",
       "<title>T&#45;&gt;Y</title>\n",
       "<path fill=\"none\" stroke=\"black\" d=\"M94.4,-72.05C92.25,-64.14 89.65,-54.54 87.24,-45.69\"/>\n",
       "<polygon fill=\"black\" stroke=\"black\" points=\"90.55,-44.52 84.56,-35.79 83.8,-46.36 90.55,-44.52\"/>\n",
       "</g>\n",
       "<!-- IQ -->\n",
       "<g id=\"node4\" class=\"node\">\n",
       "<title>IQ</title>\n",
       "<ellipse fill=\"none\" stroke=\"black\" cx=\"173\" cy=\"-90\" rx=\"27\" ry=\"18\"/>\n",
       "<text text-anchor=\"middle\" x=\"173\" y=\"-86.3\" font-family=\"Times,serif\" font-size=\"14.00\">IQ</text>\n",
       "</g>\n",
       "<!-- Wage -->\n",
       "<g id=\"node5\" class=\"node\">\n",
       "<title>Wage</title>\n",
       "<ellipse fill=\"none\" stroke=\"black\" cx=\"191\" cy=\"-18\" rx=\"31.4\" ry=\"18\"/>\n",
       "<text text-anchor=\"middle\" x=\"191\" y=\"-14.3\" font-family=\"Times,serif\" font-size=\"14.00\">Wage</text>\n",
       "</g>\n",
       "<!-- IQ&#45;&gt;Wage -->\n",
       "<g id=\"edge3\" class=\"edge\">\n",
       "<title>IQ&#45;&gt;Wage</title>\n",
       "<path fill=\"none\" stroke=\"red\" d=\"M177.36,-72.05C179.36,-64.26 181.79,-54.82 184.04,-46.08\"/>\n",
       "<polygon fill=\"red\" stroke=\"red\" points=\"187.46,-46.83 186.56,-36.28 180.68,-45.09 187.46,-46.83\"/>\n",
       "</g>\n",
       "<!-- Educ -->\n",
       "<g id=\"node6\" class=\"node\">\n",
       "<title>Educ</title>\n",
       "<ellipse fill=\"none\" stroke=\"black\" cx=\"247\" cy=\"-90\" rx=\"28.7\" ry=\"18\"/>\n",
       "<text text-anchor=\"middle\" x=\"247\" y=\"-86.3\" font-family=\"Times,serif\" font-size=\"14.00\">Educ</text>\n",
       "</g>\n",
       "<!-- Educ&#45;&gt;Wage -->\n",
       "<g id=\"edge4\" class=\"edge\">\n",
       "<title>Educ&#45;&gt;Wage</title>\n",
       "<path fill=\"none\" stroke=\"red\" d=\"M234.57,-73.46C227.42,-64.53 218.29,-53.11 210.23,-43.04\"/>\n",
       "<polygon fill=\"red\" stroke=\"red\" points=\"212.76,-40.6 203.78,-34.98 207.3,-44.97 212.76,-40.6\"/>\n",
       "</g>\n",
       "</g>\n",
       "</svg>\n"
      ],
      "text/plain": [
       "<graphviz.dot.Digraph at 0x13919eb00>"
      ]
     },
     "execution_count": 12,
     "metadata": {},
     "output_type": "execute_result"
    }
   ],
   "source": [
    "g = gr.Digraph()\n",
    "\n",
    "g.edge(\"W\", \"Y\"), g.edge(\"T\", \"Y\")\n",
    "\n",
    "g.edge(\"IQ\", \"Wage\", color=\"red\"), g.edge(\"Educ\", \"Wage\", color=\"red\")\n",
    "\n",
    "g"
   ]
  },
  {
   "cell_type": "markdown",
   "metadata": {},
   "source": [
    "Por outro lado, a regressão faz isso comparando o efeito de $T$ enquanto mantém o confundidor $W$ fixado em um nível constante. Com a regressão, não é o caso de que W deixe de causar T e Y. É apenas que ele é mantido constante, para que não possa influenciar as mudanças em T e Y."
   ]
  },
  {
   "cell_type": "code",
   "execution_count": 13,
   "metadata": {},
   "outputs": [
    {
     "data": {
      "image/svg+xml": [
       "<?xml version=\"1.0\" encoding=\"UTF-8\" standalone=\"no\"?>\n",
       "<!DOCTYPE svg PUBLIC \"-//W3C//DTD SVG 1.1//EN\"\n",
       " \"http://www.w3.org/Graphics/SVG/1.1/DTD/svg11.dtd\">\n",
       "<!-- Generated by graphviz version 2.44.1 (20200629.0846)\n",
       " -->\n",
       "<!-- Pages: 1 -->\n",
       "<svg width=\"297pt\" height=\"116pt\"\n",
       " viewBox=\"0.00 0.00 297.39 116.00\" xmlns=\"http://www.w3.org/2000/svg\" xmlns:xlink=\"http://www.w3.org/1999/xlink\">\n",
       "<g id=\"graph0\" class=\"graph\" transform=\"scale(1 1) rotate(0) translate(4 112)\">\n",
       "<polygon fill=\"white\" stroke=\"transparent\" points=\"-4,4 -4,-112 293.39,-112 293.39,4 -4,4\"/>\n",
       "<!-- W=w -->\n",
       "<g id=\"node1\" class=\"node\">\n",
       "<title>W=w</title>\n",
       "<ellipse fill=\"none\" stroke=\"black\" cx=\"31.2\" cy=\"-90\" rx=\"31.4\" ry=\"18\"/>\n",
       "<text text-anchor=\"middle\" x=\"31.2\" y=\"-86.3\" font-family=\"Times,serif\" font-size=\"14.00\">W=w</text>\n",
       "</g>\n",
       "<!-- T -->\n",
       "<g id=\"node2\" class=\"node\">\n",
       "<title>T</title>\n",
       "<ellipse fill=\"none\" stroke=\"black\" cx=\"107.2\" cy=\"-90\" rx=\"27\" ry=\"18\"/>\n",
       "<text text-anchor=\"middle\" x=\"107.2\" y=\"-86.3\" font-family=\"Times,serif\" font-size=\"14.00\">T</text>\n",
       "</g>\n",
       "<!-- Y -->\n",
       "<g id=\"node3\" class=\"node\">\n",
       "<title>Y</title>\n",
       "<ellipse fill=\"none\" stroke=\"black\" cx=\"107.2\" cy=\"-18\" rx=\"27\" ry=\"18\"/>\n",
       "<text text-anchor=\"middle\" x=\"107.2\" y=\"-14.3\" font-family=\"Times,serif\" font-size=\"14.00\">Y</text>\n",
       "</g>\n",
       "<!-- T&#45;&gt;Y -->\n",
       "<g id=\"edge1\" class=\"edge\">\n",
       "<title>T&#45;&gt;Y</title>\n",
       "<path fill=\"none\" stroke=\"black\" d=\"M107.2,-71.7C107.2,-63.98 107.2,-54.71 107.2,-46.11\"/>\n",
       "<polygon fill=\"black\" stroke=\"black\" points=\"110.7,-46.1 107.2,-36.1 103.7,-46.1 110.7,-46.1\"/>\n",
       "</g>\n",
       "<!-- IQ=x -->\n",
       "<g id=\"node4\" class=\"node\">\n",
       "<title>IQ=x</title>\n",
       "<ellipse fill=\"none\" stroke=\"black\" cx=\"182.2\" cy=\"-90\" rx=\"29.8\" ry=\"18\"/>\n",
       "<text text-anchor=\"middle\" x=\"182.2\" y=\"-86.3\" font-family=\"Times,serif\" font-size=\"14.00\">IQ=x</text>\n",
       "</g>\n",
       "<!-- Educ -->\n",
       "<g id=\"node5\" class=\"node\">\n",
       "<title>Educ</title>\n",
       "<ellipse fill=\"none\" stroke=\"black\" cx=\"258.2\" cy=\"-90\" rx=\"28.7\" ry=\"18\"/>\n",
       "<text text-anchor=\"middle\" x=\"258.2\" y=\"-86.3\" font-family=\"Times,serif\" font-size=\"14.00\">Educ</text>\n",
       "</g>\n",
       "<!-- Wage -->\n",
       "<g id=\"node6\" class=\"node\">\n",
       "<title>Wage</title>\n",
       "<ellipse fill=\"none\" stroke=\"black\" cx=\"258.2\" cy=\"-18\" rx=\"31.4\" ry=\"18\"/>\n",
       "<text text-anchor=\"middle\" x=\"258.2\" y=\"-14.3\" font-family=\"Times,serif\" font-size=\"14.00\">Wage</text>\n",
       "</g>\n",
       "<!-- Educ&#45;&gt;Wage -->\n",
       "<g id=\"edge2\" class=\"edge\">\n",
       "<title>Educ&#45;&gt;Wage</title>\n",
       "<path fill=\"none\" stroke=\"red\" d=\"M258.2,-71.7C258.2,-63.98 258.2,-54.71 258.2,-46.11\"/>\n",
       "<polygon fill=\"red\" stroke=\"red\" points=\"261.7,-46.1 258.2,-36.1 254.7,-46.1 261.7,-46.1\"/>\n",
       "</g>\n",
       "</g>\n",
       "</svg>\n"
      ],
      "text/plain": [
       "<graphviz.dot.Digraph at 0x1391ad128>"
      ]
     },
     "execution_count": 13,
     "metadata": {},
     "output_type": "execute_result"
    }
   ],
   "source": [
    "g = gr.Digraph()\n",
    "\n",
    "g.node(\"W=w\"), g.edge(\"T\", \"Y\")\n",
    "g.node(\"IQ=x\"), g.edge(\"Educ\", \"Wage\", color=\"red\")\n",
    "\n",
    "g"
   ]
  },
  {
   "cell_type": "markdown",
   "metadata": {},
   "source": [
    "Agora, voltando à nossa pergunta, o parâmetro que estimamos para o impacto de \"educ\" no salário é causal? Sinto muito, mas isso dependerá de nossa capacidade de argumentar a favor ou contra o fato de que todos os confundidores foram incluídos no modelo. Pessoalmente, acredito que não foram. Por exemplo, não incluímos a riqueza familiar. Mesmo que tenhamos incluído a educação da família, isso só pode ser visto como um proxy para a riqueza. Também não consideramos fatores como ambição pessoal. Pode ser que a ambição seja o que causa tanto mais anos de educação quanto um salário mais alto, então ela é um confundidor. Isso é para mostrar que **a inferência causal com dados não aleatórios ou observacionais deve sempre ser feita com precaução**. Nunca podemos ter certeza de que todos os confundidores foram considerados.\n",
    "\n",
    "\n",
    "## Conceitos-chave\n",
    "\n",
    "Nós cobrimos muito terreno com a regressão. Vimos como a regressão pode ser usada para realizar testes A/B e como convenientemente nos fornece intervalos de confiança. Em seguida, estudamos como a regressão resolve um problema de previsão e é a melhor aproximação linear para a função de expectativa condicional (FEC). Também discutimos como, no caso bivariado, o coeficiente de tratamento da regressão é a covariância entre o tratamento e o resultado dividido pela variância do tratamento. Expandindo para o caso multivariado, descobrimos como a regressão nos dá uma interpretação de isolamento parcial do coeficiente de tratamento: ele pode ser interpretado como a forma como o resultado mudaria com o tratamento, mantendo todas as outras variáveis incluídas constantes. Isso é o que os economistas adoram se referir como *ceteris paribus*.\n",
    "\n",
    "Por fim, fizemos uma virada para entender o viés. Vimos como `Curta igual a longa mais o efeito da omitida vezes a regressão da omitida na incluída`. Isso lançou alguma luz sobre como o viés surge. Descobrimos que a fonte do viés de variável omitida é o confundimento: uma variável que afeta tanto o tratamento quanto o resultado. Por fim, usamos gráficos causais para ver como RCT e regressão corrigem o confundimento.\n",
    "\n",
    "## Referências\n",
    "\n",
    "Gosto de pensar nesta série inteira como uma homenagem a Joshua Angrist, Alberto Abadie e Christopher Walters por sua incrível aula de Econometria. A maioria das ideias aqui foram tiradas de suas aulas na *American Economic Association*. Assisti-las é o que está me mantendo são durante este difícil ano de 2020.\n",
    "* [Cross-Section Econometrics](https://www.aeaweb.org/conference/cont-ed/2017-webcasts)\n",
    "* [Mastering Mostly Harmless Econometrics](https://www.aeaweb.org/conference/cont-ed/2020-webcasts)\n",
    "\n",
    "Também gostaria de referenciar os livros incríveis de Angrist. Eles me mostraram que Econometria, ou 'Métricas, como eles chamam, não é apenas extremamente útil, mas também profundamente divertida.\n",
    "\n",
    "* [Mostly Harmless Econometrics](https://www.mostlyharmlesseconometrics.com/)\n",
    "* [Mastering 'Metrics](https://www.masteringmetrics.com/)\n",
    "\n",
    "Finalmente, gostaria de referenciar o livro de Miguel Hernan e Jamie Robins. Tem sido meu fiel companheiro nas questões mais espinhosas de inferência causal que tive que responder.\n",
    "\n",
    "* [Causal Inference Book](https://www.hsph.harvard.edu/miguel-hernan/causal-inference-book/)\n",
    "\n",
    "![img](./data/img/poetry.png)\n",
    "\n",
    "## Contribua\n",
    "\n",
    "\"Inferência Causal para os Corajosos e Verdadeiros\" é um material de código aberto sobre inferência causal, a estatística da ciência. Seu objetivo é ser acessível monetariamente e intelectualmente. Ele utiliza apenas software gratuito baseado em Python.\n",
    "Se você encontrou valor neste livro e deseja apoiá-lo, por favor, vá para o [Patreon](https://www.patreon.com/causal_inference_for_the_brave_and_true). Se você não estiver pronto para contribuir financeiramente, também pode ajudar corrigindo erros, sugerindo edições ou dando feedback sobre trechos que não compreendeu. Acesse o repositório do livro e abra uma issue na [versão em inglês](https://github.com/matheusfacure/python-causality-handbook/issues) ou na [versão em português](https://github.com/rdemarqui/python-causality-handbook-ptbr/issues). Por fim, se você gostou deste conteúdo, compartilhe com outras pessoas que possam achar útil e dê uma estrela no GitHub na [versão em inglês](https://github.com/matheusfacure/python-causality-handbook/stargazers) e na [versão em português](https://github.com/rdemarqui/python-causality-handbook-ptbr/stargazers)."
   ]
  },
  {
   "cell_type": "markdown",
   "metadata": {},
   "source": [
    "---"
   ]
  },
  {
   "cell_type": "markdown",
   "metadata": {},
   "source": [
    "<em> <b>Nota de Tradução: </b>[Variáveis dummy](https://pt.wikipedia.org/wiki/Vari%C3%A1vel_dummy_(estat%C3%ADstica)), também chamadas de fictícias, são variáveis criadas para representar uma variável com duas ou mais categorias. Esse conceito será mais explorado no próximo capitulo. </em>"
   ]
  },
  {
   "cell_type": "markdown",
   "metadata": {},
   "source": [
    "<div align=\"center\">\n",
    "<a href=\"04-Graphical-Causal-Models.ipynb\"><-- Anterior</a>  \n",
    "<a href=\"00-Summary.ipynb\">| Sumário |</a>  \n",
    "<a href=\"06-Grouped-and-Dummy-Regression.ipynb\">Próximo --></a>  \n",
    "</div>"
   ]
  }
 ],
 "metadata": {
  "celltoolbar": "Tags",
  "kernelspec": {
   "display_name": "causal-glory",
   "language": "python",
   "name": "causal-glory"
  },
  "language_info": {
   "codemirror_mode": {
    "name": "ipython",
    "version": 3
   },
   "file_extension": ".py",
   "mimetype": "text/x-python",
   "name": "python",
   "nbconvert_exporter": "python",
   "pygments_lexer": "ipython3",
   "version": "3.9.7"
  }
 },
 "nbformat": 4,
 "nbformat_minor": 2
}
