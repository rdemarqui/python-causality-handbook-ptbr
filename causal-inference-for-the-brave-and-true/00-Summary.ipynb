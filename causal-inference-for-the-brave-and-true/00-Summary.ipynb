{
  "nbformat": 4,
  "nbformat_minor": 0,
  "metadata": {
    "colab": {
      "provenance": []
    },
    "kernelspec": {
      "name": "python3",
      "display_name": "Python 3"
    },
    "language_info": {
      "name": "python"
    }
  },
  "cells": [
    {
      "cell_type": "markdown",
      "source": [
        "# Inferência Causal para os Corajosos e Verdadeiros"
      ],
      "metadata": {
        "id": "MydAsTu-1Mtp"
      }
    },
    {
      "cell_type": "markdown",
      "source": [
        "## Sumário"
      ],
      "metadata": {
        "id": "YzH4k_Ze1PcG"
      }
    },
    {
      "cell_type": "markdown",
      "source": [
        "### PART I - THE YANG\n",
        "\n",
        "[01 - Introduction To Causality](01-Introduction-To-Causality.ipynb)\n",
        "\n",
        "[02 - Randomised Experiments](02-Randomised-Experiments.ipynb)\n",
        "\n",
        "[03 - Stats Review: The Most Dangerous Equation](03-Stats-Review-The-Most-Dangerous-Equation.ipynb)\n",
        "\n",
        "[04 - Graphical Causal Models](04-Graphical-Causal-Models.ipynb)\n",
        "\n",
        "[05 - The Unreasonable Effectiveness of Linear Regression](05-The-Unreasonable-Effectiveness-of-Linear-Regression.ipynb)\n",
        "\n",
        "[06 - Grouped and Dummy Regression](06-Grouped-and-Dummy-Regression.ipynb)\n",
        "\n",
        "[07 - Beyond Confounders](07-Beyond-Confounders.ipynb)\n",
        "\n",
        "[08 - Instrumental Variables](08-Instrumental-Variables.ipynb)\n",
        "\n",
        "[09 - Non Compliance and LATE](09-Non-Compliance-and-LATE.ipynb)\n",
        "\n",
        "[10 - Matching](10-Matching.ipynb)\n",
        "\n",
        "[11 - Propensity Score](11-Propensity-Score.ipynb)\n",
        "\n",
        "[12 - Doubly Robust Estimation](12-Doubly-Robust-Estimation.ipynb)\n",
        "\n",
        "[13 - Difference-in-Differences](12-Doubly-Robust-Estimation.ipynb)\n",
        "\n",
        "[14 - Panel Data and Fixed Effects](14-Panel-Data-and-Fixed-Effects.ipynb)\n",
        "\n",
        "[15 - Synthetic Control](15-Synthetic-Control.ipynb)\n",
        "\n",
        "[16 - Regression Discontinuity Design](16-Regression-Discontinuity-Design.ipynb)"
      ],
      "metadata": {
        "id": "Z02J39-R2lp0"
      }
    },
    {
      "cell_type": "markdown",
      "source": [
        "### PART II - THE YIN\n",
        "[17 - Predictive Models 101](17-Predictive-Models-101.ipynb)\n",
        "\n",
        "[18 - Heterogeneous Treatment Effects and Personalization](18-Heterogeneous-Treatment-Effects-and-Personalization.ipynb)\n",
        "\n",
        "[19 - Evaluating Causal Models](19-Evaluating-Causal-Models.ipynb)\n",
        "\n",
        "[20 - Plug-and-Play Estimators](20-Plug-and-Play-Estimators.ipynb)\n",
        "\n",
        "[21 - Meta Learners](21-Meta-Learners.ipynb)\n",
        "\n",
        "[22 - Debiased/Orthogonal Machine Learning](22-Debiased-Orthogonal-Machine-Learning.ipynb)\n",
        "\n",
        "[23 - Challenges with Effect Heterogeneity and Nonlinearity](23-Challenges-with-Effect-Heterogeneity-and-Nonlinearity.ipynb)\n",
        "\n",
        "[24 - The Difference-in-Differences Saga](24-The-Diff-in-Diff-Saga.ipynb)\n",
        "\n",
        "[25 - Synthetic Difference-in-Differences](25-Synthetic-Diff-in-Diff.ipynb)"
      ],
      "metadata": {
        "id": "xhnN9jaa1Pi9"
      }
    },
    {
      "cell_type": "markdown",
      "source": [
        "### APPENDIX\n",
        "[Debiasing with Orthogonalization](Debiasing-with-Orthogonalization.ipynb)\n",
        "\n",
        "[Debiasing with Propensity Score](Debiasing-with-Propensity-Score.ipynb)\n",
        "\n",
        "[When Prediction Fails](When-Prediction-Fails.ipynb)\n",
        "\n",
        "[Why Prediction Metrics are Dangerous For Causal Models](Prediction-Metrics-For-Causal-Models.ipynb)\n",
        "\n",
        "[Conformal Inference for Synthetic Controls](Conformal-Inference-for-Synthetic-Control.ipynb)"
      ],
      "metadata": {
        "id": "_F27xiZB3m8M"
      }
    },
    {
      "cell_type": "markdown",
      "source": [
        "### CONTRIBUTE\n",
        "[Patreon](https://www.patreon.com/causal_inference_for_the_brave_and_true)"
      ],
      "metadata": {
        "id": "8PzDrrSV3m_S"
      }
    },
    {
      "cell_type": "markdown",
      "source": [
        "---"
      ],
      "metadata": {
        "id": "bmPxXyqn4Xps"
      }
    }
  ]
}
