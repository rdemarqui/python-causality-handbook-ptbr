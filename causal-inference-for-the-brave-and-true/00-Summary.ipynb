{
  "cells": [
    {
      "cell_type": "markdown",
      "metadata": {
        "id": "MydAsTu-1Mtp"
      },
      "source": [
        "# Inferência Causal para os Corajosos e Verdadeiros"
      ]
    },
    {
      "cell_type": "markdown",
      "metadata": {},
      "source": [
        "![img](./data/img/brave-and-true.png)"
      ]
    },
    {
      "cell_type": "markdown",
      "metadata": {},
      "source": [
        "Uma abordagem leve, mas rigorosa, para aprender estimativa de impacto e análise de sensibilidade. Tudo em Python e com tantos memes quanto consegui encontrar.\n",
        "\n",
        "Parte I do livro contém conceitos centrais e modelos para inferência causal. Você aprenderá a representar perguntas causais com a notação de resultado potencial, aprender sobre gráficos causais, o que é viés e como lidar com ele. A maior parte do conteúdo aqui é bem estabelecida. É um amalgama de materiais que encontrei em livros, currículos universitários e cursos online. Você pode pensar na Parte I como a fundação sólida e segura para suas investigações causais.\n",
        "\n",
        "Parte II (em desenvolvimento) contém desenvolvimentos modernos e aplicações da inferência causal na indústria (principalmente tecnológica). Enquanto a Parte I foca principalmente em identificar efeitos médios de tratamento, a Parte II faz uma mudança para personalização e estimativa de efeitos heterogêneos com modelos CATE. A maior parte do que está escrito ali foi tirada da minha experiência pessoal e de forma alguma é uma ciência bem estabelecida. É muito mais experimental e sujeito a mudanças, afinal, eu também estou aprendendo."
      ]
    },
    {
      "cell_type": "markdown",
      "metadata": {
        "id": "YzH4k_Ze1PcG"
      },
      "source": [
        "## Sumário"
      ]
    },
    {
      "cell_type": "markdown",
      "metadata": {
        "id": "Z02J39-R2lp0"
      },
      "source": [
        "### PARTE I - O YANG\n",
        "\n",
        "[01 - Introdução à Causalidade](01-Introduction-To-Causality.ipynb)\n",
        "\n",
        "[02 - Experimentos Randomizados](02-Randomised-Experiments.ipynb)\n",
        "\n",
        "[03 - Revisão Estatística: A Equação Mais Perigosa](03-Stats-Review-The-Most-Dangerous-Equation.ipynb)\n",
        "\n",
        "[04 - Modelos Causais Gráficos](04-Graphical-Causal-Models.ipynb)\n",
        "\n",
        "[05 - A Eficácia Surpreendente da Regressão Linear](05-The-Unreasonable-Effectiveness-of-Linear-Regression.ipynb)\n",
        "\n",
        "[06 - Regressão Agrupada e Dummy](06-Grouped-and-Dummy-Regression.ipynb)\n",
        "\n",
        "[07 - Além dos Confundidores](07-Beyond-Confounders.ipynb)\n",
        "\n",
        "[08 - Variáveis Instrumentais](08-Instrumental-Variables.ipynb)\n",
        "\n",
        "[09 - Não Conformidade e LATE](09-Non-Compliance-and-LATE.ipynb)\n",
        "\n",
        "[10 - Emparelhamento](10-Matching.ipynb)\n",
        "\n",
        "[11 - Escore de Propensão](11-Propensity-Score.ipynb)\n",
        "\n",
        "[12 - Estimação Duplamente Robusta](12-Doubly-Robust-Estimation.ipynb)\n",
        "\n",
        "[13 - Diferença nas Diferenças](12-Doubly-Robust-Estimation.ipynb)\n",
        "\n",
        "[14 - Dados em Painel e Efeitos Fixos](14-Panel-Data-and-Fixed-Effects.ipynb)\n",
        "\n",
        "[15 - Controle Sintético](15-Synthetic-Control.ipynb)\n",
        "\n",
        "[16 - Desenho de Descontinuidade na Regressão](16-Regression-Discontinuity-Design.ipynb)"
      ]
    },
    {
      "cell_type": "markdown",
      "metadata": {
        "id": "xhnN9jaa1Pi9"
      },
      "source": [
        "### PARTE II - O YIN\n",
        "[17 - Modelos Preditivos 101](17-Predictive-Models-101.ipynb)\n",
        "\n",
        "[18 - Efeitos de Tratamento Heterogêneos e Personalização](18-Heterogeneous-Treatment-Effects-and-Personalization.ipynb)\n",
        "\n",
        "[19 - Avaliação de Modelos Causais](19-Evaluating-Causal-Models.ipynb)\n",
        "\n",
        "[20 - Estimadores Plug-and-Play](20-Plug-and-Play-Estimators.ipynb)\n",
        "\n",
        "[21 - Meta Aprendizes](21-Meta-Learners.ipynb)\n",
        "\n",
        "[22 - Aprendizado de Máquina Desenviesado/Ortogonal](22-Debiased-Orthogonal-Machine-Learning.ipynb)\n",
        "\n",
        "[23 - Desafios com Heterogeneidade de Efeito e Não Linearidade](23-Challenges-with-Effect-Heterogeneity-and-Nonlinearity.ipynb)\n",
        "\n",
        "[24 - A Saga da Diferença nas Diferenças](24-The-Diff-in-Diff-Saga.ipynb)\n",
        "\n",
        "[25 - Diferença nas Diferenças Sintética](25-Synthetic-Diff-in-Diff.ipynb)"
      ]
    },
    {
      "cell_type": "markdown",
      "metadata": {
        "id": "_F27xiZB3m8M"
      },
      "source": [
        "### APÊNDICE\n",
        "[Desenviesando com Ortogonalização](Debiasing-with-Orthogonalization.ipynb)\n",
        "\n",
        "[Desenviesando com Escore de Propensão](Debiasing-with-Propensity-Score.ipynb)\n",
        "\n",
        "[Quando a Predição Falha](When-Prediction-Fails.ipynb)\n",
        "\n",
        "[Por que Métricas de Predição São Perigosas para Modelos Causais](Prediction-Metrics-For-Causal-Models.ipynb)\n",
        "\n",
        "[Inferência Conformal para Controles Sintéticos](Conformal-Inference-for-Synthetic-Control.ipynb)"
      ]
    },
    {
      "cell_type": "markdown",
      "metadata": {
        "id": "8PzDrrSV3m_S"
      },
      "source": [
        "### CONTRIBUA\n",
        "[Patreon](https://www.patreon.com/causal_inference_for_the_brave_and_true)"
      ]
    },
    {
      "cell_type": "markdown",
      "metadata": {
        "id": "bmPxXyqn4Xps"
      },
      "source": [
        "---"
      ]
    }
  ],
  "metadata": {
    "colab": {
      "provenance": []
    },
    "kernelspec": {
      "display_name": "Python 3",
      "name": "python3"
    },
    "language_info": {
      "name": "python"
    }
  },
  "nbformat": 4,
  "nbformat_minor": 0
}
