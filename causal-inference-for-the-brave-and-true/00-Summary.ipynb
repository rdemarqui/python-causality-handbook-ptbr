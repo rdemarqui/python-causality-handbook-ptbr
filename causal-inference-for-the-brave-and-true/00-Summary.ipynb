{
  "nbformat": 4,
  "nbformat_minor": 0,
  "metadata": {
    "colab": {
      "provenance": []
    },
    "kernelspec": {
      "name": "python3",
      "display_name": "Python 3"
    },
    "language_info": {
      "name": "python"
    }
  },
  "cells": [
    {
      "cell_type": "markdown",
      "source": [
        "# Inferência Causal para os Corajosos e Verdadeiros"
      ],
      "metadata": {
        "id": "MydAsTu-1Mtp"
      }
    },
    {
      "cell_type": "markdown",
      "source": [
        "## Sumário"
      ],
      "metadata": {
        "id": "YzH4k_Ze1PcG"
      }
    },
    {
      "cell_type": "markdown",
      "source": [
        "### PARTE I - O YANG\n",
        "\n",
        "[01 - Introdução à Causalidade](01-Introduction-To-Causality.ipynb)\n",
        "\n",
        "[02 - Experimentos Randomizados](02-Randomised-Experiments.ipynb)\n",
        "\n",
        "[03 - Revisão Estatística: A Equação Mais Perigosa](03-Stats-Review-The-Most-Dangerous-Equation.ipynb)\n",
        "\n",
        "[04 - Modelos Causais Gráficos](04-Graphical-Causal-Models.ipynb)\n",
        "\n",
        "[05 - A Eficácia Injustificada da Regressão Linear](05-The-Unreasonable-Effectiveness-of-Linear-Regression.ipynb)\n",
        "\n",
        "[06 - Regressão Agrupada e Dummy](06-Grouped-and-Dummy-Regression.ipynb)\n",
        "\n",
        "[07 - Além dos Confundidores](07-Beyond-Confounders.ipynb)\n",
        "\n",
        "[08 - Variáveis Instrumentais](08-Instrumental-Variables.ipynb)\n",
        "\n",
        "[09 - Não Conformidade e LATE](09-Non-Compliance-and-LATE.ipynb)\n",
        "\n",
        "[10 - Emparelhamento](10-Matching.ipynb)\n",
        "\n",
        "[11 - Escore de Propensão](11-Propensity-Score.ipynb)\n",
        "\n",
        "[12 - Estimação Duplamente Robusta](12-Doubly-Robust-Estimation.ipynb)\n",
        "\n",
        "[13 - Diferença nas Diferenças](12-Doubly-Robust-Estimation.ipynb)\n",
        "\n",
        "[14 - Dados em Painel e Efeitos Fixos](14-Panel-Data-and-Fixed-Effects.ipynb)\n",
        "\n",
        "[15 - Controle Sintético](15-Synthetic-Control.ipynb)\n",
        "\n",
        "[16 - Desenho de Descontinuidade na Regressão](16-Regression-Discontinuity-Design.ipynb)"
      ],
      "metadata": {
        "id": "Z02J39-R2lp0"
      }
    },
    {
      "cell_type": "markdown",
      "source": [
        "### PARTE II - O YIN\n",
        "[17 - Modelos Preditivos 101](17-Predictive-Models-101.ipynb)\n",
        "\n",
        "[18 - Efeitos de Tratamento Heterogêneos e Personalização](18-Heterogeneous-Treatment-Effects-and-Personalization.ipynb)\n",
        "\n",
        "[19 - Avaliação de Modelos Causais](19-Evaluating-Causal-Models.ipynb)\n",
        "\n",
        "[20 - Estimadores Plug-and-Play](20-Plug-and-Play-Estimators.ipynb)\n",
        "\n",
        "[21 - Meta Aprendizes](21-Meta-Learners.ipynb)\n",
        "\n",
        "[22 - Aprendizado de Máquina Desenviesado/Ortogonal](22-Debiased-Orthogonal-Machine-Learning.ipynb)\n",
        "\n",
        "[23 - Desafios com Heterogeneidade de Efeito e Não Linearidade](23-Challenges-with-Effect-Heterogeneity-and-Nonlinearity.ipynb)\n",
        "\n",
        "[24 - A Saga da Diferença nas Diferenças](24-The-Diff-in-Diff-Saga.ipynb)\n",
        "\n",
        "[25 - Diferença nas Diferenças Sintética](25-Synthetic-Diff-in-Diff.ipynb)"
      ],
      "metadata": {
        "id": "xhnN9jaa1Pi9"
      }
    },
    {
      "cell_type": "markdown",
      "source": [
        "### APÊNDICE\n",
        "[Desenviesando com Ortogonalização](Debiasing-with-Orthogonalization.ipynb)\n",
        "\n",
        "[Desenviesando com Escore de Propensão](Debiasing-with-Propensity-Score.ipynb)\n",
        "\n",
        "[Quando a Predição Falha](When-Prediction-Fails.ipynb)\n",
        "\n",
        "[Por que Métricas de Predição São Perigosas para Modelos Causais](Prediction-Metrics-For-Causal-Models.ipynb)\n",
        "\n",
        "[Inferência Conformal para Controles Sintéticos](Conformal-Inference-for-Synthetic-Control.ipynb)"
      ],
      "metadata": {
        "id": "_F27xiZB3m8M"
      }
    },
    {
      "cell_type": "markdown",
      "source": [
        "### CONTRIBUA\n",
        "[Patreon](https://www.patreon.com/causal_inference_for_the_brave_and_true)"
      ],
      "metadata": {
        "id": "8PzDrrSV3m_S"
      }
    },
    {
      "cell_type": "markdown",
      "source": [
        "---"
      ],
      "metadata": {
        "id": "bmPxXyqn4Xps"
      }
    }
  ]
}
